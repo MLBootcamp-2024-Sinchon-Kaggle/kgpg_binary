{
 "cells": [
  {
   "cell_type": "code",
   "execution_count": null,
   "metadata": {},
   "outputs": [],
   "source": [
    "import pyautogui\n",
    "import time\n",
    "import threading\n",
    "\n",
    "# 전역 변수로 종료 신호 객체 생성\n",
    "stop_event = threading.Event()\n",
    "\n",
    "# 절전 방지 함수\n",
    "def prevent_sleep():\n",
    "    while not stop_event.is_set(): \n",
    "        pyautogui.move(0, 1)  # 커서를 1 픽셀 이동\n",
    "        time.sleep(600)\n",
    "        pyautogui.move(0, -1) # 커서를 원래 위치로 이동\n",
    "        time.sleep(600)\n",
    "# 절전 방지 스레드 시작\n",
    "sleep_thread = threading.Thread(target=prevent_sleep)\n",
    "sleep_thread.daemon = True  # 프로그램 종료 시 함께 종료되도록 설정\n",
    "sleep_thread.start()\n",
    "\n",
    "for i in range(12):\n",
    "    print(\"\\nlooping in \", i)\n",
    "    h_num = 1\n",
    "    m_num = h_num*60\n",
    "    s = m_num*60\n",
    "    time.sleep(s)\n",
    "\n",
    "# 모델 학습 후\n",
    "stop_event.set()  # 스레드 종료 신호 설정\n",
    "sleep_thread.join()  # 스레드가 종료될 때까지 대기\n",
    "\n",
    "print(\"it's all done\")"
   ]
  },
  {
   "cell_type": "code",
   "execution_count": 8,
   "metadata": {},
   "outputs": [
    {
     "name": "stdout",
     "output_type": "stream",
     "text": [
      "PhysMem: 34G used (2603M wired, 0B compressor), 683M unused.\n"
     ]
    }
   ],
   "source": [
    "!top -l 1 | awk '/PhysMem/'"
   ]
  },
  {
   "cell_type": "code",
   "execution_count": 14,
   "metadata": {},
   "outputs": [
    {
     "name": "stdout",
     "output_type": "stream",
     "text": [
      "CPU Usage: 4.77%\n",
      "RAM_usage: 99.39%\n"
     ]
    }
   ],
   "source": [
    "import subprocess\n",
    "\n",
    "# top 명령 실행 및 결과 가져오기\n",
    "cpu_info = get_ipython().getoutput(\"top -l 1 | awk '/CPU usage/ {print $3}'\")\n",
    "\n",
    "# CPU 사용률 정보 파싱\n",
    "# 예시: '45.0%'\n",
    "cpu_usage_str = cpu_info[0].replace('%', '')\n",
    "\n",
    "# CPU 사용률 계산\n",
    "CPU_usage = float(cpu_usage_str)\n",
    "print(f\"CPU Usage: {CPU_usage:.2f}%\")\n",
    "\n",
    "# top 명령 실행 및 결과 가져오기\n",
    "memory_info = get_ipython().getoutput(\"top -l 1 | awk '/PhysMem/'\")\n",
    "\n",
    "# memory_info는 리스트 형태로 반환되므로, 첫 번째 요소를 사용\n",
    "memory_info_str = memory_info[0]\n",
    "\n",
    "# 메모리 정보 파싱\n",
    "# 예시: 'PhysMem: 34G used (2603M wired, 0B compressor), 683M unused.'\n",
    "parts = memory_info_str.replace(',', '').split()\n",
    "\n",
    "# 사용된 메모리와 사용되지 않은 메모리 값을 가져오기\n",
    "used_memory_str = parts[1].replace('G', '000') if 'G' in parts[1] else parts[1].replace('M', '')\n",
    "unused_memory_str = parts[-2].replace('G', '000') if 'G' in parts[-2] else parts[-2].replace('M', '')\n",
    "\n",
    "used_memory = int(used_memory_str)\n",
    "unused_memory = int(unused_memory_str)\n",
    "total_memory = used_memory + unused_memory\n",
    "\n",
    "# RAM 사용률 계산\n",
    "RAM_usage = used_memory / total_memory * 100\n",
    "print(f\"RAM_usage: {RAM_usage:.2f}%\")\n"
   ]
  },
  {
   "cell_type": "code",
   "execution_count": 82,
   "metadata": {},
   "outputs": [
    {
     "data": {
      "text/plain": [
       "CompletedProcess(args=['say', '-v', 'Daniel', 'Process complete'], returncode=0)"
      ]
     },
     "execution_count": 82,
     "metadata": {},
     "output_type": "execute_result"
    }
   ],
   "source": [
    "import subprocess\n",
    "\n",
    "# 'Karen'과 'Daniel'이 괜찮음\n",
    "# 합성음을 재생하여 알림\n",
    "subprocess.run(['say', '-v', 'Karen', 'Process complete'])\n",
    "subprocess.run(['say', '-v', 'Daniel', 'Process complete'])"
   ]
  },
  {
   "cell_type": "code",
   "execution_count": 63,
   "metadata": {},
   "outputs": [
    {
     "data": {
      "text/html": [
       "<div>\n",
       "<style scoped>\n",
       "    .dataframe tbody tr th:only-of-type {\n",
       "        vertical-align: middle;\n",
       "    }\n",
       "\n",
       "    .dataframe tbody tr th {\n",
       "        vertical-align: top;\n",
       "    }\n",
       "\n",
       "    .dataframe thead th {\n",
       "        text-align: right;\n",
       "    }\n",
       "</style>\n",
       "<table border=\"1\" class=\"dataframe\">\n",
       "  <thead>\n",
       "    <tr style=\"text-align: right;\">\n",
       "      <th></th>\n",
       "      <th>country</th>\n",
       "      <th>name</th>\n",
       "      <th>example</th>\n",
       "    </tr>\n",
       "  </thead>\n",
       "  <tbody>\n",
       "    <tr>\n",
       "      <th>0</th>\n",
       "      <td>en_US</td>\n",
       "      <td>Alex</td>\n",
       "      <td>Most people recognize me by my voice.</td>\n",
       "    </tr>\n",
       "    <tr>\n",
       "      <th>1</th>\n",
       "      <td>it_IT</td>\n",
       "      <td>Alice</td>\n",
       "      <td>Salve, mi chiamo Alice e sono una voce italiana.</td>\n",
       "    </tr>\n",
       "    <tr>\n",
       "      <th>2</th>\n",
       "      <td>sv_SE</td>\n",
       "      <td>Alva</td>\n",
       "      <td>Hej, jag heter Alva. Jag är en svensk röst.</td>\n",
       "    </tr>\n",
       "    <tr>\n",
       "      <th>3</th>\n",
       "      <td>fr_CA</td>\n",
       "      <td>Amelie</td>\n",
       "      <td>Bonjour, je m’appelle Amelie. Je suis une voi...</td>\n",
       "    </tr>\n",
       "    <tr>\n",
       "      <th>4</th>\n",
       "      <td>de_DE</td>\n",
       "      <td>Anna</td>\n",
       "      <td>Hallo, ich heiße Anna und ich bin eine deutsc...</td>\n",
       "    </tr>\n",
       "    <tr>\n",
       "      <th>5</th>\n",
       "      <td>he_IL</td>\n",
       "      <td>Carmit</td>\n",
       "      <td>שלום. קוראים לי כרמית, ואני קול בשפה העברית.</td>\n",
       "    </tr>\n",
       "    <tr>\n",
       "      <th>6</th>\n",
       "      <td>id_ID</td>\n",
       "      <td>Damayanti</td>\n",
       "      <td>Halo, nama saya Damayanti. Saya berbahasa Ind...</td>\n",
       "    </tr>\n",
       "    <tr>\n",
       "      <th>7</th>\n",
       "      <td>en_GB</td>\n",
       "      <td>Daniel</td>\n",
       "      <td>Hello, my name is Daniel. I am a British-Engl...</td>\n",
       "    </tr>\n",
       "    <tr>\n",
       "      <th>8</th>\n",
       "      <td>es_AR</td>\n",
       "      <td>Diego</td>\n",
       "      <td>Hola, me llamo Diego y soy una voz española.</td>\n",
       "    </tr>\n",
       "    <tr>\n",
       "      <th>9</th>\n",
       "      <td>nl_BE</td>\n",
       "      <td>Ellen</td>\n",
       "      <td>Hallo, mijn naam is Ellen. Ik ben een Belgisc...</td>\n",
       "    </tr>\n",
       "  </tbody>\n",
       "</table>\n",
       "</div>"
      ],
      "text/plain": [
       "  country       name                                            example\n",
       "0   en_US       Alex              Most people recognize me by my voice.\n",
       "1   it_IT      Alice   Salve, mi chiamo Alice e sono una voce italiana.\n",
       "2   sv_SE       Alva        Hej, jag heter Alva. Jag är en svensk röst.\n",
       "3   fr_CA     Amelie   Bonjour, je m’appelle Amelie. Je suis une voi...\n",
       "4   de_DE       Anna   Hallo, ich heiße Anna und ich bin eine deutsc...\n",
       "5   he_IL     Carmit       שלום. קוראים לי כרמית, ואני קול בשפה העברית.\n",
       "6   id_ID  Damayanti   Halo, nama saya Damayanti. Saya berbahasa Ind...\n",
       "7   en_GB     Daniel   Hello, my name is Daniel. I am a British-Engl...\n",
       "8   es_AR      Diego       Hola, me llamo Diego y soy una voz española.\n",
       "9   nl_BE      Ellen   Hallo, mijn naam is Ellen. Ik ben een Belgisc..."
      ]
     },
     "execution_count": 63,
     "metadata": {},
     "output_type": "execute_result"
    }
   ],
   "source": [
    "voice = !say -v '?'\n",
    "\n",
    "import pandas as pd\n",
    "voice = pd.DataFrame(voice, columns=['str'])\n",
    "\n",
    "# '이름', '국가', '예문' 열로 분리\n",
    "voice[['name', 'example']] = voice['str'].str.split(' ', n=1, expand=True)\n",
    "voice[['country', 'example']] = voice['example'].str.split('#', n=1, expand=True)\n",
    "\n",
    "# 'country'에서 공백 제거\n",
    "voice['country'] = voice['country'].str.strip()\n",
    "\n",
    "# 'str','example' 변수 제거\n",
    "voice.drop(columns=['str'], inplace=True)\n",
    "\n",
    "# 변수 순서변경\n",
    "voice = voice.reindex(columns=['country', 'name', 'example'])\n",
    "voice.head(10)\n"
   ]
  },
  {
   "cell_type": "code",
   "execution_count": 65,
   "metadata": {},
   "outputs": [
    {
     "name": "stdout",
     "output_type": "stream",
     "text": [
      "['en_US' 'it_IT' 'sv_SE' 'fr_CA' 'de_DE' 'he_IL' 'id_ID' 'en_GB' 'es_AR'\n",
      " 'nl_BE' 'en-scotland' 'ro_RO' 'pt_PT' 'es_ES' 'es_MX' 'th_TH' 'en_AU'\n",
      " 'ja_JP' 'sk_SK' 'hi_IN' 'pt_BR' 'ar_SA' 'hu_HU' 'zh_TW' 'el_GR' 'ru_RU'\n",
      " 'en_IE' 'nb_NO' 'en_IN' 'da_DK' 'fi_FI' 'zh_HK' 'en_ZA' 'fr_FR' 'zh_CN'\n",
      " 'nl_NL' 'tr_TR' 'ko_KR' 'pl_PL' 'cs_CZ']\n"
     ]
    }
   ],
   "source": [
    "print(voice['country'].unique())"
   ]
  },
  {
   "cell_type": "code",
   "execution_count": 70,
   "metadata": {},
   "outputs": [
    {
     "data": {
      "text/html": [
       "<div>\n",
       "<style scoped>\n",
       "    .dataframe tbody tr th:only-of-type {\n",
       "        vertical-align: middle;\n",
       "    }\n",
       "\n",
       "    .dataframe tbody tr th {\n",
       "        vertical-align: top;\n",
       "    }\n",
       "\n",
       "    .dataframe thead th {\n",
       "        text-align: right;\n",
       "    }\n",
       "</style>\n",
       "<table border=\"1\" class=\"dataframe\">\n",
       "  <thead>\n",
       "    <tr style=\"text-align: right;\">\n",
       "      <th></th>\n",
       "      <th>country</th>\n",
       "      <th>name</th>\n",
       "      <th>example</th>\n",
       "    </tr>\n",
       "  </thead>\n",
       "  <tbody>\n",
       "    <tr>\n",
       "      <th>44</th>\n",
       "      <td>ko_KR</td>\n",
       "      <td>Yuna</td>\n",
       "      <td>안녕하세요. 제 이름은 Yuna입니다. 저는 한국어 음성입니다.</td>\n",
       "    </tr>\n",
       "  </tbody>\n",
       "</table>\n",
       "</div>"
      ],
      "text/plain": [
       "   country  name                               example\n",
       "44   ko_KR  Yuna   안녕하세요. 제 이름은 Yuna입니다. 저는 한국어 음성입니다."
      ]
     },
     "execution_count": 70,
     "metadata": {},
     "output_type": "execute_result"
    }
   ],
   "source": [
    "voice[voice['country']=='ko_KR']"
   ]
  },
  {
   "cell_type": "code",
   "execution_count": 100,
   "metadata": {},
   "outputs": [
    {
     "data": {
      "text/plain": [
       "CompletedProcess(args=['say', '-v', 'Kyoko', '寝ようか。'], returncode=0)"
      ]
     },
     "execution_count": 100,
     "metadata": {},
     "output_type": "execute_result"
    }
   ],
   "source": [
    "import subprocess\n",
    "\n",
    "subprocess.run(['say', '-v', 'Kyoko', 'プロセスが完了しました。'])"
   ]
  },
  {
   "cell_type": "code",
   "execution_count": null,
   "metadata": {},
   "outputs": [],
   "source": [
    "subprocess.run(['say', '-v', 'Yuna', '재밌으니깐'])"
   ]
  },
  {
   "cell_type": "code",
   "execution_count": null,
   "metadata": {},
   "outputs": [],
   "source": [
    "subprocess.run(['say', '-v', 'Yuna', '모델학습이, 드디어 끝났도다'])\n",
    "subprocess.run(['say', '-v', 'Yuna', '서브미션 파일 저장까지 끝났다, 크하'])"
   ]
  },
  {
   "cell_type": "code",
   "execution_count": 6,
   "metadata": {},
   "outputs": [
    {
     "name": "stdout",
     "output_type": "stream",
     "text": [
      "Collecting playsound\n",
      "  Downloading playsound-1.3.0.tar.gz (7.7 kB)\n",
      "  Preparing metadata (setup.py) ... \u001b[?25ldone\n",
      "\u001b[?25hBuilding wheels for collected packages: playsound\n",
      "  Building wheel for playsound (setup.py) ... \u001b[?25ldone\n",
      "\u001b[?25h  Created wheel for playsound: filename=playsound-1.3.0-py3-none-any.whl size=7019 sha256=941674a3d5312c8de3964a99a5e2b336dbf66ae53af42bbb644515e06acd1a3c\n",
      "  Stored in directory: /Users/jaesolshin/Library/Caches/pip/wheels/cf/42/ff/7c587bae55eec67b909ca316b250d9b4daedbf272a3cbeb907\n",
      "Successfully built playsound\n",
      "Installing collected packages: playsound\n",
      "Successfully installed playsound-1.3.0\n",
      "Note: you may need to restart the kernel to use updated packages.\n"
     ]
    }
   ],
   "source": [
    "pip install playsound"
   ]
  },
  {
   "cell_type": "code",
   "execution_count": 8,
   "metadata": {},
   "outputs": [],
   "source": [
    "from gtts import gTTS\n",
    "from playsound import playsound\n",
    "\n",
    "# テキストを音声に変換\n",
    "tts = gTTS(text=\"プロセスが完了しました。\", lang='ja')\n",
    "audio_file = \"hello.mp3\"\n",
    "tts.save(audio_file)\n",
    "\n",
    "# 音声ファイルを再生\n",
    "playsound(audio_file)\n"
   ]
  },
  {
   "cell_type": "code",
   "execution_count": 31,
   "metadata": {},
   "outputs": [
    {
     "name": "stdout",
     "output_type": "stream",
     "text": [
      "2\n"
     ]
    }
   ],
   "source": [
    "import numpy as np\n",
    "\n",
    "np.random.seed(3)  # 무작위성 재현을 위해 시드 고정\n",
    "probs = np.array([0.1, 0.0, 0.7, 0.2])  # 각 요소에 대한 확률 분포\n",
    "idx = np.random.choice(range(len(probs)), p=probs)\n",
    "print(idx)  # 확률에 따라 선택된 인덱스 출력"
   ]
  }
 ],
 "metadata": {
  "kernelspec": {
   "display_name": "Python 3",
   "language": "python",
   "name": "python3"
  },
  "language_info": {
   "codemirror_mode": {
    "name": "ipython",
    "version": 3
   },
   "file_extension": ".py",
   "mimetype": "text/x-python",
   "name": "python",
   "nbconvert_exporter": "python",
   "pygments_lexer": "ipython3",
   "version": "3.12.4"
  }
 },
 "nbformat": 4,
 "nbformat_minor": 2
}
