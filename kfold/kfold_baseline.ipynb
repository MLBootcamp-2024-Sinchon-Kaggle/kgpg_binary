{
  "cells": [
    {
      "cell_type": "code",
      "execution_count": 1,
      "metadata": {
        "id": "zL_HRPhRIFGr"
      },
      "outputs": [],
      "source": [
        "import numpy as np\n",
        "import pandas as pd\n",
        "from sklearn.model_selection import train_test_split\n",
        "import matplotlib.pyplot as plt\n",
        "from sklearn.preprocessing import StandardScaler, MinMaxScaler, RobustScaler\n",
        "from sklearn.metrics import roc_auc_score\n",
        "from sklearn.model_selection import StratifiedKFold\n",
        "from tqdm import tqdm"
      ]
    },
    {
      "cell_type": "code",
      "execution_count": 2,
      "metadata": {
        "id": "n1d2lph3Is7a"
      },
      "outputs": [],
      "source": [
        "train = pd.read_csv('/Users/jaesolshin/내 드라이브/2024-2/Google ML Bootcamp2024/data/playground1/train.csv')\n",
        "train = train.sample(frac=0.01, random_state = 42)"
      ]
    },
    {
      "cell_type": "code",
      "execution_count": 3,
      "metadata": {
        "colab": {
          "base_uri": "https://localhost:8080/",
          "height": 238
        },
        "id": "EmyyXlyPIzX5",
        "outputId": "cac5ba39-28e2-4783-cf61-f95a59df00da"
      },
      "outputs": [
        {
          "data": {
            "text/html": [
              "<div>\n",
              "<style scoped>\n",
              "    .dataframe tbody tr th:only-of-type {\n",
              "        vertical-align: middle;\n",
              "    }\n",
              "\n",
              "    .dataframe tbody tr th {\n",
              "        vertical-align: top;\n",
              "    }\n",
              "\n",
              "    .dataframe thead th {\n",
              "        text-align: right;\n",
              "    }\n",
              "</style>\n",
              "<table border=\"1\" class=\"dataframe\">\n",
              "  <thead>\n",
              "    <tr style=\"text-align: right;\">\n",
              "      <th></th>\n",
              "      <th>id</th>\n",
              "      <th>Gender</th>\n",
              "      <th>Age</th>\n",
              "      <th>Driving_License</th>\n",
              "      <th>Region_Code</th>\n",
              "      <th>Previously_Insured</th>\n",
              "      <th>Vehicle_Age</th>\n",
              "      <th>Vehicle_Damage</th>\n",
              "      <th>Annual_Premium</th>\n",
              "      <th>Policy_Sales_Channel</th>\n",
              "      <th>Vintage</th>\n",
              "      <th>Response</th>\n",
              "    </tr>\n",
              "  </thead>\n",
              "  <tbody>\n",
              "    <tr>\n",
              "      <th>2899125</th>\n",
              "      <td>2899125</td>\n",
              "      <td>Female</td>\n",
              "      <td>41</td>\n",
              "      <td>1</td>\n",
              "      <td>28.0</td>\n",
              "      <td>0</td>\n",
              "      <td>1-2 Year</td>\n",
              "      <td>Yes</td>\n",
              "      <td>29590.0</td>\n",
              "      <td>157.0</td>\n",
              "      <td>46</td>\n",
              "      <td>0</td>\n",
              "    </tr>\n",
              "    <tr>\n",
              "      <th>3854901</th>\n",
              "      <td>3854901</td>\n",
              "      <td>Female</td>\n",
              "      <td>40</td>\n",
              "      <td>1</td>\n",
              "      <td>28.0</td>\n",
              "      <td>0</td>\n",
              "      <td>1-2 Year</td>\n",
              "      <td>Yes</td>\n",
              "      <td>42910.0</td>\n",
              "      <td>13.0</td>\n",
              "      <td>245</td>\n",
              "      <td>0</td>\n",
              "    </tr>\n",
              "    <tr>\n",
              "      <th>7377384</th>\n",
              "      <td>7377384</td>\n",
              "      <td>Male</td>\n",
              "      <td>31</td>\n",
              "      <td>1</td>\n",
              "      <td>18.0</td>\n",
              "      <td>0</td>\n",
              "      <td>&lt; 1 Year</td>\n",
              "      <td>Yes</td>\n",
              "      <td>30375.0</td>\n",
              "      <td>152.0</td>\n",
              "      <td>31</td>\n",
              "      <td>0</td>\n",
              "    </tr>\n",
              "    <tr>\n",
              "      <th>10901782</th>\n",
              "      <td>10901782</td>\n",
              "      <td>Female</td>\n",
              "      <td>24</td>\n",
              "      <td>1</td>\n",
              "      <td>37.0</td>\n",
              "      <td>1</td>\n",
              "      <td>&lt; 1 Year</td>\n",
              "      <td>No</td>\n",
              "      <td>2630.0</td>\n",
              "      <td>152.0</td>\n",
              "      <td>217</td>\n",
              "      <td>0</td>\n",
              "    </tr>\n",
              "    <tr>\n",
              "      <th>8099641</th>\n",
              "      <td>8099641</td>\n",
              "      <td>Male</td>\n",
              "      <td>33</td>\n",
              "      <td>1</td>\n",
              "      <td>28.0</td>\n",
              "      <td>1</td>\n",
              "      <td>1-2 Year</td>\n",
              "      <td>No</td>\n",
              "      <td>45224.0</td>\n",
              "      <td>124.0</td>\n",
              "      <td>286</td>\n",
              "      <td>0</td>\n",
              "    </tr>\n",
              "  </tbody>\n",
              "</table>\n",
              "</div>"
            ],
            "text/plain": [
              "                id  Gender  Age  Driving_License  Region_Code  \\\n",
              "2899125    2899125  Female   41                1         28.0   \n",
              "3854901    3854901  Female   40                1         28.0   \n",
              "7377384    7377384    Male   31                1         18.0   \n",
              "10901782  10901782  Female   24                1         37.0   \n",
              "8099641    8099641    Male   33                1         28.0   \n",
              "\n",
              "          Previously_Insured Vehicle_Age Vehicle_Damage  Annual_Premium  \\\n",
              "2899125                    0    1-2 Year            Yes         29590.0   \n",
              "3854901                    0    1-2 Year            Yes         42910.0   \n",
              "7377384                    0    < 1 Year            Yes         30375.0   \n",
              "10901782                   1    < 1 Year             No          2630.0   \n",
              "8099641                    1    1-2 Year             No         45224.0   \n",
              "\n",
              "          Policy_Sales_Channel  Vintage  Response  \n",
              "2899125                  157.0       46         0  \n",
              "3854901                   13.0      245         0  \n",
              "7377384                  152.0       31         0  \n",
              "10901782                 152.0      217         0  \n",
              "8099641                  124.0      286         0  "
            ]
          },
          "execution_count": 3,
          "metadata": {},
          "output_type": "execute_result"
        }
      ],
      "source": [
        "train.head()"
      ]
    },
    {
      "cell_type": "code",
      "execution_count": 4,
      "metadata": {
        "id": "pJD-k-7CKvXs"
      },
      "outputs": [
        {
          "name": "stderr",
          "output_type": "stream",
          "text": [
            "/Library/Frameworks/Python.framework/Versions/3.12/lib/python3.12/site-packages/pandas/core/arraylike.py:396: RuntimeWarning: invalid value encountered in log1p\n",
            "  result = getattr(ufunc, method)(*inputs, **kwargs)\n"
          ]
        }
      ],
      "source": [
        "# 범주형 변수를 팩터로 변환 (카테고리형)\n",
        "train.iloc[:,[1,3,4,5,6,7,9]] = train.iloc[:,[1,3,4,5,6,7,9]].astype('category')\n",
        "\n",
        "# 최소-최대 정규화 (Min-Max 스케일링)\n",
        "scaler = StandardScaler()\n",
        "train.iloc[:,[2,8,10]] = scaler.fit_transform(train.iloc[:,[2,8,10]])\n",
        "\n",
        "# 이분변수 생성: \"Annual_Premium\" == 2630.0 인 경우\n",
        "train['Annual_Premium_Binary'] = (train['Annual_Premium'] == 2630.0).astype('category')\n",
        "\n",
        "# 로그 변환된 \"Annual_Premium\" 변수 생성\n",
        "train['Annual_Premium_Log'] = np.where(train['Annual_Premium'] > 0, np.log1p(train['Annual_Premium']), 0)\n",
        "\n",
        "# 예측에 필요 없는 'id'와 'Annual_Premium' 변수를 드롭\n",
        "train = train.drop(columns=['id', 'Annual_Premium'])\n",
        "\n",
        "# 원-핫 인코딩 (One-Hot Encoding)\n",
        "category_columns = ['Gender', 'Driving_License', 'Region_Code', 'Previously_Insured', 'Vehicle_Age', 'Vehicle_Damage', 'Policy_Sales_Channel', 'Annual_Premium_Binary']\n",
        "train = pd.get_dummies(train, columns=category_columns, drop_first=True, dtype=int)\n",
        "\n",
        "# XGBoost에서 발생하는 문제 해결\n",
        "train.columns = train.columns.str.replace('[', '').str.replace(']', '').str.replace('<', '')"
      ]
    },
    {
      "cell_type": "code",
      "execution_count": 5,
      "metadata": {
        "colab": {
          "base_uri": "https://localhost:8080/",
          "height": 238
        },
        "id": "7Vp0k9QuMtLa",
        "outputId": "e6c1308c-3872-4381-ba6c-2ff89cf91f80"
      },
      "outputs": [
        {
          "data": {
            "text/html": [
              "<div>\n",
              "<style scoped>\n",
              "    .dataframe tbody tr th:only-of-type {\n",
              "        vertical-align: middle;\n",
              "    }\n",
              "\n",
              "    .dataframe tbody tr th {\n",
              "        vertical-align: top;\n",
              "    }\n",
              "\n",
              "    .dataframe thead th {\n",
              "        text-align: right;\n",
              "    }\n",
              "</style>\n",
              "<table border=\"1\" class=\"dataframe\">\n",
              "  <thead>\n",
              "    <tr style=\"text-align: right;\">\n",
              "      <th></th>\n",
              "      <th>Age</th>\n",
              "      <th>Vintage</th>\n",
              "      <th>Response</th>\n",
              "      <th>Annual_Premium_Log</th>\n",
              "      <th>Gender_Male</th>\n",
              "      <th>Driving_License_1</th>\n",
              "      <th>Region_Code_1.0</th>\n",
              "      <th>Region_Code_2.0</th>\n",
              "      <th>Region_Code_3.0</th>\n",
              "      <th>Region_Code_4.0</th>\n",
              "      <th>...</th>\n",
              "      <th>Policy_Sales_Channel_152.0</th>\n",
              "      <th>Policy_Sales_Channel_153.0</th>\n",
              "      <th>Policy_Sales_Channel_154.0</th>\n",
              "      <th>Policy_Sales_Channel_155.0</th>\n",
              "      <th>Policy_Sales_Channel_156.0</th>\n",
              "      <th>Policy_Sales_Channel_157.0</th>\n",
              "      <th>Policy_Sales_Channel_158.0</th>\n",
              "      <th>Policy_Sales_Channel_159.0</th>\n",
              "      <th>Policy_Sales_Channel_160.0</th>\n",
              "      <th>Policy_Sales_Channel_163.0</th>\n",
              "    </tr>\n",
              "  </thead>\n",
              "  <tbody>\n",
              "    <tr>\n",
              "      <th>2899125</th>\n",
              "      <td>0.173456</td>\n",
              "      <td>-1.475200</td>\n",
              "      <td>0</td>\n",
              "      <td>0.000000</td>\n",
              "      <td>0</td>\n",
              "      <td>1</td>\n",
              "      <td>0</td>\n",
              "      <td>0</td>\n",
              "      <td>0</td>\n",
              "      <td>0</td>\n",
              "      <td>...</td>\n",
              "      <td>0</td>\n",
              "      <td>0</td>\n",
              "      <td>0</td>\n",
              "      <td>0</td>\n",
              "      <td>0</td>\n",
              "      <td>1</td>\n",
              "      <td>0</td>\n",
              "      <td>0</td>\n",
              "      <td>0</td>\n",
              "      <td>0</td>\n",
              "    </tr>\n",
              "    <tr>\n",
              "      <th>3854901</th>\n",
              "      <td>0.106775</td>\n",
              "      <td>1.012496</td>\n",
              "      <td>0</td>\n",
              "      <td>0.563943</td>\n",
              "      <td>0</td>\n",
              "      <td>1</td>\n",
              "      <td>0</td>\n",
              "      <td>0</td>\n",
              "      <td>0</td>\n",
              "      <td>0</td>\n",
              "      <td>...</td>\n",
              "      <td>0</td>\n",
              "      <td>0</td>\n",
              "      <td>0</td>\n",
              "      <td>0</td>\n",
              "      <td>0</td>\n",
              "      <td>0</td>\n",
              "      <td>0</td>\n",
              "      <td>0</td>\n",
              "      <td>0</td>\n",
              "      <td>0</td>\n",
              "    </tr>\n",
              "    <tr>\n",
              "      <th>7377384</th>\n",
              "      <td>-0.493359</td>\n",
              "      <td>-1.662715</td>\n",
              "      <td>0</td>\n",
              "      <td>0.000000</td>\n",
              "      <td>1</td>\n",
              "      <td>1</td>\n",
              "      <td>0</td>\n",
              "      <td>0</td>\n",
              "      <td>0</td>\n",
              "      <td>0</td>\n",
              "      <td>...</td>\n",
              "      <td>1</td>\n",
              "      <td>0</td>\n",
              "      <td>0</td>\n",
              "      <td>0</td>\n",
              "      <td>0</td>\n",
              "      <td>0</td>\n",
              "      <td>0</td>\n",
              "      <td>0</td>\n",
              "      <td>0</td>\n",
              "      <td>0</td>\n",
              "    </tr>\n",
              "    <tr>\n",
              "      <th>10901782</th>\n",
              "      <td>-0.960129</td>\n",
              "      <td>0.662468</td>\n",
              "      <td>0</td>\n",
              "      <td>0.000000</td>\n",
              "      <td>0</td>\n",
              "      <td>1</td>\n",
              "      <td>0</td>\n",
              "      <td>0</td>\n",
              "      <td>0</td>\n",
              "      <td>0</td>\n",
              "      <td>...</td>\n",
              "      <td>1</td>\n",
              "      <td>0</td>\n",
              "      <td>0</td>\n",
              "      <td>0</td>\n",
              "      <td>0</td>\n",
              "      <td>0</td>\n",
              "      <td>0</td>\n",
              "      <td>0</td>\n",
              "      <td>0</td>\n",
              "      <td>0</td>\n",
              "    </tr>\n",
              "    <tr>\n",
              "      <th>8099641</th>\n",
              "      <td>-0.359996</td>\n",
              "      <td>1.525037</td>\n",
              "      <td>0</td>\n",
              "      <td>0.641059</td>\n",
              "      <td>1</td>\n",
              "      <td>1</td>\n",
              "      <td>0</td>\n",
              "      <td>0</td>\n",
              "      <td>0</td>\n",
              "      <td>0</td>\n",
              "      <td>...</td>\n",
              "      <td>0</td>\n",
              "      <td>0</td>\n",
              "      <td>0</td>\n",
              "      <td>0</td>\n",
              "      <td>0</td>\n",
              "      <td>0</td>\n",
              "      <td>0</td>\n",
              "      <td>0</td>\n",
              "      <td>0</td>\n",
              "      <td>0</td>\n",
              "    </tr>\n",
              "  </tbody>\n",
              "</table>\n",
              "<p>5 rows × 179 columns</p>\n",
              "</div>"
            ],
            "text/plain": [
              "               Age   Vintage  Response  Annual_Premium_Log  Gender_Male  \\\n",
              "2899125   0.173456 -1.475200         0            0.000000            0   \n",
              "3854901   0.106775  1.012496         0            0.563943            0   \n",
              "7377384  -0.493359 -1.662715         0            0.000000            1   \n",
              "10901782 -0.960129  0.662468         0            0.000000            0   \n",
              "8099641  -0.359996  1.525037         0            0.641059            1   \n",
              "\n",
              "          Driving_License_1  Region_Code_1.0  Region_Code_2.0  \\\n",
              "2899125                   1                0                0   \n",
              "3854901                   1                0                0   \n",
              "7377384                   1                0                0   \n",
              "10901782                  1                0                0   \n",
              "8099641                   1                0                0   \n",
              "\n",
              "          Region_Code_3.0  Region_Code_4.0  ...  Policy_Sales_Channel_152.0  \\\n",
              "2899125                 0                0  ...                           0   \n",
              "3854901                 0                0  ...                           0   \n",
              "7377384                 0                0  ...                           1   \n",
              "10901782                0                0  ...                           1   \n",
              "8099641                 0                0  ...                           0   \n",
              "\n",
              "          Policy_Sales_Channel_153.0  Policy_Sales_Channel_154.0  \\\n",
              "2899125                            0                           0   \n",
              "3854901                            0                           0   \n",
              "7377384                            0                           0   \n",
              "10901782                           0                           0   \n",
              "8099641                            0                           0   \n",
              "\n",
              "          Policy_Sales_Channel_155.0  Policy_Sales_Channel_156.0  \\\n",
              "2899125                            0                           0   \n",
              "3854901                            0                           0   \n",
              "7377384                            0                           0   \n",
              "10901782                           0                           0   \n",
              "8099641                            0                           0   \n",
              "\n",
              "          Policy_Sales_Channel_157.0  Policy_Sales_Channel_158.0  \\\n",
              "2899125                            1                           0   \n",
              "3854901                            0                           0   \n",
              "7377384                            0                           0   \n",
              "10901782                           0                           0   \n",
              "8099641                            0                           0   \n",
              "\n",
              "          Policy_Sales_Channel_159.0  Policy_Sales_Channel_160.0  \\\n",
              "2899125                            0                           0   \n",
              "3854901                            0                           0   \n",
              "7377384                            0                           0   \n",
              "10901782                           0                           0   \n",
              "8099641                            0                           0   \n",
              "\n",
              "          Policy_Sales_Channel_163.0  \n",
              "2899125                            0  \n",
              "3854901                            0  \n",
              "7377384                            0  \n",
              "10901782                           0  \n",
              "8099641                            0  \n",
              "\n",
              "[5 rows x 179 columns]"
            ]
          },
          "execution_count": 5,
          "metadata": {},
          "output_type": "execute_result"
        }
      ],
      "source": [
        "train.head() "
      ]
    },
    {
      "cell_type": "code",
      "execution_count": 6,
      "metadata": {
        "id": "_Y648fCOPiqp"
      },
      "outputs": [],
      "source": [
        "X = train.drop(['Response'], axis=1)\n",
        "y = train['Response']"
      ]
    },
    {
      "cell_type": "code",
      "execution_count": 7,
      "metadata": {
        "colab": {
          "base_uri": "https://localhost:8080/"
        },
        "id": "quNcbWlzxB4d",
        "outputId": "5a45af5a-6d27-4e8a-c43f-28d6b2cc591c"
      },
      "outputs": [
        {
          "name": "stdout",
          "output_type": "stream",
          "text": [
            "(115048, 178)\n",
            "(115048,)\n"
          ]
        }
      ],
      "source": [
        "print(X.shape)\n",
        "print(y.shape)"
      ]
    },
    {
      "cell_type": "code",
      "execution_count": 8,
      "metadata": {
        "id": "9fhgjEgKXfE1"
      },
      "outputs": [],
      "source": [
        "def modeling(model, X, y):\n",
        "\n",
        "    X_train, X_test, y_train, y_test = train_test_split(X, y, test_size=0.2, random_state=42)\n",
        "\n",
        "    skf = StratifiedKFold(n_splits = 5, shuffle = True, random_state =42)\n",
        "    train_scores = []\n",
        "    valid_scores = []\n",
        "\n",
        "    for fold, (train_index, valid_index) in enumerate(tqdm(skf.split(X_train, y_train), total=skf.get_n_splits(), desc=\"Folds\"), 1):\n",
        "        X_skf_train, X_skf_valid = X_train.iloc[train_index], X_train.iloc[valid_index]\n",
        "        y_skf_train, y_skf_valid = y_train.iloc[train_index], y_train.iloc[valid_index]\n",
        "\n",
        "        scaler = MinMaxScaler()\n",
        "        X_skf_train = scaler.fit_transform(X_skf_train)\n",
        "        X_skf_valid = scaler.transform(X_skf_valid)\n",
        "\n",
        "        model.fit(X_skf_train, y_skf_train)\n",
        "\n",
        "        train_preds = model.predict_proba(X_skf_train)[:, 1]\n",
        "        train_auc = roc_auc_score(y_skf_train, train_preds)\n",
        "        train_scores.append(train_auc)\n",
        "\n",
        "        valid_preds = model.predict_proba(X_skf_valid)[:, 1]\n",
        "        valid_auc = roc_auc_score(y_skf_valid, valid_preds)\n",
        "        valid_scores.append(valid_auc)\n",
        "\n",
        "        print(f'Fold {fold}: Train ROC AUC: {train_auc:.4f}, Validation ROC AUC: {valid_auc:.4f}')\n",
        "\n",
        "    print(f'Average Train ROC AUC: {sum(train_scores)/len(train_scores):.4f}')\n",
        "    print(f'Average Validation ROC AUC: {sum(valid_scores)/len(valid_scores):.4f}')\n",
        "\n",
        "    X_test_scaled = scaler.transform(X_test)\n",
        "    test_preds = model.predict_proba(X_test_scaled)[:, 1]\n",
        "    test_auc = roc_auc_score(y_test, test_preds)\n",
        "    print(f'Test ROC AUC: {test_auc:.4f}')\n",
        "\n",
        "\n",
        "    return train_scores, valid_scores, test_auc"
      ]
    },
    {
      "cell_type": "code",
      "execution_count": 9,
      "metadata": {
        "id": "wQ_YBpw0SxYb"
      },
      "outputs": [],
      "source": [
        "from sklearn.linear_model import LogisticRegression\n",
        "from sklearn.ensemble import RandomForestClassifier\n",
        "from catboost import CatBoostClassifier\n",
        "from xgboost import XGBClassifier\n",
        "from lightgbm import LGBMClassifier\n"
      ]
    },
    {
      "cell_type": "code",
      "execution_count": 10,
      "metadata": {
        "colab": {
          "base_uri": "https://localhost:8080/"
        },
        "id": "2eJN9N4FX18i",
        "outputId": "cda0bc1a-bdc4-48f4-c02c-6da7f7a3a56d"
      },
      "outputs": [
        {
          "name": "stdout",
          "output_type": "stream",
          "text": [
            "Logistic Regression:\n"
          ]
        },
        {
          "name": "stderr",
          "output_type": "stream",
          "text": [
            "Folds:  20%|██        | 1/5 [00:03<00:12,  3.20s/it]"
          ]
        },
        {
          "name": "stdout",
          "output_type": "stream",
          "text": [
            "Fold 1: Train ROC AUC: 0.8537, Validation ROC AUC: 0.8511\n"
          ]
        },
        {
          "name": "stderr",
          "output_type": "stream",
          "text": [
            "Folds:  40%|████      | 2/5 [00:06<00:10,  3.36s/it]"
          ]
        },
        {
          "name": "stdout",
          "output_type": "stream",
          "text": [
            "Fold 2: Train ROC AUC: 0.8538, Validation ROC AUC: 0.8511\n"
          ]
        },
        {
          "name": "stderr",
          "output_type": "stream",
          "text": [
            "Folds:  60%|██████    | 3/5 [00:08<00:05,  2.86s/it]"
          ]
        },
        {
          "name": "stdout",
          "output_type": "stream",
          "text": [
            "Fold 3: Train ROC AUC: 0.8530, Validation ROC AUC: 0.8542\n"
          ]
        },
        {
          "name": "stderr",
          "output_type": "stream",
          "text": [
            "Folds:  80%|████████  | 4/5 [00:11<00:02,  2.64s/it]"
          ]
        },
        {
          "name": "stdout",
          "output_type": "stream",
          "text": [
            "Fold 4: Train ROC AUC: 0.8541, Validation ROC AUC: 0.8492\n"
          ]
        },
        {
          "name": "stderr",
          "output_type": "stream",
          "text": [
            "Folds: 100%|██████████| 5/5 [00:13<00:00,  2.72s/it]"
          ]
        },
        {
          "name": "stdout",
          "output_type": "stream",
          "text": [
            "Fold 5: Train ROC AUC: 0.8542, Validation ROC AUC: 0.8488\n",
            "Average Train ROC AUC: 0.8538\n",
            "Average Validation ROC AUC: 0.8509\n",
            "Test ROC AUC: 0.8505\n",
            "Logistic Regression with balancing:\n"
          ]
        },
        {
          "name": "stderr",
          "output_type": "stream",
          "text": [
            "\n",
            "Folds:  20%|██        | 1/5 [00:04<00:18,  4.61s/it]"
          ]
        },
        {
          "name": "stdout",
          "output_type": "stream",
          "text": [
            "Fold 1: Train ROC AUC: 0.8534, Validation ROC AUC: 0.8509\n"
          ]
        },
        {
          "name": "stderr",
          "output_type": "stream",
          "text": [
            "Folds:  40%|████      | 2/5 [00:08<00:13,  4.44s/it]"
          ]
        },
        {
          "name": "stdout",
          "output_type": "stream",
          "text": [
            "Fold 2: Train ROC AUC: 0.8535, Validation ROC AUC: 0.8510\n"
          ]
        },
        {
          "name": "stderr",
          "output_type": "stream",
          "text": [
            "Folds:  60%|██████    | 3/5 [00:13<00:08,  4.28s/it]"
          ]
        },
        {
          "name": "stdout",
          "output_type": "stream",
          "text": [
            "Fold 3: Train ROC AUC: 0.8529, Validation ROC AUC: 0.8540\n"
          ]
        },
        {
          "name": "stderr",
          "output_type": "stream",
          "text": [
            "Folds:  80%|████████  | 4/5 [00:17<00:04,  4.23s/it]"
          ]
        },
        {
          "name": "stdout",
          "output_type": "stream",
          "text": [
            "Fold 4: Train ROC AUC: 0.8539, Validation ROC AUC: 0.8492\n"
          ]
        },
        {
          "name": "stderr",
          "output_type": "stream",
          "text": [
            "Folds: 100%|██████████| 5/5 [00:22<00:00,  4.52s/it]"
          ]
        },
        {
          "name": "stdout",
          "output_type": "stream",
          "text": [
            "Fold 5: Train ROC AUC: 0.8540, Validation ROC AUC: 0.8486\n",
            "Average Train ROC AUC: 0.8535\n",
            "Average Validation ROC AUC: 0.8507\n"
          ]
        },
        {
          "name": "stderr",
          "output_type": "stream",
          "text": [
            "\n"
          ]
        },
        {
          "name": "stdout",
          "output_type": "stream",
          "text": [
            "Test ROC AUC: 0.8502\n"
          ]
        }
      ],
      "source": [
        "# Logistic Regression\n",
        "print(\"Logistic Regression:\")\n",
        "lr_model = LogisticRegression(random_state=42)\n",
        "lr_train_scores, lr_valid_scores, lr_test_auc = modeling(lr_model, X, y)\n",
        "\n",
        "print(\"Logistic Regression with balancing:\")\n",
        "lr_model_b = LogisticRegression(class_weight='balanced', max_iter=1000, random_state=42)\n",
        "lr_train_scores, lr_valid_scores, lr_test_auc = modeling(lr_model_b, X, y)"
      ]
    },
    {
      "cell_type": "code",
      "execution_count": 11,
      "metadata": {
        "colab": {
          "base_uri": "https://localhost:8080/"
        },
        "id": "LKczdrxXTLFA",
        "outputId": "91997811-b30f-4d56-993f-bcd699af8985"
      },
      "outputs": [
        {
          "name": "stdout",
          "output_type": "stream",
          "text": [
            "\n",
            "Random Forest:\n"
          ]
        },
        {
          "name": "stderr",
          "output_type": "stream",
          "text": [
            "Folds:   0%|          | 0/5 [00:00<?, ?it/s]"
          ]
        },
        {
          "name": "stderr",
          "output_type": "stream",
          "text": [
            "Folds:  20%|██        | 1/5 [00:39<02:36, 39.24s/it]"
          ]
        },
        {
          "name": "stdout",
          "output_type": "stream",
          "text": [
            "Fold 1: Train ROC AUC: 1.0000, Validation ROC AUC: 0.8351\n"
          ]
        },
        {
          "name": "stderr",
          "output_type": "stream",
          "text": [
            "Folds:  40%|████      | 2/5 [01:20<02:01, 40.58s/it]"
          ]
        },
        {
          "name": "stdout",
          "output_type": "stream",
          "text": [
            "Fold 2: Train ROC AUC: 1.0000, Validation ROC AUC: 0.8381\n"
          ]
        },
        {
          "name": "stderr",
          "output_type": "stream",
          "text": [
            "Folds:  60%|██████    | 3/5 [02:09<01:28, 44.33s/it]"
          ]
        },
        {
          "name": "stdout",
          "output_type": "stream",
          "text": [
            "Fold 3: Train ROC AUC: 1.0000, Validation ROC AUC: 0.8406\n"
          ]
        },
        {
          "name": "stderr",
          "output_type": "stream",
          "text": [
            "Folds:  80%|████████  | 4/5 [02:56<00:45, 45.18s/it]"
          ]
        },
        {
          "name": "stdout",
          "output_type": "stream",
          "text": [
            "Fold 4: Train ROC AUC: 1.0000, Validation ROC AUC: 0.8327\n"
          ]
        },
        {
          "name": "stderr",
          "output_type": "stream",
          "text": [
            "Folds: 100%|██████████| 5/5 [03:28<00:00, 41.62s/it]"
          ]
        },
        {
          "name": "stdout",
          "output_type": "stream",
          "text": [
            "Fold 5: Train ROC AUC: 1.0000, Validation ROC AUC: 0.8317\n",
            "Average Train ROC AUC: 1.0000\n",
            "Average Validation ROC AUC: 0.8356\n"
          ]
        },
        {
          "name": "stderr",
          "output_type": "stream",
          "text": [
            "\n"
          ]
        },
        {
          "name": "stdout",
          "output_type": "stream",
          "text": [
            "Test ROC AUC: 0.8365\n",
            "\n",
            "Random Forest with Balancing :\n"
          ]
        },
        {
          "name": "stderr",
          "output_type": "stream",
          "text": [
            "Folds:  20%|██        | 1/5 [07:50<31:21, 470.37s/it]"
          ]
        },
        {
          "name": "stdout",
          "output_type": "stream",
          "text": [
            "Fold 1: Train ROC AUC: 1.0000, Validation ROC AUC: 0.8413\n"
          ]
        },
        {
          "name": "stderr",
          "output_type": "stream",
          "text": [
            "Folds:  40%|████      | 2/5 [14:56<22:13, 444.45s/it]"
          ]
        },
        {
          "name": "stdout",
          "output_type": "stream",
          "text": [
            "Fold 2: Train ROC AUC: 1.0000, Validation ROC AUC: 0.8408\n"
          ]
        },
        {
          "name": "stderr",
          "output_type": "stream",
          "text": [
            "Folds:  60%|██████    | 3/5 [22:00<14:30, 435.05s/it]"
          ]
        },
        {
          "name": "stdout",
          "output_type": "stream",
          "text": [
            "Fold 3: Train ROC AUC: 1.0000, Validation ROC AUC: 0.8454\n"
          ]
        },
        {
          "name": "stderr",
          "output_type": "stream",
          "text": [
            "Folds:  80%|████████  | 4/5 [28:50<07:05, 425.00s/it]"
          ]
        },
        {
          "name": "stdout",
          "output_type": "stream",
          "text": [
            "Fold 4: Train ROC AUC: 1.0000, Validation ROC AUC: 0.8363\n"
          ]
        },
        {
          "name": "stderr",
          "output_type": "stream",
          "text": [
            "Folds: 100%|██████████| 5/5 [35:26<00:00, 425.37s/it]"
          ]
        },
        {
          "name": "stdout",
          "output_type": "stream",
          "text": [
            "Fold 5: Train ROC AUC: 1.0000, Validation ROC AUC: 0.8367\n",
            "Average Train ROC AUC: 1.0000\n",
            "Average Validation ROC AUC: 0.8401\n"
          ]
        },
        {
          "name": "stderr",
          "output_type": "stream",
          "text": [
            "\n"
          ]
        },
        {
          "name": "stdout",
          "output_type": "stream",
          "text": [
            "Test ROC AUC: 0.8405\n"
          ]
        }
      ],
      "source": [
        "# Random Forest\n",
        "print(\"\\nRandom Forest:\")\n",
        "rf_model = RandomForestClassifier(random_state=42)\n",
        "rf_train_scores, rf_valid_scores, rf_test_auc = modeling(rf_model, X, y)\n",
        "\n",
        "print(\"\\nRandom Forest with Balancing :\")\n",
        "rf_model_b = RandomForestClassifier(class_weight='balanced', n_estimators=1000, random_state=42)\n",
        "rf_train_scores, rf_valid_scores, rf_test_auc = modeling(rf_model_b, X, y)"
      ]
    },
    {
      "cell_type": "code",
      "execution_count": 12,
      "metadata": {
        "colab": {
          "base_uri": "https://localhost:8080/"
        },
        "id": "7HYdHUrXkltx",
        "outputId": "c2dac916-2890-4adc-e48c-65ae1e80f5d1"
      },
      "outputs": [
        {
          "name": "stdout",
          "output_type": "stream",
          "text": [
            "\n",
            "XGBoost:\n"
          ]
        },
        {
          "name": "stderr",
          "output_type": "stream",
          "text": [
            "Folds:  20%|██        | 1/5 [00:06<00:25,  6.42s/it]"
          ]
        },
        {
          "name": "stdout",
          "output_type": "stream",
          "text": [
            "Fold 1: Train ROC AUC: 0.9078, Validation ROC AUC: 0.8633\n"
          ]
        },
        {
          "name": "stderr",
          "output_type": "stream",
          "text": [
            "Folds:  40%|████      | 2/5 [00:11<00:16,  5.53s/it]"
          ]
        },
        {
          "name": "stdout",
          "output_type": "stream",
          "text": [
            "Fold 2: Train ROC AUC: 0.9090, Validation ROC AUC: 0.8612\n"
          ]
        },
        {
          "name": "stderr",
          "output_type": "stream",
          "text": [
            "Folds:  60%|██████    | 3/5 [00:17<00:11,  5.67s/it]"
          ]
        },
        {
          "name": "stdout",
          "output_type": "stream",
          "text": [
            "Fold 3: Train ROC AUC: 0.9099, Validation ROC AUC: 0.8676\n"
          ]
        },
        {
          "name": "stderr",
          "output_type": "stream",
          "text": [
            "Folds:  80%|████████  | 4/5 [00:22<00:05,  5.56s/it]"
          ]
        },
        {
          "name": "stdout",
          "output_type": "stream",
          "text": [
            "Fold 4: Train ROC AUC: 0.9086, Validation ROC AUC: 0.8580\n"
          ]
        },
        {
          "name": "stderr",
          "output_type": "stream",
          "text": [
            "Folds: 100%|██████████| 5/5 [00:27<00:00,  5.46s/it]"
          ]
        },
        {
          "name": "stdout",
          "output_type": "stream",
          "text": [
            "Fold 5: Train ROC AUC: 0.9093, Validation ROC AUC: 0.8601\n",
            "Average Train ROC AUC: 0.9089\n",
            "Average Validation ROC AUC: 0.8620\n"
          ]
        },
        {
          "name": "stderr",
          "output_type": "stream",
          "text": [
            "\n"
          ]
        },
        {
          "name": "stdout",
          "output_type": "stream",
          "text": [
            "Test ROC AUC: 0.8617\n",
            "\n",
            "XGBoost with balancing:\n"
          ]
        },
        {
          "name": "stderr",
          "output_type": "stream",
          "text": [
            "Folds:  20%|██        | 1/5 [00:59<03:58, 59.51s/it]"
          ]
        },
        {
          "name": "stdout",
          "output_type": "stream",
          "text": [
            "Fold 1: Train ROC AUC: 0.9050, Validation ROC AUC: 0.8644\n"
          ]
        },
        {
          "name": "stderr",
          "output_type": "stream",
          "text": [
            "Folds:  40%|████      | 2/5 [02:02<03:03, 61.27s/it]"
          ]
        },
        {
          "name": "stdout",
          "output_type": "stream",
          "text": [
            "Fold 2: Train ROC AUC: 0.9056, Validation ROC AUC: 0.8629\n"
          ]
        },
        {
          "name": "stderr",
          "output_type": "stream",
          "text": [
            "Folds:  60%|██████    | 3/5 [03:39<02:35, 77.95s/it]"
          ]
        },
        {
          "name": "stdout",
          "output_type": "stream",
          "text": [
            "Fold 3: Train ROC AUC: 0.9049, Validation ROC AUC: 0.8684\n"
          ]
        },
        {
          "name": "stderr",
          "output_type": "stream",
          "text": [
            "Folds:  80%|████████  | 4/5 [04:18<01:02, 62.26s/it]"
          ]
        },
        {
          "name": "stdout",
          "output_type": "stream",
          "text": [
            "Fold 4: Train ROC AUC: 0.9069, Validation ROC AUC: 0.8587\n"
          ]
        },
        {
          "name": "stderr",
          "output_type": "stream",
          "text": [
            "Folds: 100%|██████████| 5/5 [05:17<00:00, 63.59s/it]"
          ]
        },
        {
          "name": "stdout",
          "output_type": "stream",
          "text": [
            "Fold 5: Train ROC AUC: 0.9073, Validation ROC AUC: 0.8595\n",
            "Average Train ROC AUC: 0.9059\n",
            "Average Validation ROC AUC: 0.8628\n"
          ]
        },
        {
          "name": "stderr",
          "output_type": "stream",
          "text": [
            "\n"
          ]
        },
        {
          "name": "stdout",
          "output_type": "stream",
          "text": [
            "Test ROC AUC: 0.8648\n"
          ]
        }
      ],
      "source": [
        "# XGBoost\n",
        "print(\"\\nXGBoost:\")\n",
        "xgb_model = XGBClassifier(random_state=42)\n",
        "xgb_train_scores, xgb_valid_scores, xgb_test_auc = modeling(xgb_model, X, y)\n",
        "\n",
        "print(\"\\nXGBoost with balancing:\")\n",
        "class_weights = [1, (y == 0).sum() / (y == 1).sum()]\n",
        "xgb_model_b = CatBoostClassifier(class_weights=class_weights, iterations=1000, random_state=42, verbose=0)\n",
        "xgb_train_scores, xgb_valid_scores, xgb_test_auc = modeling(xgb_model_b, X, y)\n"
      ]
    },
    {
      "cell_type": "code",
      "execution_count": 13,
      "metadata": {
        "colab": {
          "base_uri": "https://localhost:8080/"
        },
        "id": "fAmfBX6Fklvw",
        "outputId": "5766c95d-8026-4edd-f2a5-f38124f7d7a2"
      },
      "outputs": [
        {
          "name": "stdout",
          "output_type": "stream",
          "text": [
            "\n",
            "CatBoost:\n"
          ]
        },
        {
          "name": "stderr",
          "output_type": "stream",
          "text": [
            "Folds:  20%|██        | 1/5 [01:01<04:05, 61.39s/it]"
          ]
        },
        {
          "name": "stdout",
          "output_type": "stream",
          "text": [
            "Fold 1: Train ROC AUC: 0.9026, Validation ROC AUC: 0.8661\n"
          ]
        },
        {
          "name": "stderr",
          "output_type": "stream",
          "text": [
            "Folds:  40%|████      | 2/5 [02:22<03:39, 73.18s/it]"
          ]
        },
        {
          "name": "stdout",
          "output_type": "stream",
          "text": [
            "Fold 2: Train ROC AUC: 0.9023, Validation ROC AUC: 0.8627\n"
          ]
        },
        {
          "name": "stderr",
          "output_type": "stream",
          "text": [
            "Folds:  60%|██████    | 3/5 [03:14<02:06, 63.21s/it]"
          ]
        },
        {
          "name": "stdout",
          "output_type": "stream",
          "text": [
            "Fold 3: Train ROC AUC: 0.9014, Validation ROC AUC: 0.8698\n"
          ]
        },
        {
          "name": "stderr",
          "output_type": "stream",
          "text": [
            "Folds:  80%|████████  | 4/5 [03:41<00:48, 48.87s/it]"
          ]
        },
        {
          "name": "stdout",
          "output_type": "stream",
          "text": [
            "Fold 4: Train ROC AUC: 0.9029, Validation ROC AUC: 0.8620\n"
          ]
        },
        {
          "name": "stderr",
          "output_type": "stream",
          "text": [
            "Folds: 100%|██████████| 5/5 [04:08<00:00, 49.64s/it]"
          ]
        },
        {
          "name": "stdout",
          "output_type": "stream",
          "text": [
            "Fold 5: Train ROC AUC: 0.9022, Validation ROC AUC: 0.8607\n",
            "Average Train ROC AUC: 0.9023\n",
            "Average Validation ROC AUC: 0.8643\n"
          ]
        },
        {
          "name": "stderr",
          "output_type": "stream",
          "text": [
            "\n"
          ]
        },
        {
          "name": "stdout",
          "output_type": "stream",
          "text": [
            "Test ROC AUC: 0.8657\n",
            "\n",
            "CatBoost with balancing:\n"
          ]
        },
        {
          "name": "stderr",
          "output_type": "stream",
          "text": [
            "Folds:  20%|██        | 1/5 [00:30<02:01, 30.44s/it]"
          ]
        },
        {
          "name": "stdout",
          "output_type": "stream",
          "text": [
            "Fold 1: Train ROC AUC: 0.9050, Validation ROC AUC: 0.8644\n"
          ]
        },
        {
          "name": "stderr",
          "output_type": "stream",
          "text": [
            "Folds:  40%|████      | 2/5 [01:10<01:48, 36.16s/it]"
          ]
        },
        {
          "name": "stdout",
          "output_type": "stream",
          "text": [
            "Fold 2: Train ROC AUC: 0.9056, Validation ROC AUC: 0.8629\n"
          ]
        },
        {
          "name": "stderr",
          "output_type": "stream",
          "text": [
            "Folds:  60%|██████    | 3/5 [01:52<01:17, 38.59s/it]"
          ]
        },
        {
          "name": "stdout",
          "output_type": "stream",
          "text": [
            "Fold 3: Train ROC AUC: 0.9049, Validation ROC AUC: 0.8684\n"
          ]
        },
        {
          "name": "stderr",
          "output_type": "stream",
          "text": [
            "Folds:  80%|████████  | 4/5 [02:28<00:37, 37.84s/it]"
          ]
        },
        {
          "name": "stdout",
          "output_type": "stream",
          "text": [
            "Fold 4: Train ROC AUC: 0.9069, Validation ROC AUC: 0.8587\n"
          ]
        },
        {
          "name": "stderr",
          "output_type": "stream",
          "text": [
            "Folds: 100%|██████████| 5/5 [03:08<00:00, 37.73s/it]"
          ]
        },
        {
          "name": "stdout",
          "output_type": "stream",
          "text": [
            "Fold 5: Train ROC AUC: 0.9073, Validation ROC AUC: 0.8595\n",
            "Average Train ROC AUC: 0.9059\n",
            "Average Validation ROC AUC: 0.8628\n"
          ]
        },
        {
          "name": "stderr",
          "output_type": "stream",
          "text": [
            "\n"
          ]
        },
        {
          "name": "stdout",
          "output_type": "stream",
          "text": [
            "Test ROC AUC: 0.8648\n"
          ]
        }
      ],
      "source": [
        "# CatBoost\n",
        "print(\"\\nCatBoost:\")\n",
        "cat_model = CatBoostClassifier(verbose=0, random_state=42)\n",
        "cat_train_scores, cat_valid_scores, cat_test_auc = modeling(cat_model, X, y)\n",
        "\n",
        "print(\"\\nCatBoost with balancing:\")\n",
        "class_weights = [1, (y == 0).sum() / (y == 1).sum()]\n",
        "cat_model_b = CatBoostClassifier(class_weights=class_weights, verbose=0, random_state=42)\n",
        "cat_train_scores, cat_valid_scores, cat_test_auc = modeling(cat_model_b, X, y)"
      ]
    },
    {
      "cell_type": "code",
      "execution_count": 14,
      "metadata": {},
      "outputs": [
        {
          "name": "stdout",
          "output_type": "stream",
          "text": [
            "\n",
            "LightGBM:\n"
          ]
        },
        {
          "name": "stderr",
          "output_type": "stream",
          "text": [
            "Folds:   0%|          | 0/5 [00:00<?, ?it/s]"
          ]
        },
        {
          "name": "stdout",
          "output_type": "stream",
          "text": [
            "[LightGBM] [Info] Number of positive: 9054, number of negative: 64576\n",
            "[LightGBM] [Info] Auto-choosing col-wise multi-threading, the overhead of testing was 0.019325 seconds.\n",
            "You can set `force_col_wise=true` to remove the overhead.\n",
            "[LightGBM] [Info] Total Bins 778\n",
            "[LightGBM] [Info] Number of data points in the train set: 73630, number of used features: 112\n",
            "[LightGBM] [Info] [binary:BoostFromScore]: pavg=0.122966 -> initscore=-1.964636\n",
            "[LightGBM] [Info] Start training from score -1.964636\n"
          ]
        },
        {
          "name": "stderr",
          "output_type": "stream",
          "text": [
            "Folds:  20%|██        | 1/5 [00:04<00:17,  4.43s/it]"
          ]
        },
        {
          "name": "stdout",
          "output_type": "stream",
          "text": [
            "Fold 1: Train ROC AUC: 0.8896, Validation ROC AUC: 0.8656\n",
            "[LightGBM] [Info] Number of positive: 9054, number of negative: 64576\n",
            "[LightGBM] [Info] Auto-choosing row-wise multi-threading, the overhead of testing was 0.001124 seconds.\n",
            "You can set `force_row_wise=true` to remove the overhead.\n",
            "And if memory is not enough, you can set `force_col_wise=true`.\n",
            "[LightGBM] [Info] Total Bins 781\n",
            "[LightGBM] [Info] Number of data points in the train set: 73630, number of used features: 113\n",
            "[LightGBM] [Info] [binary:BoostFromScore]: pavg=0.122966 -> initscore=-1.964636\n",
            "[LightGBM] [Info] Start training from score -1.964636\n"
          ]
        },
        {
          "name": "stderr",
          "output_type": "stream",
          "text": [
            "Folds:  40%|████      | 2/5 [00:08<00:12,  4.05s/it]"
          ]
        },
        {
          "name": "stdout",
          "output_type": "stream",
          "text": [
            "Fold 2: Train ROC AUC: 0.8907, Validation ROC AUC: 0.8621\n",
            "[LightGBM] [Info] Number of positive: 9054, number of negative: 64576\n",
            "[LightGBM] [Info] Auto-choosing row-wise multi-threading, the overhead of testing was 0.004687 seconds.\n",
            "You can set `force_row_wise=true` to remove the overhead.\n",
            "And if memory is not enough, you can set `force_col_wise=true`.\n",
            "[LightGBM] [Info] Total Bins 780\n",
            "[LightGBM] [Info] Number of data points in the train set: 73630, number of used features: 113\n",
            "[LightGBM] [Info] [binary:BoostFromScore]: pavg=0.122966 -> initscore=-1.964636\n",
            "[LightGBM] [Info] Start training from score -1.964636\n"
          ]
        },
        {
          "name": "stderr",
          "output_type": "stream",
          "text": [
            "Folds:  60%|██████    | 3/5 [00:11<00:07,  3.80s/it]"
          ]
        },
        {
          "name": "stdout",
          "output_type": "stream",
          "text": [
            "Fold 3: Train ROC AUC: 0.8888, Validation ROC AUC: 0.8686\n",
            "[LightGBM] [Info] Number of positive: 9055, number of negative: 64576\n",
            "[LightGBM] [Info] Auto-choosing col-wise multi-threading, the overhead of testing was 0.022554 seconds.\n",
            "You can set `force_col_wise=true` to remove the overhead.\n",
            "[LightGBM] [Info] Total Bins 777\n",
            "[LightGBM] [Info] Number of data points in the train set: 73631, number of used features: 112\n",
            "[LightGBM] [Info] [binary:BoostFromScore]: pavg=0.122978 -> initscore=-1.964526\n",
            "[LightGBM] [Info] Start training from score -1.964526\n"
          ]
        },
        {
          "name": "stderr",
          "output_type": "stream",
          "text": [
            "Folds:  80%|████████  | 4/5 [00:16<00:04,  4.07s/it]"
          ]
        },
        {
          "name": "stdout",
          "output_type": "stream",
          "text": [
            "Fold 4: Train ROC AUC: 0.8905, Validation ROC AUC: 0.8586\n",
            "[LightGBM] [Info] Number of positive: 9055, number of negative: 64576\n",
            "[LightGBM] [Info] Auto-choosing row-wise multi-threading, the overhead of testing was 0.004715 seconds.\n",
            "You can set `force_row_wise=true` to remove the overhead.\n",
            "And if memory is not enough, you can set `force_col_wise=true`.\n",
            "[LightGBM] [Info] Total Bins 778\n",
            "[LightGBM] [Info] Number of data points in the train set: 73631, number of used features: 112\n",
            "[LightGBM] [Info] [binary:BoostFromScore]: pavg=0.122978 -> initscore=-1.964526\n",
            "[LightGBM] [Info] Start training from score -1.964526\n"
          ]
        },
        {
          "name": "stderr",
          "output_type": "stream",
          "text": [
            "Folds: 100%|██████████| 5/5 [00:19<00:00,  3.99s/it]"
          ]
        },
        {
          "name": "stdout",
          "output_type": "stream",
          "text": [
            "Fold 5: Train ROC AUC: 0.8904, Validation ROC AUC: 0.8599\n",
            "Average Train ROC AUC: 0.8900\n",
            "Average Validation ROC AUC: 0.8630\n"
          ]
        },
        {
          "name": "stderr",
          "output_type": "stream",
          "text": [
            "\n"
          ]
        },
        {
          "name": "stdout",
          "output_type": "stream",
          "text": [
            "Test ROC AUC: 0.8667\n",
            "\n",
            "LightGBM with balancing:\n"
          ]
        },
        {
          "name": "stderr",
          "output_type": "stream",
          "text": [
            "Folds:   0%|          | 0/5 [00:00<?, ?it/s]"
          ]
        },
        {
          "name": "stdout",
          "output_type": "stream",
          "text": [
            "[LightGBM] [Info] Number of positive: 9054, number of negative: 64576\n",
            "[LightGBM] [Info] Auto-choosing col-wise multi-threading, the overhead of testing was 0.019663 seconds.\n",
            "You can set `force_col_wise=true` to remove the overhead.\n",
            "[LightGBM] [Info] Total Bins 778\n",
            "[LightGBM] [Info] Number of data points in the train set: 73630, number of used features: 112\n",
            "[LightGBM] [Info] [binary:BoostFromScore]: pavg=0.122966 -> initscore=-1.964636\n",
            "[LightGBM] [Info] Start training from score -1.964636\n"
          ]
        },
        {
          "name": "stderr",
          "output_type": "stream",
          "text": [
            "Folds:  20%|██        | 1/5 [00:21<01:27, 21.82s/it]"
          ]
        },
        {
          "name": "stdout",
          "output_type": "stream",
          "text": [
            "Fold 1: Train ROC AUC: 0.9679, Validation ROC AUC: 0.8563\n",
            "[LightGBM] [Info] Number of positive: 9054, number of negative: 64576\n",
            "[LightGBM] [Info] Auto-choosing row-wise multi-threading, the overhead of testing was 0.001345 seconds.\n",
            "You can set `force_row_wise=true` to remove the overhead.\n",
            "And if memory is not enough, you can set `force_col_wise=true`.\n",
            "[LightGBM] [Info] Total Bins 781\n",
            "[LightGBM] [Info] Number of data points in the train set: 73630, number of used features: 113\n",
            "[LightGBM] [Info] [binary:BoostFromScore]: pavg=0.122966 -> initscore=-1.964636\n",
            "[LightGBM] [Info] Start training from score -1.964636\n"
          ]
        },
        {
          "name": "stderr",
          "output_type": "stream",
          "text": [
            "Folds:  40%|████      | 2/5 [00:40<00:59, 19.95s/it]"
          ]
        },
        {
          "name": "stdout",
          "output_type": "stream",
          "text": [
            "Fold 2: Train ROC AUC: 0.9671, Validation ROC AUC: 0.8538\n",
            "[LightGBM] [Info] Number of positive: 9054, number of negative: 64576\n",
            "[LightGBM] [Info] Auto-choosing row-wise multi-threading, the overhead of testing was 0.005681 seconds.\n",
            "You can set `force_row_wise=true` to remove the overhead.\n",
            "And if memory is not enough, you can set `force_col_wise=true`.\n",
            "[LightGBM] [Info] Total Bins 780\n",
            "[LightGBM] [Info] Number of data points in the train set: 73630, number of used features: 113\n",
            "[LightGBM] [Info] [binary:BoostFromScore]: pavg=0.122966 -> initscore=-1.964636\n",
            "[LightGBM] [Info] Start training from score -1.964636\n"
          ]
        },
        {
          "name": "stderr",
          "output_type": "stream",
          "text": [
            "Folds:  60%|██████    | 3/5 [01:00<00:39, 19.88s/it]"
          ]
        },
        {
          "name": "stdout",
          "output_type": "stream",
          "text": [
            "Fold 3: Train ROC AUC: 0.9670, Validation ROC AUC: 0.8582\n",
            "[LightGBM] [Info] Number of positive: 9055, number of negative: 64576\n",
            "[LightGBM] [Info] Auto-choosing col-wise multi-threading, the overhead of testing was 0.063461 seconds.\n",
            "You can set `force_col_wise=true` to remove the overhead.\n",
            "[LightGBM] [Info] Total Bins 777\n",
            "[LightGBM] [Info] Number of data points in the train set: 73631, number of used features: 112\n",
            "[LightGBM] [Info] [binary:BoostFromScore]: pavg=0.122978 -> initscore=-1.964526\n",
            "[LightGBM] [Info] Start training from score -1.964526\n"
          ]
        },
        {
          "name": "stderr",
          "output_type": "stream",
          "text": [
            "Folds:  80%|████████  | 4/5 [01:22<00:20, 20.86s/it]"
          ]
        },
        {
          "name": "stdout",
          "output_type": "stream",
          "text": [
            "Fold 4: Train ROC AUC: 0.9689, Validation ROC AUC: 0.8494\n",
            "[LightGBM] [Info] Number of positive: 9055, number of negative: 64576\n",
            "[LightGBM] [Info] Auto-choosing row-wise multi-threading, the overhead of testing was 0.005495 seconds.\n",
            "You can set `force_row_wise=true` to remove the overhead.\n",
            "And if memory is not enough, you can set `force_col_wise=true`.\n",
            "[LightGBM] [Info] Total Bins 778\n",
            "[LightGBM] [Info] Number of data points in the train set: 73631, number of used features: 112\n",
            "[LightGBM] [Info] [binary:BoostFromScore]: pavg=0.122978 -> initscore=-1.964526\n",
            "[LightGBM] [Info] Start training from score -1.964526\n"
          ]
        },
        {
          "name": "stderr",
          "output_type": "stream",
          "text": [
            "Folds: 100%|██████████| 5/5 [01:40<00:00, 20.15s/it]"
          ]
        },
        {
          "name": "stdout",
          "output_type": "stream",
          "text": [
            "Fold 5: Train ROC AUC: 0.9653, Validation ROC AUC: 0.8492\n",
            "Average Train ROC AUC: 0.9672\n",
            "Average Validation ROC AUC: 0.8534\n"
          ]
        },
        {
          "name": "stderr",
          "output_type": "stream",
          "text": [
            "\n"
          ]
        },
        {
          "name": "stdout",
          "output_type": "stream",
          "text": [
            "Test ROC AUC: 0.8547\n"
          ]
        }
      ],
      "source": [
        "# LightGBM\n",
        "print(\"\\nLightGBM:\")\n",
        "lgbm_model = LGBMClassifier(random_state=42)\n",
        "lgbm_train_scores, lgbm_valid_scores, lgbm_test_auc = modeling(lgbm_model, X, y)\n",
        "\n",
        "print(\"\\nLightGBM with balancing:\")\n",
        "scale_pos_weights = (y == 0).sum() / (y == 1).sum()\n",
        "lgbm_model_b = LGBMClassifier(scale_pos_weight=scale_pos_weights, n_estimators=1000, random_state=42)\n",
        "lgbm_train_scores, lgbm_valid_scores, lgbm_test_auc = modeling(lgbm_model_b, X, y)"
      ]
    },
    {
      "cell_type": "markdown",
      "metadata": {},
      "source": [
        "추가적으로 KNN에 대해 검토해보았다.\n",
        "그냥 KNN을 돌리면 시간이 너무 오래걸려서 PCA로 5개 피쳐로 축소한 뒤 진행하였다. \n",
        "성능은 그닥 좋지 못하다."
      ]
    },
    {
      "cell_type": "code",
      "execution_count": 15,
      "metadata": {},
      "outputs": [
        {
          "name": "stdout",
          "output_type": "stream",
          "text": [
            "\n",
            "KNN:\n"
          ]
        },
        {
          "name": "stderr",
          "output_type": "stream",
          "text": [
            "Folds:  20%|██        | 1/5 [00:07<00:28,  7.19s/it]"
          ]
        },
        {
          "name": "stdout",
          "output_type": "stream",
          "text": [
            "Fold 1: Train ROC AUC: 0.8816, Validation ROC AUC: 0.8380\n"
          ]
        },
        {
          "name": "stderr",
          "output_type": "stream",
          "text": [
            "Folds:  40%|████      | 2/5 [00:13<00:19,  6.51s/it]"
          ]
        },
        {
          "name": "stdout",
          "output_type": "stream",
          "text": [
            "Fold 2: Train ROC AUC: 0.8820, Validation ROC AUC: 0.8326\n"
          ]
        },
        {
          "name": "stderr",
          "output_type": "stream",
          "text": [
            "Folds:  60%|██████    | 3/5 [00:19<00:13,  6.59s/it]"
          ]
        },
        {
          "name": "stdout",
          "output_type": "stream",
          "text": [
            "Fold 3: Train ROC AUC: 0.8820, Validation ROC AUC: 0.8375\n"
          ]
        },
        {
          "name": "stderr",
          "output_type": "stream",
          "text": [
            "Folds:  80%|████████  | 4/5 [00:26<00:06,  6.52s/it]"
          ]
        },
        {
          "name": "stdout",
          "output_type": "stream",
          "text": [
            "Fold 4: Train ROC AUC: 0.8826, Validation ROC AUC: 0.8301\n"
          ]
        },
        {
          "name": "stderr",
          "output_type": "stream",
          "text": [
            "Folds: 100%|██████████| 5/5 [00:32<00:00,  6.51s/it]"
          ]
        },
        {
          "name": "stdout",
          "output_type": "stream",
          "text": [
            "Fold 5: Train ROC AUC: 0.8829, Validation ROC AUC: 0.8322\n",
            "Average Train ROC AUC: 0.8822\n",
            "Average Validation ROC AUC: 0.8341\n"
          ]
        },
        {
          "name": "stderr",
          "output_type": "stream",
          "text": [
            "\n"
          ]
        },
        {
          "name": "stdout",
          "output_type": "stream",
          "text": [
            "Test ROC AUC: 0.8327\n"
          ]
        }
      ],
      "source": [
        "from sklearn.neighbors import KNeighborsClassifier\n",
        "\n",
        "# KNN\n",
        "print(\"\\nKNN:\")\n",
        "\n",
        "from sklearn.decomposition import PCA\n",
        "from sklearn.pipeline import Pipeline\n",
        "\n",
        "# PCA로 차원 축소와 KNN을 결합한 파이프라인\n",
        "pipeline = Pipeline([\n",
        "    ('pca', PCA(n_components=5)),  # 피쳐 수를 줄임\n",
        "    ('knn', KNeighborsClassifier(n_neighbors=18, p=1, weights='uniform'))\n",
        "])\n",
        "\n",
        "knn_train_scores, knn_valid_scores, knn_test_auc = modeling(pipeline , X, y)"
      ]
    },
    {
      "cell_type": "code",
      "execution_count": 19,
      "metadata": {},
      "outputs": [
        {
          "data": {
            "text/plain": [
              "1721493948.555815"
            ]
          },
          "execution_count": 19,
          "metadata": {},
          "output_type": "execute_result"
        }
      ],
      "source": [
        "import time\n",
        "start_time"
      ]
    },
    {
      "cell_type": "code",
      "execution_count": 29,
      "metadata": {},
      "outputs": [
        {
          "name": "stdout",
          "output_type": "stream",
          "text": [
            "\n",
            "LightGBM:\n"
          ]
        },
        {
          "name": "stderr",
          "output_type": "stream",
          "text": [
            "Folds:   0%|          | 0/5 [00:00<?, ?it/s]"
          ]
        },
        {
          "name": "stdout",
          "output_type": "stream",
          "text": [
            "[LightGBM] [Info] Number of positive: 9054, number of negative: 64576\n",
            "[LightGBM] [Info] Auto-choosing col-wise multi-threading, the overhead of testing was 0.021687 seconds.\n",
            "You can set `force_col_wise=true` to remove the overhead.\n",
            "[LightGBM] [Info] Total Bins 778\n",
            "[LightGBM] [Info] Number of data points in the train set: 73630, number of used features: 112\n",
            "[LightGBM] [Info] [binary:BoostFromScore]: pavg=0.122966 -> initscore=-1.964636\n",
            "[LightGBM] [Info] Start training from score -1.964636\n"
          ]
        },
        {
          "name": "stderr",
          "output_type": "stream",
          "text": [
            "Folds:  20%|██        | 1/5 [00:03<00:15,  3.86s/it]"
          ]
        },
        {
          "name": "stdout",
          "output_type": "stream",
          "text": [
            "Fold 1: Train ROC AUC: 0.8896, Validation ROC AUC: 0.8656\n",
            "[LightGBM] [Info] Number of positive: 9054, number of negative: 64576\n",
            "[LightGBM] [Info] Auto-choosing row-wise multi-threading, the overhead of testing was 0.003144 seconds.\n",
            "You can set `force_row_wise=true` to remove the overhead.\n",
            "And if memory is not enough, you can set `force_col_wise=true`.\n",
            "[LightGBM] [Info] Total Bins 781\n",
            "[LightGBM] [Info] Number of data points in the train set: 73630, number of used features: 113\n",
            "[LightGBM] [Info] [binary:BoostFromScore]: pavg=0.122966 -> initscore=-1.964636\n",
            "[LightGBM] [Info] Start training from score -1.964636\n"
          ]
        },
        {
          "name": "stderr",
          "output_type": "stream",
          "text": [
            "Folds:  40%|████      | 2/5 [00:07<00:10,  3.65s/it]"
          ]
        },
        {
          "name": "stdout",
          "output_type": "stream",
          "text": [
            "Fold 2: Train ROC AUC: 0.8907, Validation ROC AUC: 0.8621\n",
            "[LightGBM] [Info] Number of positive: 9054, number of negative: 64576\n",
            "[LightGBM] [Info] Auto-choosing row-wise multi-threading, the overhead of testing was 0.004846 seconds.\n",
            "You can set `force_row_wise=true` to remove the overhead.\n",
            "And if memory is not enough, you can set `force_col_wise=true`.\n",
            "[LightGBM] [Info] Total Bins 780\n",
            "[LightGBM] [Info] Number of data points in the train set: 73630, number of used features: 113\n",
            "[LightGBM] [Info] [binary:BoostFromScore]: pavg=0.122966 -> initscore=-1.964636\n",
            "[LightGBM] [Info] Start training from score -1.964636\n"
          ]
        },
        {
          "name": "stderr",
          "output_type": "stream",
          "text": [
            "Folds:  60%|██████    | 3/5 [00:10<00:06,  3.48s/it]"
          ]
        },
        {
          "name": "stdout",
          "output_type": "stream",
          "text": [
            "Fold 3: Train ROC AUC: 0.8888, Validation ROC AUC: 0.8686\n",
            "[LightGBM] [Info] Number of positive: 9055, number of negative: 64576\n",
            "[LightGBM] [Info] Auto-choosing row-wise multi-threading, the overhead of testing was 0.001186 seconds.\n",
            "You can set `force_row_wise=true` to remove the overhead.\n",
            "And if memory is not enough, you can set `force_col_wise=true`.\n",
            "[LightGBM] [Info] Total Bins 777\n",
            "[LightGBM] [Info] Number of data points in the train set: 73631, number of used features: 112\n",
            "[LightGBM] [Info] [binary:BoostFromScore]: pavg=0.122978 -> initscore=-1.964526\n",
            "[LightGBM] [Info] Start training from score -1.964526\n"
          ]
        },
        {
          "name": "stderr",
          "output_type": "stream",
          "text": [
            "Folds:  80%|████████  | 4/5 [00:14<00:03,  3.64s/it]"
          ]
        },
        {
          "name": "stdout",
          "output_type": "stream",
          "text": [
            "Fold 4: Train ROC AUC: 0.8905, Validation ROC AUC: 0.8586\n",
            "[LightGBM] [Info] Number of positive: 9055, number of negative: 64576\n",
            "[LightGBM] [Info] Auto-choosing row-wise multi-threading, the overhead of testing was 0.001386 seconds.\n",
            "You can set `force_row_wise=true` to remove the overhead.\n",
            "And if memory is not enough, you can set `force_col_wise=true`.\n",
            "[LightGBM] [Info] Total Bins 778\n",
            "[LightGBM] [Info] Number of data points in the train set: 73631, number of used features: 112\n",
            "[LightGBM] [Info] [binary:BoostFromScore]: pavg=0.122978 -> initscore=-1.964526\n",
            "[LightGBM] [Info] Start training from score -1.964526\n"
          ]
        },
        {
          "name": "stderr",
          "output_type": "stream",
          "text": [
            "Folds: 100%|██████████| 5/5 [00:18<00:00,  3.62s/it]"
          ]
        },
        {
          "name": "stdout",
          "output_type": "stream",
          "text": [
            "Fold 5: Train ROC AUC: 0.8904, Validation ROC AUC: 0.8599\n",
            "Average Train ROC AUC: 0.8900\n",
            "Average Validation ROC AUC: 0.8630\n"
          ]
        },
        {
          "name": "stderr",
          "output_type": "stream",
          "text": [
            "\n"
          ]
        },
        {
          "name": "stdout",
          "output_type": "stream",
          "text": [
            "Test ROC AUC: 0.8667\n",
            "19.180898189544678\n"
          ]
        }
      ],
      "source": [
        "start_time = time.time()\n",
        "\n",
        "# LightGBM\n",
        "print(\"\\nLightGBM:\")\n",
        "lgbm_model = LGBMClassifier(random_state=42)\n",
        "lgbm_train_scores, lgbm_valid_scores, lgbm_test_auc = modeling(lgbm_model, X, y)\n",
        "\n",
        "end_time = time.time()\n",
        "print(end_time - start_time)"
      ]
    },
    {
      "cell_type": "code",
      "execution_count": 30,
      "metadata": {},
      "outputs": [
        {
          "name": "stdout",
          "output_type": "stream",
          "text": [
            "\n",
            "PCA + LightGBMKNN:\n"
          ]
        },
        {
          "name": "stderr",
          "output_type": "stream",
          "text": [
            "Folds:   0%|          | 0/5 [00:00<?, ?it/s]"
          ]
        },
        {
          "name": "stdout",
          "output_type": "stream",
          "text": [
            "[LightGBM] [Info] Number of positive: 9054, number of negative: 64576\n",
            "[LightGBM] [Info] Auto-choosing col-wise multi-threading, the overhead of testing was 0.002214 seconds.\n",
            "You can set `force_col_wise=true` to remove the overhead.\n",
            "[LightGBM] [Info] Total Bins 1275\n",
            "[LightGBM] [Info] Number of data points in the train set: 73630, number of used features: 5\n",
            "[LightGBM] [Info] [binary:BoostFromScore]: pavg=0.122966 -> initscore=-1.964636\n",
            "[LightGBM] [Info] Start training from score -1.964636\n"
          ]
        },
        {
          "name": "stderr",
          "output_type": "stream",
          "text": [
            "Folds:  20%|██        | 1/5 [00:05<00:21,  5.47s/it]"
          ]
        },
        {
          "name": "stdout",
          "output_type": "stream",
          "text": [
            "Fold 1: Train ROC AUC: 0.8702, Validation ROC AUC: 0.8545\n",
            "[LightGBM] [Info] Number of positive: 9054, number of negative: 64576\n",
            "[LightGBM] [Info] Auto-choosing row-wise multi-threading, the overhead of testing was 0.000493 seconds.\n",
            "You can set `force_row_wise=true` to remove the overhead.\n",
            "And if memory is not enough, you can set `force_col_wise=true`.\n",
            "[LightGBM] [Info] Total Bins 1275\n",
            "[LightGBM] [Info] Number of data points in the train set: 73630, number of used features: 5\n",
            "[LightGBM] [Info] [binary:BoostFromScore]: pavg=0.122966 -> initscore=-1.964636\n",
            "[LightGBM] [Info] Start training from score -1.964636\n"
          ]
        },
        {
          "name": "stderr",
          "output_type": "stream",
          "text": [
            "Folds:  40%|████      | 2/5 [00:09<00:13,  4.63s/it]"
          ]
        },
        {
          "name": "stdout",
          "output_type": "stream",
          "text": [
            "Fold 2: Train ROC AUC: 0.8710, Validation ROC AUC: 0.8500\n",
            "[LightGBM] [Info] Number of positive: 9054, number of negative: 64576\n",
            "[LightGBM] [Info] Auto-choosing col-wise multi-threading, the overhead of testing was 0.002345 seconds.\n",
            "You can set `force_col_wise=true` to remove the overhead.\n",
            "[LightGBM] [Info] Total Bins 1275\n",
            "[LightGBM] [Info] Number of data points in the train set: 73630, number of used features: 5\n",
            "[LightGBM] [Info] [binary:BoostFromScore]: pavg=0.122966 -> initscore=-1.964636\n",
            "[LightGBM] [Info] Start training from score -1.964636\n"
          ]
        },
        {
          "name": "stderr",
          "output_type": "stream",
          "text": [
            "Folds:  60%|██████    | 3/5 [00:13<00:08,  4.42s/it]"
          ]
        },
        {
          "name": "stdout",
          "output_type": "stream",
          "text": [
            "Fold 3: Train ROC AUC: 0.8695, Validation ROC AUC: 0.8552\n",
            "[LightGBM] [Info] Number of positive: 9055, number of negative: 64576\n",
            "[LightGBM] [Info] Auto-choosing row-wise multi-threading, the overhead of testing was 0.000506 seconds.\n",
            "You can set `force_row_wise=true` to remove the overhead.\n",
            "And if memory is not enough, you can set `force_col_wise=true`.\n",
            "[LightGBM] [Info] Total Bins 1275\n",
            "[LightGBM] [Info] Number of data points in the train set: 73631, number of used features: 5\n",
            "[LightGBM] [Info] [binary:BoostFromScore]: pavg=0.122978 -> initscore=-1.964526\n",
            "[LightGBM] [Info] Start training from score -1.964526\n"
          ]
        },
        {
          "name": "stderr",
          "output_type": "stream",
          "text": [
            "Folds:  80%|████████  | 4/5 [00:17<00:04,  4.27s/it]"
          ]
        },
        {
          "name": "stdout",
          "output_type": "stream",
          "text": [
            "Fold 4: Train ROC AUC: 0.8713, Validation ROC AUC: 0.8479\n",
            "[LightGBM] [Info] Number of positive: 9055, number of negative: 64576\n",
            "[LightGBM] [Info] Auto-choosing row-wise multi-threading, the overhead of testing was 0.000491 seconds.\n",
            "You can set `force_row_wise=true` to remove the overhead.\n",
            "And if memory is not enough, you can set `force_col_wise=true`.\n",
            "[LightGBM] [Info] Total Bins 1275\n",
            "[LightGBM] [Info] Number of data points in the train set: 73631, number of used features: 5\n",
            "[LightGBM] [Info] [binary:BoostFromScore]: pavg=0.122978 -> initscore=-1.964526\n",
            "[LightGBM] [Info] Start training from score -1.964526\n"
          ]
        },
        {
          "name": "stderr",
          "output_type": "stream",
          "text": [
            "Folds: 100%|██████████| 5/5 [00:22<00:00,  4.46s/it]"
          ]
        },
        {
          "name": "stdout",
          "output_type": "stream",
          "text": [
            "Fold 5: Train ROC AUC: 0.8723, Validation ROC AUC: 0.8488\n",
            "Average Train ROC AUC: 0.8709\n",
            "Average Validation ROC AUC: 0.8513\n"
          ]
        },
        {
          "name": "stderr",
          "output_type": "stream",
          "text": [
            "\n"
          ]
        },
        {
          "name": "stdout",
          "output_type": "stream",
          "text": [
            "Test ROC AUC: 0.8512\n",
            "23.30184006690979\n"
          ]
        }
      ],
      "source": [
        "start_time = time.time()\n",
        "\n",
        "# PCA + LightGBMKNN\n",
        "print(\"\\nPCA + LightGBMKNN:\")\n",
        "\n",
        "pca_lgbm = Pipeline([\n",
        "    ('pca', PCA(n_components=5)),  # 피쳐 수를 줄임\n",
        "    ('lgbm', LGBMClassifier(random_state=42))\n",
        "])\n",
        "\n",
        "lgbm_train_scores, lgbm_valid_scores, lgbm_test_auc = modeling(pca_lgbm, X, y)\n",
        "\n",
        "end_time = time.time()\n",
        "print(end_time - start_time)"
      ]
    },
    {
      "cell_type": "code",
      "execution_count": 27,
      "metadata": {},
      "outputs": [
        {
          "name": "stdout",
          "output_type": "stream",
          "text": [
            "\n",
            "XGBoost:\n"
          ]
        },
        {
          "name": "stderr",
          "output_type": "stream",
          "text": [
            "Folds:  20%|██        | 1/5 [00:06<00:26,  6.53s/it]"
          ]
        },
        {
          "name": "stdout",
          "output_type": "stream",
          "text": [
            "Fold 1: Train ROC AUC: 0.9078, Validation ROC AUC: 0.8633\n"
          ]
        },
        {
          "name": "stderr",
          "output_type": "stream",
          "text": [
            "Folds:  40%|████      | 2/5 [00:12<00:19,  6.40s/it]"
          ]
        },
        {
          "name": "stdout",
          "output_type": "stream",
          "text": [
            "Fold 2: Train ROC AUC: 0.9090, Validation ROC AUC: 0.8612\n"
          ]
        },
        {
          "name": "stderr",
          "output_type": "stream",
          "text": [
            "Folds:  60%|██████    | 3/5 [00:18<00:12,  6.08s/it]"
          ]
        },
        {
          "name": "stdout",
          "output_type": "stream",
          "text": [
            "Fold 3: Train ROC AUC: 0.9099, Validation ROC AUC: 0.8676\n"
          ]
        },
        {
          "name": "stderr",
          "output_type": "stream",
          "text": [
            "Folds:  80%|████████  | 4/5 [00:25<00:06,  6.41s/it]"
          ]
        },
        {
          "name": "stdout",
          "output_type": "stream",
          "text": [
            "Fold 4: Train ROC AUC: 0.9086, Validation ROC AUC: 0.8580\n"
          ]
        },
        {
          "name": "stderr",
          "output_type": "stream",
          "text": [
            "Folds: 100%|██████████| 5/5 [00:33<00:00,  6.61s/it]"
          ]
        },
        {
          "name": "stdout",
          "output_type": "stream",
          "text": [
            "Fold 5: Train ROC AUC: 0.9093, Validation ROC AUC: 0.8601\n",
            "Average Train ROC AUC: 0.9089\n",
            "Average Validation ROC AUC: 0.8620\n"
          ]
        },
        {
          "name": "stderr",
          "output_type": "stream",
          "text": [
            "\n"
          ]
        },
        {
          "name": "stdout",
          "output_type": "stream",
          "text": [
            "Test ROC AUC: 0.8617\n",
            "34.07271909713745\n"
          ]
        }
      ],
      "source": [
        "start_time = time.time()\n",
        "\n",
        "# XGBoost\n",
        "print(\"\\nXGBoost:\")\n",
        "xgb_model = XGBClassifier(random_state=42)\n",
        "xgb_train_scores, xgb_valid_scores, xgb_test_auc = modeling(xgb_model, X, y)\n",
        "\n",
        "end_time = time.time()\n",
        "print(end_time - start_time)\n"
      ]
    },
    {
      "cell_type": "code",
      "execution_count": 28,
      "metadata": {},
      "outputs": [
        {
          "name": "stdout",
          "output_type": "stream",
          "text": [
            "\n",
            "XGBoost:\n"
          ]
        },
        {
          "name": "stderr",
          "output_type": "stream",
          "text": [
            "Folds:  20%|██        | 1/5 [00:04<00:16,  4.06s/it]"
          ]
        },
        {
          "name": "stdout",
          "output_type": "stream",
          "text": [
            "Fold 1: Train ROC AUC: 0.8863, Validation ROC AUC: 0.8496\n"
          ]
        },
        {
          "name": "stderr",
          "output_type": "stream",
          "text": [
            "Folds:  40%|████      | 2/5 [00:07<00:11,  3.97s/it]"
          ]
        },
        {
          "name": "stdout",
          "output_type": "stream",
          "text": [
            "Fold 2: Train ROC AUC: 0.8888, Validation ROC AUC: 0.8474\n"
          ]
        },
        {
          "name": "stderr",
          "output_type": "stream",
          "text": [
            "Folds:  60%|██████    | 3/5 [00:12<00:08,  4.23s/it]"
          ]
        },
        {
          "name": "stdout",
          "output_type": "stream",
          "text": [
            "Fold 3: Train ROC AUC: 0.8850, Validation ROC AUC: 0.8528\n"
          ]
        },
        {
          "name": "stderr",
          "output_type": "stream",
          "text": [
            "Folds:  80%|████████  | 4/5 [00:16<00:04,  4.05s/it]"
          ]
        },
        {
          "name": "stdout",
          "output_type": "stream",
          "text": [
            "Fold 4: Train ROC AUC: 0.8881, Validation ROC AUC: 0.8453\n"
          ]
        },
        {
          "name": "stderr",
          "output_type": "stream",
          "text": [
            "Folds: 100%|██████████| 5/5 [00:19<00:00,  3.98s/it]"
          ]
        },
        {
          "name": "stdout",
          "output_type": "stream",
          "text": [
            "Fold 5: Train ROC AUC: 0.8890, Validation ROC AUC: 0.8453\n",
            "Average Train ROC AUC: 0.8875\n",
            "Average Validation ROC AUC: 0.8481\n"
          ]
        },
        {
          "name": "stderr",
          "output_type": "stream",
          "text": [
            "\n"
          ]
        },
        {
          "name": "stdout",
          "output_type": "stream",
          "text": [
            "Test ROC AUC: 0.8465\n",
            "21.036637783050537\n"
          ]
        }
      ],
      "source": [
        "start_time = time.time()\n",
        "\n",
        "# XGBoost\n",
        "print(\"\\nXGBoost:\")\n",
        "\n",
        "pca_xgb = Pipeline([\n",
        "    ('pca', PCA(n_components=5)),  # 피쳐 수를 줄임\n",
        "    ('xgb', XGBClassifier(random_state=42))\n",
        "])\n",
        "\n",
        "lgbm_train_scores, lgbm_valid_scores, lgbm_test_auc = modeling(pca_xgb, X, y)\n",
        "\n",
        "end_time = time.time()\n",
        "print(end_time - start_time)"
      ]
    },
    {
      "cell_type": "code",
      "execution_count": 31,
      "metadata": {},
      "outputs": [
        {
          "name": "stdout",
          "output_type": "stream",
          "text": [
            "\n",
            "CatBoost:\n"
          ]
        },
        {
          "name": "stderr",
          "output_type": "stream",
          "text": [
            "Folds:  20%|██        | 1/5 [00:56<03:44, 56.10s/it]"
          ]
        },
        {
          "name": "stdout",
          "output_type": "stream",
          "text": [
            "Fold 1: Train ROC AUC: 0.9026, Validation ROC AUC: 0.8661\n"
          ]
        },
        {
          "name": "stderr",
          "output_type": "stream",
          "text": [
            "Folds:  40%|████      | 2/5 [02:12<03:24, 68.14s/it]"
          ]
        },
        {
          "name": "stdout",
          "output_type": "stream",
          "text": [
            "Fold 2: Train ROC AUC: 0.9023, Validation ROC AUC: 0.8627\n"
          ]
        },
        {
          "name": "stderr",
          "output_type": "stream",
          "text": [
            "Folds:  60%|██████    | 3/5 [02:54<01:52, 56.05s/it]"
          ]
        },
        {
          "name": "stdout",
          "output_type": "stream",
          "text": [
            "Fold 3: Train ROC AUC: 0.9014, Validation ROC AUC: 0.8698\n"
          ]
        },
        {
          "name": "stderr",
          "output_type": "stream",
          "text": [
            "Folds:  80%|████████  | 4/5 [03:40<00:52, 52.17s/it]"
          ]
        },
        {
          "name": "stdout",
          "output_type": "stream",
          "text": [
            "Fold 4: Train ROC AUC: 0.9029, Validation ROC AUC: 0.8620\n"
          ]
        },
        {
          "name": "stderr",
          "output_type": "stream",
          "text": [
            "Folds: 100%|██████████| 5/5 [04:07<00:00, 49.51s/it]"
          ]
        },
        {
          "name": "stdout",
          "output_type": "stream",
          "text": [
            "Fold 5: Train ROC AUC: 0.9022, Validation ROC AUC: 0.8607\n",
            "Average Train ROC AUC: 0.9023\n",
            "Average Validation ROC AUC: 0.8643\n"
          ]
        },
        {
          "name": "stderr",
          "output_type": "stream",
          "text": [
            "\n"
          ]
        },
        {
          "name": "stdout",
          "output_type": "stream",
          "text": [
            "Test ROC AUC: 0.8657\n",
            "248.76237201690674\n"
          ]
        }
      ],
      "source": [
        "start_time = time.time()\n",
        "\n",
        "# CatBoost\n",
        "print(\"\\nCatBoost:\")\n",
        "cat_model = CatBoostClassifier(verbose=0, random_state=42)\n",
        "cat_train_scores, cat_valid_scores, cat_test_auc = modeling(cat_model, X, y)\n",
        "\n",
        "end_time = time.time()\n",
        "print(end_time - start_time)"
      ]
    },
    {
      "cell_type": "code",
      "execution_count": 34,
      "metadata": {},
      "outputs": [
        {
          "name": "stdout",
          "output_type": "stream",
          "text": [
            "\n",
            "CatBoost:\n"
          ]
        },
        {
          "name": "stderr",
          "output_type": "stream",
          "text": [
            "Folds:  20%|██        | 1/5 [00:09<00:39,  9.99s/it]"
          ]
        },
        {
          "name": "stdout",
          "output_type": "stream",
          "text": [
            "Fold 1: Train ROC AUC: 0.8883, Validation ROC AUC: 0.8491\n"
          ]
        },
        {
          "name": "stderr",
          "output_type": "stream",
          "text": [
            "Folds:  40%|████      | 2/5 [00:17<00:25,  8.63s/it]"
          ]
        },
        {
          "name": "stdout",
          "output_type": "stream",
          "text": [
            "Fold 2: Train ROC AUC: 0.8897, Validation ROC AUC: 0.8461\n"
          ]
        },
        {
          "name": "stderr",
          "output_type": "stream",
          "text": [
            "Folds:  60%|██████    | 3/5 [00:22<00:13,  6.95s/it]"
          ]
        },
        {
          "name": "stdout",
          "output_type": "stream",
          "text": [
            "Fold 3: Train ROC AUC: 0.8859, Validation ROC AUC: 0.8522\n"
          ]
        },
        {
          "name": "stderr",
          "output_type": "stream",
          "text": [
            "Folds:  80%|████████  | 4/5 [00:27<00:06,  6.03s/it]"
          ]
        },
        {
          "name": "stdout",
          "output_type": "stream",
          "text": [
            "Fold 4: Train ROC AUC: 0.8876, Validation ROC AUC: 0.8465\n"
          ]
        },
        {
          "name": "stderr",
          "output_type": "stream",
          "text": [
            "Folds: 100%|██████████| 5/5 [00:31<00:00,  6.36s/it]"
          ]
        },
        {
          "name": "stdout",
          "output_type": "stream",
          "text": [
            "Fold 5: Train ROC AUC: 0.8889, Validation ROC AUC: 0.8464\n",
            "Average Train ROC AUC: 0.8881\n",
            "Average Validation ROC AUC: 0.8481\n"
          ]
        },
        {
          "name": "stderr",
          "output_type": "stream",
          "text": [
            "\n"
          ]
        },
        {
          "name": "stdout",
          "output_type": "stream",
          "text": [
            "Test ROC AUC: 0.8478\n",
            "33.40449595451355\n"
          ]
        }
      ],
      "source": [
        "start_time = time.time()\n",
        "\n",
        "# CatBoost\n",
        "print(\"\\nCatBoost:\")\n",
        "\n",
        "pca_cat = Pipeline([\n",
        "    ('pca', PCA(n_components=5)),  # 피쳐 수를 줄임\n",
        "    ('xgb', XGBClassifier(random_state=42))\n",
        "])\n",
        "\n",
        "cat_train_scores, cat_valid_scores, cat_test_auc = modeling(pca_cat, X, y)\n",
        "\n",
        "end_time = time.time()\n",
        "print(end_time - start_time)"
      ]
    }
  ],
  "metadata": {
    "colab": {
      "provenance": []
    },
    "kernelspec": {
      "display_name": "Python 3",
      "name": "python3"
    },
    "language_info": {
      "codemirror_mode": {
        "name": "ipython",
        "version": 3
      },
      "file_extension": ".py",
      "mimetype": "text/x-python",
      "name": "python",
      "nbconvert_exporter": "python",
      "pygments_lexer": "ipython3",
      "version": "3.12.0"
    }
  },
  "nbformat": 4,
  "nbformat_minor": 0
}
