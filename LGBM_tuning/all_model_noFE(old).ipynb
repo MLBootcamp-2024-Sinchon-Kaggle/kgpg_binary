{
 "cells": [
  {
   "cell_type": "code",
   "execution_count": null,
   "metadata": {},
   "outputs": [],
   "source": [
    "import numpy as np\n",
    "import pandas as pd\n",
    "from sklearn.model_selection import train_test_split\n",
    "from sklearn.model_selection import StratifiedKFold\n",
    "import matplotlib.pyplot as plt\n",
    "from sklearn.preprocessing import MinMaxScaler\n",
    "from sklearn.metrics import roc_auc_score, confusion_matrix, classification_report\n",
    "from sklearn.preprocessing import TargetEncoder\n",
    "from tqdm import tqdm\n",
    "from sklearn.linear_model import LogisticRegression\n",
    "from sklearn.ensemble import RandomForestClassifier\n",
    "from catboost import CatBoostClassifier\n",
    "from xgboost import XGBClassifier\n",
    "from lightgbm import LGBMClassifier\n",
    "import joblib\n",
    "\n",
    "# Read the data\n",
    "train_origin = pd.read_csv('/Users/jaesolshin/내 드라이브/2024-2/Google ML Bootcamp2024/data/playground1/train.csv')"
   ]
  },
  {
   "cell_type": "code",
   "execution_count": null,
   "metadata": {},
   "outputs": [],
   "source": [
    "# 데이터 샘플링\n",
    "#train = train_origin.sample(frac=0.001, random_state = 42).set_index('id').astype(str)\n",
    "train = train_origin.set_index('id').astype(str)\n",
    "\n",
    "# 예측변수 분리 및 train, valid set 분리\n",
    "X = train.drop(['Response'], axis=1)\n",
    "y = train['Response'].astype(float)\n",
    "\n",
    "# Train/Test split\n",
    "X_train, X_valid, y_train, y_valid = train_test_split(X, y, test_size=0.2, random_state=42)\n",
    "\n",
    "# 타겟 인코딩\n",
    "enc = TargetEncoder()\n",
    "X_train = enc.fit_transform(X_train, y_train)\n",
    "X_valid = enc.transform(X_valid)  # 학습된 인코더를 테스트 데이터에 적용\n",
    "X_train = X_train.astype(float)\n",
    "X_valid = X_valid.astype(float)\n"
   ]
  },
  {
   "cell_type": "code",
   "execution_count": null,
   "metadata": {},
   "outputs": [],
   "source": [
    "results=[]\n",
    "\n",
    "def modeling(model):\n",
    "    model.fit(X_train, y_train)\n",
    "    valid_preds = model.predict_proba(X_valid)[:, 1]\n",
    "    valid_auc = roc_auc_score(y_valid, valid_preds)\n",
    "    print(\"ROC AUC:\", valid_auc)\n",
    "\n",
    "    results.append({\"ROC AUC\":valid_auc,\"valid_preds\":valid_preds})\n",
    "    return valid_auc, valid_preds"
   ]
  },
  {
   "cell_type": "markdown",
   "metadata": {},
   "source": [
    "LightGBM   ROC-AUC: 0.8854   Time: 2m 32.1s\n",
    "{'lambda_l1': 0.1, 'lambda_l2': 0.1, 'learning_rate': 0.1, 'max_depth': -1, 'n_estimators': 100, 'num_leaves': 20, 'verbose':-1}\n",
    "\n"
   ]
  },
  {
   "cell_type": "code",
   "execution_count": 10,
   "metadata": {},
   "outputs": [
    {
     "name": "stdout",
     "output_type": "stream",
     "text": [
      "\n",
      "LightGBM:\n",
      "ROC AUC: 0.8854378058218718\n"
     ]
    },
    {
     "data": {
      "text/plain": [
       "(0.8854378058218718,\n",
       " array([2.69057586e-01, 1.41895106e-01, 3.62949571e-01, ...,\n",
       "        2.42836373e-04, 3.91265241e-04, 9.96636466e-02]))"
      ]
     },
     "execution_count": 10,
     "metadata": {},
     "output_type": "execute_result"
    }
   ],
   "source": [
    "# LightGBM\n",
    "print(\"\\nLightGBM:\")\n",
    "best_param = {'lambda_l1': 0.1, 'lambda_l2': 0.1, 'learning_rate': 0.1, 'max_depth': -1, 'n_estimators': 100, 'num_leaves': 20, 'verbose':-1}\n",
    "#{'objective': 'binary', 'boosting_type': 'gbdt', 'num_leaves': 31, 'learning_rate': 0.05, 'feature_fraction': 0.9, 'n_estimators': 100, 'device': 'gpu', 'gpu_platform_id': 0, 'gpu_device_id': 0, 'metric': 'auc'}\n",
    "lgbm_model1 = LGBMClassifier(**best_param, random_state=42)\n",
    "\n",
    "modeling(lgbm_model1)"
   ]
  },
  {
   "cell_type": "markdown",
   "metadata": {},
   "source": [
    "LightGBM   ROC-AUC: 0.8848  Time: 2m 20.4s\n",
    "{'objective': 'binary', 'boosting_type': 'gbdt', 'num_leaves': 31, 'learning_rate': 0.05, 'feature_fraction': 0.9, 'n_estimators': 100, 'device': 'gpu', 'gpu_platform_id': 0, 'gpu_device_id': 0, 'metric': 'auc'}"
   ]
  },
  {
   "cell_type": "code",
   "execution_count": 11,
   "metadata": {},
   "outputs": [
    {
     "name": "stdout",
     "output_type": "stream",
     "text": [
      "\n",
      "LightGBM:\n",
      "[LightGBM] [Warning] feature_fraction is set=0.9, colsample_bytree=1.0 will be ignored. Current value: feature_fraction=0.9\n",
      "[LightGBM] [Warning] feature_fraction is set=0.9, colsample_bytree=1.0 will be ignored. Current value: feature_fraction=0.9\n",
      "[LightGBM] [Info] Number of positive: 1131875, number of negative: 8071963\n",
      "[LightGBM] [Info] Auto-choosing col-wise multi-threading, the overhead of testing was 1.197368 seconds.\n",
      "You can set `force_col_wise=true` to remove the overhead.\n",
      "[LightGBM] [Info] Total Bins 1188\n",
      "[LightGBM] [Info] Number of data points in the train set: 9203838, number of used features: 10\n",
      "[LightGBM] [Info] [binary:BoostFromScore]: pavg=0.122979 -> initscore=-1.964521\n",
      "[LightGBM] [Info] Start training from score -1.964521\n",
      "[LightGBM] [Warning] feature_fraction is set=0.9, colsample_bytree=1.0 will be ignored. Current value: feature_fraction=0.9\n",
      "ROC AUC: 0.884788781984587\n"
     ]
    },
    {
     "data": {
      "text/plain": [
       "(0.884788781984587,\n",
       " array([0.26687232, 0.13061131, 0.32398892, ..., 0.00115292, 0.00118716,\n",
       "        0.1151039 ]))"
      ]
     },
     "execution_count": 11,
     "metadata": {},
     "output_type": "execute_result"
    }
   ],
   "source": [
    "# LightGBM\n",
    "print(\"\\nLightGBM:\")\n",
    "best_param = {'objective': 'binary', 'boosting_type': 'gbdt', 'num_leaves': 31, 'learning_rate': 0.05, 'feature_fraction': 0.9, 'n_estimators': 100, 'metric': 'auc'}\n",
    "lgbm_model2 = LGBMClassifier(**best_param, random_state=42)\n",
    "\n",
    "modeling(lgbm_model2)"
   ]
  },
  {
   "cell_type": "markdown",
   "metadata": {},
   "source": [
    "XGBoost   ROC-AUC: 0.8857  Time: 1m 34.6s\n",
    "{'n_estimators': 50, 'max_depth': 12, 'eval_metric':'logloss'}\n",
    "'use_label_encoder': False, 'tree_method':'gpu_hist'"
   ]
  },
  {
   "cell_type": "code",
   "execution_count": 12,
   "metadata": {},
   "outputs": [
    {
     "name": "stdout",
     "output_type": "stream",
     "text": [
      "\n",
      "XGBoost:\n"
     ]
    },
    {
     "name": "stderr",
     "output_type": "stream",
     "text": [
      "/Library/Frameworks/Python.framework/Versions/3.12/lib/python3.12/site-packages/xgboost/core.py:158: UserWarning: [13:39:51] WARNING: /Users/runner/work/xgboost/xgboost/src/learner.cc:740: \n",
      "Parameters: { \"use_label_encoder\" } are not used.\n",
      "\n",
      "  warnings.warn(smsg, UserWarning)\n"
     ]
    },
    {
     "name": "stdout",
     "output_type": "stream",
     "text": [
      "ROC AUC: 0.8856846852175086\n"
     ]
    },
    {
     "data": {
      "text/plain": [
       "(0.8856846852175086,\n",
       " array([3.1889963e-01, 1.0619615e-01, 2.8649637e-01, ..., 1.3015227e-04,\n",
       "        1.6171826e-04, 9.8949939e-02], dtype=float32))"
      ]
     },
     "execution_count": 12,
     "metadata": {},
     "output_type": "execute_result"
    }
   ],
   "source": [
    "# XGBoost\n",
    "print(\"\\nXGBoost:\")\n",
    "xgb_param = {'n_estimators': 50, 'max_depth': 12, 'eval_metric':'logloss'}\n",
    "xgb_model = XGBClassifier(**xgb_param, random_state=42)\n",
    "modeling(xgb_model)"
   ]
  },
  {
   "cell_type": "markdown",
   "metadata": {},
   "source": [
    "CatBoost   ROC-AUC: 0.8869   Time: 168m 30.2s\n",
    "iterations:1000 -> 41m 9.1s\n",
    "iterations:3000 -> 168m 30.2s\n",
    "{ 'loss_function': 'Logloss', 'eval_metric': 'AUC', 'class_names': [0, 1], 'learning_rate': 0.075, 'iterations': 3000, 'depth': 9, 'random_strength': 0, 'l2_leaf_reg': 0.5, 'max_leaves': 512, 'fold_permutation_block': 64, 'verbose': False, 'allow_writing_files': False }\n",
    "\n",
    "'task_type': 'GPU'"
   ]
  },
  {
   "cell_type": "code",
   "execution_count": 13,
   "metadata": {},
   "outputs": [
    {
     "name": "stdout",
     "output_type": "stream",
     "text": [
      "\n",
      "CatBoost:\n",
      "ROC AUC: 0.8869308470546298\n"
     ]
    },
    {
     "data": {
      "text/plain": [
       "(0.8869308470546298,\n",
       " array([3.19141099e-01, 1.17099170e-01, 3.33643198e-01, ...,\n",
       "        1.41015313e-04, 3.43219978e-04, 1.05149323e-01]))"
      ]
     },
     "execution_count": 13,
     "metadata": {},
     "output_type": "execute_result"
    }
   ],
   "source": [
    "# CatBoost\n",
    "print(\"\\nCatBoost:\")\n",
    "cat_param = { 'loss_function': 'Logloss', 'eval_metric': 'AUC', 'class_names': [0, 1], 'learning_rate': 0.075, 'iterations': 3000, 'depth': 9, 'random_strength': 0, 'l2_leaf_reg': 0.5, 'max_leaves': 512, 'fold_permutation_block': 64, 'allow_writing_files': False, 'verbose':0}\n",
    "cat_model = CatBoostClassifier(**cat_param, random_state=42)\n",
    "modeling(cat_model)"
   ]
  },
  {
   "cell_type": "code",
   "execution_count": null,
   "metadata": {},
   "outputs": [],
   "source": [
    "ensemble soft voting : 0.8869"
   ]
  },
  {
   "cell_type": "code",
   "execution_count": 26,
   "metadata": {},
   "outputs": [
    {
     "name": "stdout",
     "output_type": "stream",
     "text": [
      "    ROC AUC                                        valid_preds\n",
      "0  0.885438  [0.269057585848406, 0.14189510575872583, 0.362...\n",
      "1  0.884789  [0.26687232020494717, 0.130611305217624, 0.323...\n",
      "2  0.885685  [0.31889963, 0.10619615, 0.28649637, 5.4846005...\n",
      "3  0.886931  [0.31914109888247305, 0.11709916978790279, 0.3...\n",
      "ensemble ROC AUC: 0.8869234514462901\n"
     ]
    }
   ],
   "source": [
    "print(results)\n",
    "results_df = pd.DataFrame(results)\n",
    "ensemble_preds = np.mean(results['valid_preds'], axis=0)\n",
    "ensemble_auc = roc_auc_score(y_valid, ensemble_preds)\n",
    "print(\"ensemble ROC AUC:\", ensemble_auc)"
   ]
  },
  {
   "cell_type": "code",
   "execution_count": 27,
   "metadata": {},
   "outputs": [],
   "source": [
    "#test 데이터 로드\n",
    "test_origin = pd.read_csv('/Users/jaesolshin/내 드라이브/2024-2/Google ML Bootcamp2024/data/playground1/test.csv')\n",
    "\n",
    "#인덱스 제외\n",
    "X_test = test_origin.set_index('id').astype(str)\n",
    "\n",
    "# 변수 타겟 인코딩\n",
    "X_test = pd.DataFrame(enc.transform(X_test), index=X_test.index, \n",
    "                      columns=X_test.columns)"
   ]
  },
  {
   "cell_type": "code",
   "execution_count": 29,
   "metadata": {},
   "outputs": [],
   "source": [
    "classifiers = [lgbm_model1, lgbm_model2, xgb_model, cat_model]\n",
    "sub_results = []\n",
    "\n",
    "for model in classifiers:\n",
    "    # 예측 생성\n",
    "    y_test_pred = model.predict_proba(X_test)[:,1]\n",
    "    sub_results.append({\"valid_preds\":y_test_pred})\n",
    "\n",
    "    # 'id'와 'Response' 열이 있는 DataFrame 생성\n",
    "    submission = pd.DataFrame({'id': X_test.index, 'Response': y_test_pred})\n",
    "    \n",
    "    # 예측을 CSV 파일로 저장\n",
    "    submission .to_csv(f'{model}_predictions.csv', index=False)\n",
    "    print(f\"Predictions saved to '{model}_predictions.csv'\")\n",
    "\n",
    "\n",
    "sub_results = pd.DataFrame(sub_results, result)\n",
    "ensemble_pred = np.mean(results['valid_preds'], axis=0)\n",
    "submission = pd.DataFrame({'id': ensemble_pred.index, 'Response': ensemble_pred})\n",
    "\n",
    "# 예측을 CSV 파일로 저장\n",
    "submission.to_csv(f'ensemble_predictions.csv', index=False)\n",
    "print(f\"Predictions saved to 'ensemble_predictions.csv'\")"
   ]
  },
  {
   "cell_type": "code",
   "execution_count": null,
   "metadata": {},
   "outputs": [],
   "source": [
    "submision.head()"
   ]
  }
 ],
 "metadata": {
  "kernelspec": {
   "display_name": "Python 3",
   "language": "python",
   "name": "python3"
  },
  "language_info": {
   "codemirror_mode": {
    "name": "ipython",
    "version": 3
   },
   "file_extension": ".py",
   "mimetype": "text/x-python",
   "name": "python",
   "nbconvert_exporter": "python",
   "pygments_lexer": "ipython3",
   "version": "3.12.0"
  }
 },
 "nbformat": 4,
 "nbformat_minor": 2
}
