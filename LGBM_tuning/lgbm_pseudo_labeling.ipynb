{
 "cells": [
  {
   "cell_type": "code",
   "execution_count": 2,
   "metadata": {},
   "outputs": [],
   "source": [
    "import numpy as np\n",
    "import pandas as pd\n",
    "from sklearn.model_selection import train_test_split\n",
    "from sklearn.model_selection import StratifiedKFold\n",
    "import matplotlib.pyplot as plt\n",
    "from sklearn.preprocessing import MinMaxScaler, TargetEncoder\n",
    "from sklearn.metrics import roc_auc_score, confusion_matrix, classification_report\n",
    "from sklearn.calibration import CalibratedClassifierCV\n",
    "from tqdm import tqdm\n",
    "from sklearn.linear_model import LogisticRegression\n",
    "from sklearn.ensemble import RandomForestClassifier\n",
    "from catboost import CatBoostClassifier\n",
    "from xgboost import XGBClassifier\n",
    "from lightgbm import LGBMClassifier\n",
    "import joblib\n",
    "import subprocess\n",
    "\n",
    "# Read the data\n",
    "train_origin = pd.read_csv('/Users/jaesolshin/내 드라이브/2024-2/Google ML Bootcamp2024/data/playground1/train.csv')"
   ]
  },
  {
   "cell_type": "code",
   "execution_count": 3,
   "metadata": {},
   "outputs": [],
   "source": [
    "results=[]\n",
    "\n",
    "def modeling(model, X_train, y_train, X_valid, y_valid):\n",
    "    model.fit(X_train, y_train)\n",
    "    valid_preds = model.predict_proba(X_valid)[:, 1]\n",
    "    valid_auc = roc_auc_score(y_valid, valid_preds)\n",
    "    print(\"ROC AUC:\", valid_auc)\n",
    "\n",
    "    results.append({\"ROC AUC\":valid_auc,\"valid_preds\":valid_preds})\n",
    "    return valid_auc, valid_preds\n",
    "\n",
    "def calibrated_modeling(model, X_train, y_train, X_valid, y_valid):\n",
    "    model.fit(X_train, y_train)\n",
    "    calibrated = CalibratedClassifierCV(model, cv=5).fit(X_train, y_train)\n",
    "    valid_preds = calibrated.predict_proba(X_valid)[:, 1]\n",
    "    valid_auc = roc_auc_score(y_valid, valid_preds)\n",
    "    print(\"ROC AUC:\", valid_auc)"
   ]
  },
  {
   "cell_type": "markdown",
   "metadata": {},
   "source": [
    "\n",
    "#테스트 절차\n",
    "1. train, valid, test set 분할\n",
    "2. train으로 훈련(X_train, y_train) => valid로 검증(X_valid, y_valid)\n",
    "3. 2에서 검증한 모델에 전체 X_test를 넣어 Y_test_pred 생성.\n",
    "4. Y_test, Y_test_pred -> 성능지표(auc) 확인 : baseline approach\n",
    "\n",
    "5. test 중 일부(36%) 샘플링 => X_test_sampled, y_test_sampled\n",
    "6. 2에서 검증한 모델로 X_test_sampled => y_test_pseudolable 생성\n",
    "7. 생성한 레이블이 신뢰할 만한지 y_test_sampled와 비교(정확도, 재현율)\n",
    "\n",
    "8. train 데이터에 (X_test_sampled, y_test_pseudolable) 샘플을 추가하여 pooled 데이터 구성(X_pooled, y_pooled).\n",
    "10. pooled에서 훈련 뒤 valid로 검증.\n",
    "11. 7에서 검증한 모델에 전체 X_test를 넣어 Y_test_pred 생성.\n",
    "12. Y_test, Y_test_pred -> 성능지표(auc) 확인 : pseudo-labling approach\n",
    "\n",
    "13. pooled+valid로 훈련, 검증 X.\n",
    "14. 13에서 훈련한 모델에 전체 X_test를 넣어 Y_test_pred 생성.\n",
    "15. Y_test, Y_test_pred -> 성능지표(auc) 확인 : pseudo-labling approach"
   ]
  },
  {
   "cell_type": "code",
   "execution_count": 5,
   "metadata": {},
   "outputs": [],
   "source": [
    "### 0. 준비 ###\n",
    "\n",
    "# 전체 데이터 전처리\n",
    "train = train_origin.set_index('id').astype(str)\n",
    "\n",
    "# 예측변수 분리\n",
    "X = train.drop(['Response'], axis=1)\n",
    "y = train['Response'].astype(float)\n",
    "\n",
    "### 1. train, valid, test set 분할 ###\n",
    "\n",
    "# train:test 0.5:0.5 split\n",
    "X_train, X_test, y_train, y_test = train_test_split(X, y, test_size=0.5, stratify=y, random_state=240726)\n",
    "\n",
    "# train:valid 0.8:0.2 split => train:valid:test = 0.4:0.1:0.5\n",
    "X_train, X_valid, y_train, y_valid = train_test_split(X_train, y_train, test_size=0.2, stratify=y_train, random_state=240726)\n",
    "\n",
    "# 타겟 인코딩\n",
    "enc = TargetEncoder()\n",
    "X_train_tf = enc.fit_transform(X_train, y_train)\n",
    "X_valid_tf = enc.transform(X_valid)  # 학습된 인코더를 valid 데이터에 적용\n",
    "X_train_tf = X_train_tf.astype(float)\n",
    "X_valid_tf = X_valid_tf.astype(float)"
   ]
  },
  {
   "cell_type": "code",
   "execution_count": 15,
   "metadata": {},
   "outputs": [
    {
     "name": "stdout",
     "output_type": "stream",
     "text": [
      "\n",
      "LightGBM:\n",
      "ROC AUC: 0.8848090032754495\n",
      "ROC AUC: 0.8850564516068894\n"
     ]
    }
   ],
   "source": [
    "### 2. train으로 훈련(X_train, y_train) => valid로 검증(X_valid, y_valid) ###\n",
    "\n",
    "# LightGBM\n",
    "print(\"\\nLightGBM:\")\n",
    "best_param = {'lambda_l1': 0.1, 'lambda_l2': 0.1, 'learning_rate': 0.1, 'max_depth': -1, 'n_estimators': 100, 'num_leaves': 20, 'verbose':-1}\n",
    "lgbm_model = LGBMClassifier(**best_param, random_state=42)\n",
    "\n",
    "modeling(lgbm_model, X_train_tf, y_train, X_valid_tf, y_valid)\n",
    "calibrated_modeling(lgbm_model, X_train_tf, y_train, X_valid_tf, y_valid)"
   ]
  },
  {
   "cell_type": "code",
   "execution_count": 16,
   "metadata": {},
   "outputs": [
    {
     "name": "stdout",
     "output_type": "stream",
     "text": [
      "ROC AUC: 0.8850589032106315\n",
      "ROC AUC: 0.8853068166707659\n"
     ]
    }
   ],
   "source": [
    "### 3. 2에서 검증한 모델에 전체 X_test를 넣어 Y_test_pred 생성. ###\n",
    "### 4. Y_test, Y_test_pred -> 성능지표(auc) 확인 : baseline approach ###\n",
    "\n",
    "X_test_tf = enc.transform(X_test)  # 학습된 인코더를 테스트 데이터에 적용\n",
    "X_test_tf  = X_test_tf.astype(float)\n",
    "\n",
    "modeling(lgbm_model, X_train_tf, y_train, X_test_tf, y_test)\n",
    "calibrated_modeling(lgbm_model, X_train_tf, y_train, X_test_tf, y_test)"
   ]
  },
  {
   "cell_type": "code",
   "execution_count": 18,
   "metadata": {},
   "outputs": [
    {
     "name": "stdout",
     "output_type": "stream",
     "text": [
      "              precision    recall  f1-score   support\n",
      "\n",
      "         0.0       0.89      0.98      0.94   3228716\n",
      "         1.0       0.59      0.16      0.26    452819\n",
      "\n",
      "    accuracy                           0.88   3681535\n",
      "   macro avg       0.74      0.57      0.60   3681535\n",
      "weighted avg       0.86      0.88      0.85   3681535\n",
      "\n"
     ]
    }
   ],
   "source": [
    "### 5. test 중 일부(36%) 샘플링 => X_test_sampled, y_test_sampled ### \n",
    "X_test_sampled, X_test_rest, y_test_sampled, y_test_rest = train_test_split(X_test, y_test, test_size=0.36, stratify=y_test, random_state=240726)\n",
    "\n",
    "X_test_sampled_tf = enc.transform(X_test_sampled)  # 학습된 인코더를 테스트 데이터에 적용\n",
    "X_test_sampled_tf  = X_test_sampled_tf.astype(float)\n",
    "\n",
    "### 6. 2에서 검증한 모델로 X_test_sampled => y_test_pseudolable 생성 ### \n",
    "y_test_pseudolable = lgbm_model.predict(X_test_sampled_tf)[:, 1]\n",
    "\n",
    "### 7. 생성한 레이블이 신뢰할 만한지 y_test_sampled와 비교(정확도, 재현율) ### \n",
    "print(classification_report(y_test_sampled, y_test_pseudolable))"
   ]
  },
  {
   "cell_type": "code",
   "execution_count": 21,
   "metadata": {},
   "outputs": [
    {
     "name": "stdout",
     "output_type": "stream",
     "text": [
      "ROC AUC: 0.8702029944992574\n",
      "ROC AUC: 0.8511197296691382\n"
     ]
    }
   ],
   "source": [
    "### 8. train 데이터에 (X_test_sampled_tf, y_test_pseudolable) 샘플을 추가하여 pooled 데이터 구성(X_pooled, y_pooled).\n",
    "X_pooled = np.concatenate((X_train_tf, X_test_sampled_tf), axis=0)\n",
    "y_pooled = np.concatenate((y_train, y_test_pseudolable), axis=0)\n",
    "\n",
    "### 10. pooled에서 훈련 뒤 valid로 검증.\n",
    "modeling(lgbm_model, X_pooled, y_pooled, X_valid_tf, y_valid)\n",
    "calibrated_modeling(lgbm_model, X_pooled, y_pooled, X_valid_tf, y_valid)"
   ]
  },
  {
   "cell_type": "code",
   "execution_count": 30,
   "metadata": {},
   "outputs": [
    {
     "name": "stdout",
     "output_type": "stream",
     "text": [
      "ROC AUC: 0.8703705179199774\n",
      "ROC AUC: 0.8511262806706722\n"
     ]
    }
   ],
   "source": [
    "### 11. 7에서 검증한 모델에 전체 X_test를 넣어 Y_test_pred 생성.\n",
    "### 12. Y_test, Y_test_pred -> 성능지표(auc) 확인 : pseudo-labling approach\n",
    "modeling(lgbm_model, X_pooled, y_pooled, X_test_tf, y_test)\n",
    "calibrated_modeling(lgbm_model, X_pooled, y_pooled, X_test_tf, y_test)"
   ]
  },
  {
   "cell_type": "code",
   "execution_count": null,
   "metadata": {},
   "outputs": [],
   "source": [
    "#13. pooled+valid로 훈련, 검증 X.\n",
    "X_pooled = np.concatenate((X_pooled, X_valid_tf), axis=0)\n",
    "y_pooled = np.concatenate((y_pooled, y_valid), axis=0)\n",
    "\n",
    "#14. 13에서 훈련한 모델에 전체 X_test를 넣어 Y_test_pred 생성.\n",
    "#15. Y_test, Y_test_pred -> 성능지표(auc) 확인 : pseudo-labling approach\n",
    "modeling(lgbm_model, X_pooled, y_pooled, X_test_tf, y_test)\n",
    "calibrated_modeling(lgbm_model, X_pooled, y_pooled, X_test_tf, y_test)\n",
    "subprocess.run(['say', '-v', 'Kyoko', 'プロセスが完了しました。'])"
   ]
  }
 ],
 "metadata": {
  "kernelspec": {
   "display_name": "Python 3",
   "language": "python",
   "name": "python3"
  },
  "language_info": {
   "codemirror_mode": {
    "name": "ipython",
    "version": 3
   },
   "file_extension": ".py",
   "mimetype": "text/x-python",
   "name": "python",
   "nbconvert_exporter": "python",
   "pygments_lexer": "ipython3",
   "version": "3.12.0"
  }
 },
 "nbformat": 4,
 "nbformat_minor": 2
}
