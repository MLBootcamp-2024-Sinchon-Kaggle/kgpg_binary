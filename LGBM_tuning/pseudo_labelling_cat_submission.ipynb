{
 "cells": [
  {
   "cell_type": "code",
   "execution_count": 3,
   "metadata": {},
   "outputs": [],
   "source": [
    "import numpy as np\n",
    "import pandas as pd\n",
    "from sklearn.model_selection import train_test_split\n",
    "from sklearn.model_selection import StratifiedKFold\n",
    "import matplotlib.pyplot as plt\n",
    "from sklearn.preprocessing import MinMaxScaler, TargetEncoder\n",
    "from sklearn.metrics import roc_auc_score, confusion_matrix, classification_report\n",
    "from sklearn.calibration import CalibratedClassifierCV\n",
    "from tqdm import tqdm\n",
    "from sklearn.linear_model import LogisticRegression\n",
    "from sklearn.ensemble import RandomForestClassifier\n",
    "from catboost import CatBoostClassifier\n",
    "from xgboost import XGBClassifier\n",
    "from lightgbm import LGBMClassifier\n",
    "import joblib\n",
    "import subprocess"
   ]
  },
  {
   "cell_type": "code",
   "execution_count": 4,
   "metadata": {},
   "outputs": [],
   "source": [
    "# Read the data\n",
    "train = pd.read_csv('/Users/jaesolshin/내 드라이브/2024-2/Google ML Bootcamp2024/data/playground1/train.csv')\n",
    "train = train.set_index('id').astype(str)"
   ]
  },
  {
   "cell_type": "code",
   "execution_count": 33,
   "metadata": {},
   "outputs": [],
   "source": [
    "# submission = 다른 모델로 생성한 pseudo label\n",
    "submission = pd.read_csv('/Users/jaesolshin/Documents/GitHub/kgpg_binary/submission/cat_keras_predictions.csv')\n",
    "submission['Response'] = (submission['Response'] >= 0.5).astype(int)\n",
    "submission = submission.set_index('id').astype(str)\n",
    "\n",
    "# test 데이터 로드\n",
    "test_origin = pd.read_csv('/Users/jaesolshin/내 드라이브/2024-2/Google ML Bootcamp2024/data/playground1/test.csv')\n",
    "X_test = test_origin.set_index('id').astype(str)"
   ]
  },
  {
   "cell_type": "code",
   "execution_count": 35,
   "metadata": {},
   "outputs": [
    {
     "data": {
      "text/plain": [
       "CompletedProcess(args=['say', '-v', 'Kyoko', 'シュドデータのサンプリング・プロセスが完了しました。'], returncode=0)"
      ]
     },
     "execution_count": 35,
     "metadata": {},
     "output_type": "execute_result"
    }
   ],
   "source": [
    "# test = X_test + submission\n",
    "test = pd.concat([X_test, submission], axis=1)\n",
    "\n",
    "# submission = 다른 모델로 생성한 pseudo label\n",
    "# (train.shape[0]*3/7)/submission.shape[0] = 0.64\n",
    "submission_sampled, submission_rest = train_test_split(test, test_size=0.6, random_state=240726)\n",
    "pooled = pd.concat([train, submission_sampled], axis=0)\n",
    "\n",
    "subprocess.run(['say', '-v', 'Kyoko', 'シュドデータのサンプリング・プロセスが完了しました。'])"
   ]
  },
  {
   "cell_type": "code",
   "execution_count": 36,
   "metadata": {},
   "outputs": [
    {
     "data": {
      "text/plain": [
       "CompletedProcess(args=['say', '-v', 'Kyoko', 'ターゲット変数の分離プロセスが完了しました。'], returncode=0)"
      ]
     },
     "execution_count": 36,
     "metadata": {},
     "output_type": "execute_result"
    }
   ],
   "source": [
    "# 예측변수 분리\n",
    "X_train = train.drop(['Response'], axis=1)\n",
    "y_train = train['Response'].astype(float)\n",
    "X_pooled = pooled.drop(['Response'], axis=1)\n",
    "y_pooled = pooled['Response'].astype(float)\n",
    "\n",
    "subprocess.run(['say', '-v', 'Kyoko', 'ターゲット変数の分離プロセスが完了しました。'])"
   ]
  },
  {
   "cell_type": "code",
   "execution_count": 39,
   "metadata": {},
   "outputs": [
    {
     "data": {
      "text/plain": [
       "CompletedProcess(args=['say', '-v', 'Kyoko', 'インコーディングの学習プロセスが完了しました。'], returncode=0)"
      ]
     },
     "execution_count": 39,
     "metadata": {},
     "output_type": "execute_result"
    }
   ],
   "source": [
    "# 타겟 인코딩\n",
    "enc = TargetEncoder()\n",
    "enc.fit(X_train, y_train) # 학습 데이터로 인코더 학습\n",
    "subprocess.run(['say', '-v', 'Kyoko', 'インコーディングの学習プロセスが完了しました。'])"
   ]
  },
  {
   "cell_type": "code",
   "execution_count": 40,
   "metadata": {},
   "outputs": [
    {
     "name": "stdout",
     "output_type": "stream",
     "text": [
      "X_pooled transform done\n"
     ]
    }
   ],
   "source": [
    "X_pooled = pd.DataFrame(enc.transform(X_pooled), index=X_pooled.index, columns=X_pooled.columns)\n",
    "subprocess.run(['say', '-v', 'Kyoko', 'X_pooledのインコーディング・プロセスが完了しました。'])\n",
    "print(\"X_pooled transform done\")"
   ]
  },
  {
   "cell_type": "code",
   "execution_count": 41,
   "metadata": {},
   "outputs": [
    {
     "name": "stdout",
     "output_type": "stream",
     "text": [
      "X_test transform done\n"
     ]
    }
   ],
   "source": [
    "X_test = pd.DataFrame(enc.transform(X_test), index=X_test.index, columns=X_test.columns)\n",
    "subprocess.run(['say', '-v', 'Kyoko', 'X_testのインコーディング・プロセスが完了しました。'])\n",
    "print(\"X_test transform done\")"
   ]
  },
  {
   "cell_type": "code",
   "execution_count": 44,
   "metadata": {},
   "outputs": [
    {
     "data": {
      "text/plain": [
       "CompletedProcess(args=['say', '-v', 'Kyoko', 'インコーディング・プロセスが完了しました。'], returncode=0)"
      ]
     },
     "execution_count": 44,
     "metadata": {},
     "output_type": "execute_result"
    }
   ],
   "source": [
    "X_pooled = X_pooled.astype(float)\n",
    "X_test = X_test.astype(float)\n",
    "subprocess.run(['say', '-v', 'Kyoko', 'インコーディング・プロセスが完了しました。'])"
   ]
  },
  {
   "cell_type": "code",
   "execution_count": null,
   "metadata": {},
   "outputs": [],
   "source": [
    "# CatBoost\n",
    "print(\"\\nCatBoost:\")\n",
    "cat_param = { 'loss_function': 'Logloss', 'eval_metric': 'AUC', 'class_names': [0, 1], 'learning_rate': 0.075, 'iterations': 1000, 'depth': 9, 'random_strength': 0, 'l2_leaf_reg': 0.5, 'max_leaves': 512, 'fold_permutation_block': 64, 'allow_writing_files': False, 'verbose':1}\n",
    "cat_model = CatBoostClassifier(**cat_param, random_state=42)\n",
    "\n",
    "cat_model.fit(X_pooled, y_pooled)\n",
    "subprocess.run(['say', '-v', 'Kyoko', 'lgbmモデルの学習・プロセスが完了しました。'])"
   ]
  },
  {
   "cell_type": "code",
   "execution_count": 46,
   "metadata": {},
   "outputs": [
    {
     "name": "stdout",
     "output_type": "stream",
     "text": [
      "Predictions saved to 'lgbm_pseudo_predictions.csv'\n"
     ]
    },
    {
     "data": {
      "text/plain": [
       "CompletedProcess(args=['say', '-v', 'Kyoko', 'lgbmモデルによる提出ファイルのエクスポートプロセスが完了しました。'], returncode=0)"
      ]
     },
     "execution_count": 46,
     "metadata": {},
     "output_type": "execute_result"
    }
   ],
   "source": [
    "y_test_pred = lgbm_model.predict_proba(X_test)[:, 1]\n",
    "submission1 = pd.DataFrame({'id': X_test.index, 'Response': y_test_pred})\n",
    "subprocess.run(['say', '-v', 'Kyoko', 'lgbmモデルによる確立予測プロセスが完了しました。'])\n",
    "\n",
    "# 예측을 CSV 파일로 저장\n",
    "submission1.to_csv('/Users/jaesolshin/Documents/GitHub/kgpg_binary/submission/lgbm_pseudo_predictions.csv', index=False)\n",
    "print(\"Predictions saved to 'lgbm_pseudo_predictions.csv'\")\n",
    "subprocess.run(['say', '-v', 'Kyoko', 'lgbmモデルによる提出ファイルのエクスポートプロセスが完了しました。'])"
   ]
  },
  {
   "cell_type": "code",
   "execution_count": null,
   "metadata": {},
   "outputs": [],
   "source": [
    "submission2 = pd.read_csv('/Users/jaesolshin/Documents/GitHub/kgpg_binary/submission/lgbm_pseudo_predictions.csv')"
   ]
  },
  {
   "cell_type": "code",
   "execution_count": 49,
   "metadata": {},
   "outputs": [
    {
     "name": "stdout",
     "output_type": "stream",
     "text": [
      "Predictions saved to 'gb_xgb__predictions.csv'\n"
     ]
    },
    {
     "data": {
      "text/plain": [
       "CompletedProcess(args=['say', '-v', 'Kyoko', 'アンサンブル・モデルによる提出ファイルのエクスポートプロセスが完了しました。'], returncode=0)"
      ]
     },
     "execution_count": 49,
     "metadata": {},
     "output_type": "execute_result"
    }
   ],
   "source": [
    "\n",
    "# 'id'를 기준으로 두 DataFrame 병합\n",
    "submission = pd.merge(submission1, submission2, on='id', suffixes=('_1', '_2'))\n",
    "\n",
    "# 'Response' 열들의 평균을 계산하여 새로운 'Response' 변수 생성\n",
    "submission['Response'] = submission[['Response_1', 'Response_2']].mean(axis=1)\n",
    "\n",
    "# 원래 'Response' 변수 삭제\n",
    "submission = submission.drop(columns=['Response_1', 'Response_2'])\n",
    "\n",
    "# 예측을 CSV 파일로 저장\n",
    "submission.to_csv('/Users/jaesolshin/Documents/GitHub/kgpg_binary/submission/lgb_xgb_pseudo__predictions.csv', index=False)\n",
    "print(\"Predictions saved to 'gb_xgb__predictions.csv'\")\n",
    "\n",
    "subprocess.run(['say', '-v', 'Kyoko', 'アンサンブル・モデルによる提出ファイルのエクスポートプロセスが完了しました。'])\n"
   ]
  }
 ],
 "metadata": {
  "kernelspec": {
   "display_name": "Python 3",
   "language": "python",
   "name": "python3"
  },
  "language_info": {
   "codemirror_mode": {
    "name": "ipython",
    "version": 3
   },
   "file_extension": ".py",
   "mimetype": "text/x-python",
   "name": "python",
   "nbconvert_exporter": "python",
   "pygments_lexer": "ipython3",
   "version": "3.12.0"
  }
 },
 "nbformat": 4,
 "nbformat_minor": 2
}
