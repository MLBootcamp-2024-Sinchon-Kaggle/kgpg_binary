{
 "cells": [
  {
   "cell_type": "code",
   "execution_count": 1,
   "metadata": {},
   "outputs": [],
   "source": [
    "import numpy as np\n",
    "import pandas as pd\n",
    "from sklearn.model_selection import train_test_split\n",
    "from sklearn.model_selection import StratifiedKFold\n",
    "import matplotlib.pyplot as plt\n",
    "from sklearn.preprocessing import MinMaxScaler\n",
    "from sklearn.metrics import roc_auc_score, confusion_matrix, classification_report, roc_curve, auc\n",
    "from category_encoders import TargetEncoder\n",
    "from tqdm import tqdm\n",
    "from lightgbm import LGBMClassifier\n",
    "from sklearn.ensemble import VotingClassifier\n",
    "\n",
    "# Read the data\n",
    "train_origin = pd.read_csv('/Users/jaesolshin/내 드라이브/2024-2/Google ML Bootcamp2024/data/playground1/train.csv')"
   ]
  },
  {
   "cell_type": "code",
   "execution_count": 2,
   "metadata": {},
   "outputs": [],
   "source": [
    "# 데이터 샘플링\n",
    "train = train_origin.sample(frac=0.01, random_state = 42)\n",
    "\n",
    "# 예측에 필요 없는 'id'와 'Annual_Premium' 변수를 드롭\n",
    "train = train.drop(columns=['id'])\n",
    "\n",
    "# 범주형 변수(2~3개 클래스) 인코딩\n",
    "def encoding(train):\n",
    "    gender_mapping = {'Male': 0, 'Female': 1}\n",
    "    vehicle_age_mapping = {'< 1 Year': 0, '1-2 Year': 1, '> 2 Years': 2}\n",
    "    vehicle_damage_mapping = {'No': 0, 'Yes': 1}\n",
    "\n",
    "    train['Gender'] = train['Gender'].map(gender_mapping)\n",
    "    train['Vehicle_Age'] = train['Vehicle_Age'].map(vehicle_age_mapping)\n",
    "    train['Vehicle_Damage'] = train['Vehicle_Damage'].map(vehicle_damage_mapping)\n",
    "\n",
    "    return train\n",
    "\n",
    "train = encoding(train)\n",
    "\n",
    "#Age 교차항\n",
    "train['Age_bins'] = pd.cut(train['Age'], bins=7).cat.codes\n",
    "train['Age_x_Vehicle_Age'] = train['Age_bins'] * train['Vehicle_Age']\n",
    "train['Age_x_Vehicle_Damage'] = train['Age_bins'] * train['Vehicle_Damage']\n",
    "train['Age_x_Previously_Insured'] = train['Age_bins'] * train['Previously_Insured']\n",
    "\n",
    "# 범주형 변수 타겟 인코딩\n",
    "cat_columns = ['Region_Code', 'Policy_Sales_Channel', 'Vintage']\n",
    "train.loc[:,cat_columns] = train.loc[:,cat_columns].astype('category')\n",
    "\n",
    "target_encoder = TargetEncoder()\n",
    "train[cat_columns] = target_encoder.fit_transform(train[cat_columns],train['Response'])\n",
    "\n",
    "#수치형 변수 + 타겟 인코딩 변수 표준화\n",
    "scaler = MinMaxScaler()\n",
    "num_columns = ['Age', 'Annual_Premium','Region_Code', 'Policy_Sales_Channel', 'Vintage']\n",
    "train[num_columns] = scaler.fit_transform(train[num_columns])\n",
    "\n",
    "# 예측변수 분리 및 train, valid set 분리\n",
    "X = train.drop(['Response'], axis=1)\n",
    "y = train['Response']"
   ]
  },
  {
   "cell_type": "code",
   "execution_count": 3,
   "metadata": {},
   "outputs": [
    {
     "name": "stdout",
     "output_type": "stream",
     "text": [
      "Soft Voting Classifier(n=1) Mean AUC: 0.8699\n",
      "Soft Voting Classifier(n=10) Mean AUC: 0.8737\n",
      "Soft Voting Classifier(n=20) Mean AUC: 0.8739\n"
     ]
    },
    {
     "data": {
      "text/html": [
       "<div>\n",
       "<style scoped>\n",
       "    .dataframe tbody tr th:only-of-type {\n",
       "        vertical-align: middle;\n",
       "    }\n",
       "\n",
       "    .dataframe tbody tr th {\n",
       "        vertical-align: top;\n",
       "    }\n",
       "\n",
       "    .dataframe thead th {\n",
       "        text-align: right;\n",
       "    }\n",
       "</style>\n",
       "<table border=\"1\" class=\"dataframe\">\n",
       "  <thead>\n",
       "    <tr style=\"text-align: right;\">\n",
       "      <th></th>\n",
       "      <th>num_of_clf</th>\n",
       "      <th>AUC</th>\n",
       "    </tr>\n",
       "  </thead>\n",
       "  <tbody>\n",
       "    <tr>\n",
       "      <th>0</th>\n",
       "      <td>1</td>\n",
       "      <td>0.869932</td>\n",
       "    </tr>\n",
       "    <tr>\n",
       "      <th>1</th>\n",
       "      <td>10</td>\n",
       "      <td>0.873650</td>\n",
       "    </tr>\n",
       "    <tr>\n",
       "      <th>2</th>\n",
       "      <td>20</td>\n",
       "      <td>0.873906</td>\n",
       "    </tr>\n",
       "  </tbody>\n",
       "</table>\n",
       "</div>"
      ],
      "text/plain": [
       "   num_of_clf       AUC\n",
       "0           1  0.869932\n",
       "1          10  0.873650\n",
       "2          20  0.873906"
      ]
     },
     "execution_count": 3,
     "metadata": {},
     "output_type": "execute_result"
    }
   ],
   "source": [
    "# 하이퍼파라미터 공간 정의\n",
    "def sample_hyperparameters():\n",
    "    space = {\n",
    "        'num_leaves': np.random.choice([20, 31, 50, 100]),\n",
    "        'max_depth': np.random.choice([-1, 20]),\n",
    "        'learning_rate': np.exp(np.random.uniform(np.log(0.01), np.log(0.2))),\n",
    "        'n_estimators': np.random.choice([30, 50, 100, 200, 300]),\n",
    "        'lambda_l1': np.random.uniform(0.0, 0.2),\n",
    "        'lambda_l2': np.random.uniform(0.0, 0.2)\n",
    "    }\n",
    "    return space\n",
    "\n",
    "# LGBMClassifier 생성 함수\n",
    "def create_lgbm_classifier(params):\n",
    "    return LGBMClassifier(\n",
    "        num_leaves=params['num_leaves'],\n",
    "        max_depth=params['max_depth'],\n",
    "        learning_rate=params['learning_rate'],\n",
    "        n_estimators=params['n_estimators'],\n",
    "        lambda_l1=params['lambda_l1'],\n",
    "        lambda_l2=params['lambda_l2'],\n",
    "        random_state=np.random.randint(0, 10000),\n",
    "        verbose=-1  # 로그 출력을 최소화하기 위해 verbose 설정\n",
    "    )\n",
    "\n",
    "# K-Fold 교차 검증을 사용하여 Soft Voting Classifier를 생성하고 AUC를 계산하는 함수\n",
    "def evaluate_voting_classifier_kfold(num_of_clf, n_splits=5):\n",
    "    skf = StratifiedKFold(n_splits=n_splits)\n",
    "    aucs = []\n",
    "\n",
    "    for train_index, valid_index in skf.split(X, y):\n",
    "        X_train, X_valid = X.iloc[train_index], X.iloc[valid_index]\n",
    "        y_train, y_valid = y.iloc[train_index], y.iloc[valid_index]\n",
    "\n",
    "        classifiers = []\n",
    "        for _ in range(num_of_clf):\n",
    "            params = sample_hyperparameters()\n",
    "            lgbm_clf = create_lgbm_classifier(params)\n",
    "            classifiers.append(('lgbm_' + str(np.random.randint(0, 10000)), lgbm_clf))\n",
    "\n",
    "        voting_clf_soft = VotingClassifier(estimators=classifiers, voting='soft')\n",
    "        voting_clf_soft.fit(X_train, y_train)\n",
    "        test_preds = voting_clf_soft.predict_proba(X_valid)[:, 1]\n",
    "        test_auc = roc_auc_score(y_valid, test_preds)\n",
    "        aucs.append(test_auc)\n",
    "\n",
    "    mean_auc = np.mean(aucs)\n",
    "    print(f'Soft Voting Classifier(n={num_of_clf}) Mean AUC: {mean_auc:.4f}')\n",
    "    return mean_auc\n",
    "\n",
    "# 결과 저장용 DataFrame\n",
    "results = []\n",
    "\n",
    "# num_of_clf에 따른 AUC 계산\n",
    "for num_of_clf in [1, 10, 20]:\n",
    "    auc = evaluate_voting_classifier_kfold(num_of_clf)\n",
    "    results.append({'num_of_clf': num_of_clf, 'AUC': auc})\n",
    "\n",
    "# 결과 DataFrame 생성\n",
    "results_df = pd.DataFrame(results)\n",
    "results_df"
   ]
  },
  {
   "cell_type": "code",
   "execution_count": 5,
   "metadata": {},
   "outputs": [
    {
     "name": "stderr",
     "output_type": "stream",
     "text": [
      "Folds: 100%|██████████| 5/5 [00:15<00:00,  3.05s/it]\n"
     ]
    },
    {
     "name": "stdout",
     "output_type": "stream",
     "text": [
      "Soft Voting Classifier(n=1) Mean AUC: 0.8777\n"
     ]
    },
    {
     "name": "stderr",
     "output_type": "stream",
     "text": [
      "Folds: 100%|██████████| 5/5 [00:26<00:00,  5.31s/it]\n"
     ]
    },
    {
     "name": "stdout",
     "output_type": "stream",
     "text": [
      "Soft Voting Classifier(n=2) Mean AUC: 0.8749\n"
     ]
    },
    {
     "name": "stderr",
     "output_type": "stream",
     "text": [
      "Folds: 100%|██████████| 5/5 [00:31<00:00,  6.40s/it]\n"
     ]
    },
    {
     "name": "stdout",
     "output_type": "stream",
     "text": [
      "Soft Voting Classifier(n=4) Mean AUC: 0.8769\n"
     ]
    },
    {
     "name": "stderr",
     "output_type": "stream",
     "text": [
      "Folds: 100%|██████████| 5/5 [01:03<00:00, 12.77s/it]\n"
     ]
    },
    {
     "name": "stdout",
     "output_type": "stream",
     "text": [
      "Soft Voting Classifier(n=8) Mean AUC: 0.8767\n"
     ]
    },
    {
     "name": "stderr",
     "output_type": "stream",
     "text": [
      "Folds: 100%|██████████| 5/5 [02:10<00:00, 26.04s/it]\n"
     ]
    },
    {
     "name": "stdout",
     "output_type": "stream",
     "text": [
      "Soft Voting Classifier(n=16) Mean AUC: 0.8776\n"
     ]
    },
    {
     "name": "stderr",
     "output_type": "stream",
     "text": [
      "Folds: 100%|██████████| 5/5 [03:45<00:00, 45.09s/it]\n"
     ]
    },
    {
     "name": "stdout",
     "output_type": "stream",
     "text": [
      "Soft Voting Classifier(n=32) Mean AUC: 0.8781\n"
     ]
    },
    {
     "name": "stderr",
     "output_type": "stream",
     "text": [
      "Folds: 100%|██████████| 5/5 [07:40<00:00, 92.11s/it]\n"
     ]
    },
    {
     "name": "stdout",
     "output_type": "stream",
     "text": [
      "Soft Voting Classifier(n=64) Mean AUC: 0.8775\n"
     ]
    },
    {
     "name": "stderr",
     "output_type": "stream",
     "text": [
      "Folds: 100%|██████████| 5/5 [24:33<00:00, 294.68s/it]\n"
     ]
    },
    {
     "name": "stdout",
     "output_type": "stream",
     "text": [
      "Soft Voting Classifier(n=128) Mean AUC: 0.8778\n"
     ]
    },
    {
     "data": {
      "text/html": [
       "<div>\n",
       "<style scoped>\n",
       "    .dataframe tbody tr th:only-of-type {\n",
       "        vertical-align: middle;\n",
       "    }\n",
       "\n",
       "    .dataframe tbody tr th {\n",
       "        vertical-align: top;\n",
       "    }\n",
       "\n",
       "    .dataframe thead th {\n",
       "        text-align: right;\n",
       "    }\n",
       "</style>\n",
       "<table border=\"1\" class=\"dataframe\">\n",
       "  <thead>\n",
       "    <tr style=\"text-align: right;\">\n",
       "      <th></th>\n",
       "      <th>num_of_clf</th>\n",
       "      <th>Train AUC</th>\n",
       "      <th>Valid AUC</th>\n",
       "    </tr>\n",
       "  </thead>\n",
       "  <tbody>\n",
       "    <tr>\n",
       "      <th>0</th>\n",
       "      <td>1</td>\n",
       "      <td>0.900441</td>\n",
       "      <td>0.877714</td>\n",
       "    </tr>\n",
       "    <tr>\n",
       "      <th>1</th>\n",
       "      <td>2</td>\n",
       "      <td>0.945759</td>\n",
       "      <td>0.874911</td>\n",
       "    </tr>\n",
       "    <tr>\n",
       "      <th>2</th>\n",
       "      <td>4</td>\n",
       "      <td>0.925566</td>\n",
       "      <td>0.876869</td>\n",
       "    </tr>\n",
       "    <tr>\n",
       "      <th>3</th>\n",
       "      <td>8</td>\n",
       "      <td>0.935281</td>\n",
       "      <td>0.876735</td>\n",
       "    </tr>\n",
       "    <tr>\n",
       "      <th>4</th>\n",
       "      <td>16</td>\n",
       "      <td>0.919470</td>\n",
       "      <td>0.877564</td>\n",
       "    </tr>\n",
       "    <tr>\n",
       "      <th>5</th>\n",
       "      <td>32</td>\n",
       "      <td>0.925944</td>\n",
       "      <td>0.878059</td>\n",
       "    </tr>\n",
       "    <tr>\n",
       "      <th>6</th>\n",
       "      <td>64</td>\n",
       "      <td>0.926415</td>\n",
       "      <td>0.877487</td>\n",
       "    </tr>\n",
       "    <tr>\n",
       "      <th>7</th>\n",
       "      <td>128</td>\n",
       "      <td>0.928309</td>\n",
       "      <td>0.877783</td>\n",
       "    </tr>\n",
       "  </tbody>\n",
       "</table>\n",
       "</div>"
      ],
      "text/plain": [
       "   num_of_clf  Train AUC  Valid AUC\n",
       "0           1   0.900441   0.877714\n",
       "1           2   0.945759   0.874911\n",
       "2           4   0.925566   0.876869\n",
       "3           8   0.935281   0.876735\n",
       "4          16   0.919470   0.877564\n",
       "5          32   0.925944   0.878059\n",
       "6          64   0.926415   0.877487\n",
       "7         128   0.928309   0.877783"
      ]
     },
     "execution_count": 5,
     "metadata": {},
     "output_type": "execute_result"
    }
   ],
   "source": [
    "from scipy.stats import lognorm\n",
    "\n",
    "# 하이퍼파라미터 공간 정의\n",
    "def sample_hyperparameters():\n",
    "    # learning_rate : 0.1에서 극값을 가지고 0.01보다 크고 0.2보다 큰 값이 거의 없도록 분포 설정\n",
    "    s = 0.4  # shape parameter (표준 편차)\n",
    "    scale = np.exp(-2)  # 위치 파라미터 (확률 밀도가 최대가 되는 위치의 로그 스케일)\n",
    "    learning_rate = lognorm(s, scale=scale).rvs()\n",
    "    while learning_rate < 0.01 or learning_rate > 0.2:\n",
    "        learning_rate = lognorm(s, scale=scale).rvs()\n",
    "\n",
    "    space = {\n",
    "        'num_leaves': np.random.choice([20, 31, 50, 100]),\n",
    "        'max_depth': np.random.choice([-1, 20]),\n",
    "        'learning_rate': learning_rate,  # 로그 정규 분포에서 샘플링\n",
    "        'n_estimators': np.random.choice([30, 50, 100, 200, 300]),\n",
    "        'lambda_l1': np.random.uniform(0.0, 0.2),\n",
    "        'lambda_l2': np.random.uniform(0.0, 0.2)\n",
    "    }\n",
    "    return space\n",
    "\n",
    "# LGBMClassifier 생성 함수\n",
    "def create_lgbm_classifier(params):\n",
    "    return LGBMClassifier(\n",
    "        num_leaves=params['num_leaves'],\n",
    "        max_depth=params['max_depth'],\n",
    "        learning_rate=params['learning_rate'],\n",
    "        n_estimators=params['n_estimators'],\n",
    "        lambda_l1=params['lambda_l1'],\n",
    "        lambda_l2=params['lambda_l2'],\n",
    "        random_state=np.random.randint(0, 10000),\n",
    "        verbose=-1  # 로그 출력을 최소화하기 위해 verbose 설정\n",
    "    )\n",
    "\n",
    "# Soft Voting Classifier를 생성하고 AUC를 계산하는 함수\n",
    "def modeling_voting_classifier(num_of_clf, X, y):\n",
    "    X_train, X_valid, y_train, y_valid = train_test_split(X, y, test_size=0.2, random_state=42)\n",
    "\n",
    "    skf = StratifiedKFold(n_splits=5, shuffle=True, random_state=42)\n",
    "    train_scores = []\n",
    "    valid_scores = []\n",
    "\n",
    "    for fold, (train_index, valid_index) in enumerate(tqdm(skf.split(X_train, y_train), total=skf.get_n_splits(), desc=\"Folds\"), 1):\n",
    "        X_skf_train, X_skf_valid = X_train.iloc[train_index], X_train.iloc[valid_index]\n",
    "        y_skf_train, y_skf_valid = y_train.iloc[train_index], y_train.iloc[valid_index]\n",
    "\n",
    "        classifiers = []\n",
    "        for _ in range(num_of_clf):\n",
    "            params = sample_hyperparameters()\n",
    "            lgbm_clf = create_lgbm_classifier(params)\n",
    "            classifiers.append(('lgbm_' + str(np.random.randint(0, 1000000)), lgbm_clf))\n",
    "\n",
    "        voting_clf_soft = VotingClassifier(estimators=classifiers, voting='soft')\n",
    "        voting_clf_soft.fit(X_skf_train, y_skf_train)\n",
    "\n",
    "        train_preds = voting_clf_soft.predict_proba(X_skf_train)[:, 1]\n",
    "        train_auc = roc_auc_score(y_skf_train, train_preds)\n",
    "        train_scores.append(train_auc)\n",
    "\n",
    "        valid_preds = voting_clf_soft.predict_proba(X_skf_valid)[:, 1]\n",
    "        valid_auc = roc_auc_score(y_skf_valid, valid_preds)\n",
    "        valid_scores.append(valid_auc)\n",
    "\n",
    "    #print(f'Average Train ROC AUC: {np.mean(train_scores):.4f}')\n",
    "    #print(f'Average Validation ROC AUC: {np.mean(valid_scores):.4f}')\n",
    "\n",
    "    voting_clf_soft.fit(X_train, y_train)\n",
    "    y_preds = voting_clf_soft.predict_proba(X_valid)[:, 1]\n",
    "    valid_auc = roc_auc_score(y_valid, y_preds)\n",
    "\n",
    "    print(f'Soft Voting Classifier(n={num_of_clf}) Mean AUC: {valid_auc:.4f}')\n",
    "\n",
    "    return train_scores, valid_scores, valid_auc\n",
    "\n",
    "# 결과 저장용 DataFrame\n",
    "results = []\n",
    "\n",
    "# num_of_clf에 따른 AUC 계산\n",
    "for num_of_clf in [1, 2, 4, 8, 16, 32, 64, 128]:\n",
    "    train_scores, valid_scores, valid_auc = modeling_voting_classifier(num_of_clf, X, y)\n",
    "    results.append({'num_of_clf': num_of_clf, 'Train AUC': np.mean(train_scores), 'Valid AUC': np.mean(valid_scores), 'Valid AUC': valid_auc})\n",
    "\n",
    "# 결과 DataFrame 생성\n",
    "results_df = pd.DataFrame(results)\n",
    "results_df"
   ]
  },
  {
   "cell_type": "code",
   "execution_count": null,
   "metadata": {},
   "outputs": [],
   "source": []
  }
 ],
 "metadata": {
  "kernelspec": {
   "display_name": "Python 3",
   "language": "python",
   "name": "python3"
  },
  "language_info": {
   "codemirror_mode": {
    "name": "ipython",
    "version": 3
   },
   "file_extension": ".py",
   "mimetype": "text/x-python",
   "name": "python",
   "nbconvert_exporter": "python",
   "pygments_lexer": "ipython3",
   "version": "3.12.0"
  }
 },
 "nbformat": 4,
 "nbformat_minor": 2
}
