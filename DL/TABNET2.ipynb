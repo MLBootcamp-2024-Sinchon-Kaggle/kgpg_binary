{
 "cells": [
  {
   "cell_type": "code",
   "execution_count": 1,
   "metadata": {},
   "outputs": [],
   "source": [
    "import numpy as np\n",
    "import pandas as pd\n",
    "from sklearn.model_selection import train_test_split\n",
    "from sklearn.preprocessing import TargetEncoder\n",
    "from sklearn.metrics import roc_auc_score\n",
    "import torch\n",
    "from pytorch_tabnet.tab_model import TabNetClassifier\n",
    "from pytorch_tabnet.pretraining import TabNetPretrainer"
   ]
  },
  {
   "cell_type": "code",
   "execution_count": 2,
   "metadata": {},
   "outputs": [],
   "source": [
    "# Read and split the data\n",
    "train_origin = pd.read_csv('/Users/jaesolshin/내 드라이브/2024-2/Google ML Bootcamp2024/data/playground1/train.csv')"
   ]
  },
  {
   "cell_type": "code",
   "execution_count": 3,
   "metadata": {},
   "outputs": [
    {
     "name": "stderr",
     "output_type": "stream",
     "text": [
      "/Users/jaesolshin/opt/anaconda3/lib/python3.8/site-packages/pytorch_tabnet/abstract_model.py:82: UserWarning: Device used : cpu\n",
      "  warnings.warn(f\"Device used : {self.device}\")\n",
      "/Users/jaesolshin/opt/anaconda3/lib/python3.8/site-packages/pytorch_tabnet/abstract_model.py:687: UserWarning: No early stopping will be performed, last training weights will be used.\n",
      "  warnings.warn(wrn_msg)\n"
     ]
    },
    {
     "name": "stdout",
     "output_type": "stream",
     "text": [
      "epoch 0  | loss: 0.71052 |  0:00:13s\n",
      "epoch 1  | loss: 0.44921 |  0:00:32s\n",
      "epoch 2  | loss: 0.36358 |  0:00:44s\n",
      "epoch 3  | loss: 0.32392 |  0:00:52s\n",
      "epoch 4  | loss: 0.30741 |  0:01:01s\n"
     ]
    },
    {
     "data": {
      "text/plain": [
       "0.8072773615824427"
      ]
     },
     "execution_count": 3,
     "metadata": {},
     "output_type": "execute_result"
    }
   ],
   "source": [
    "train = train_origin.sample(frac=0.01, random_state = 42).set_index('id').astype(str)\n",
    "#train = train_origin.set_index('id').astype(str)\n",
    "\n",
    "X_train, X_test = train_test_split(train, test_size=0.2, random_state=0, stratify=train['Response'])\n",
    "y_train = X_train.pop('Response')\n",
    "y_test = X_test.pop('Response')\n",
    "\n",
    "enc = TargetEncoder(random_state=0)\n",
    "X_train = pd.DataFrame(enc.fit_transform(X_train, y_train), \n",
    "                       index=X_train.index, columns=X_train.columns)\n",
    "X_test = pd.DataFrame(enc.transform(X_test), index=X_test.index, \n",
    "                      columns=X_test.columns)\n",
    " \n",
    "model = TabNetClassifier()\n",
    "model.fit(X_train.values, y_train.values,\n",
    "          batch_size=65536, max_epochs=5,\n",
    "          compute_importance=False)\n",
    "roc_auc_score(y_test, model.predict_proba(X_test.values)[:,1])"
   ]
  },
  {
   "cell_type": "code",
   "execution_count": 8,
   "metadata": {},
   "outputs": [
    {
     "name": "stderr",
     "output_type": "stream",
     "text": [
      "/Users/jaesolshin/opt/anaconda3/lib/python3.8/site-packages/pytorch_tabnet/abstract_model.py:82: UserWarning: Device used : cpu\n",
      "  warnings.warn(f\"Device used : {self.device}\")\n",
      "/Users/jaesolshin/opt/anaconda3/lib/python3.8/site-packages/pytorch_tabnet/abstract_model.py:687: UserWarning: No early stopping will be performed, last training weights will be used.\n",
      "  warnings.warn(wrn_msg)\n"
     ]
    },
    {
     "name": "stdout",
     "output_type": "stream",
     "text": [
      "epoch 0  | loss: 12267809.8613|  0:00:16s\n",
      "epoch 1  | loss: 162680.52657|  0:00:33s\n",
      "epoch 2  | loss: 123542.84819|  0:00:51s\n",
      "epoch 3  | loss: 59452.34725|  0:01:10s\n",
      "epoch 4  | loss: 48788.60158|  0:01:24s\n"
     ]
    }
   ],
   "source": [
    "# 사전 훈련을 위한 파라미터 설정\n",
    "pretrain_params = {\n",
    "    \"optimizer_fn\": torch.optim.Adam,\n",
    "    \"optimizer_params\": dict(lr=2e-2),\n",
    "    \"mask_type\": \"entmax\",  # \"sparsemax\"\n",
    "    \"verbose\": 1\n",
    "}\n",
    "\n",
    "# 사전 훈련 모델 초기화\n",
    "pretrainer = TabNetPretrainer(**pretrain_params)\n",
    "\n",
    "# 사전 훈련 실행\n",
    "pretrainer.fit(X_train.values, max_epochs=5)"
   ]
  },
  {
   "cell_type": "code",
   "execution_count": 11,
   "metadata": {},
   "outputs": [
    {
     "name": "stderr",
     "output_type": "stream",
     "text": [
      "/Users/jaesolshin/opt/anaconda3/lib/python3.8/site-packages/pytorch_tabnet/abstract_model.py:82: UserWarning: Device used : cpu\n",
      "  warnings.warn(f\"Device used : {self.device}\")\n"
     ]
    },
    {
     "name": "stdout",
     "output_type": "stream",
     "text": [
      "epoch 0  | loss: 0.41122 | test_auc: 0.76135 |  0:00:17s\n",
      "epoch 1  | loss: 0.30034 | test_auc: 0.79994 |  0:00:32s\n",
      "epoch 2  | loss: 0.2865  | test_auc: 0.82827 |  0:00:56s\n",
      "epoch 3  | loss: 0.28001 | test_auc: 0.84083 |  0:01:16s\n",
      "epoch 4  | loss: 0.27656 | test_auc: 0.84687 |  0:01:35s\n",
      "Stop training because you reached max_epochs = 5 with best_epoch = 4 and best_test_auc = 0.84687\n"
     ]
    },
    {
     "name": "stderr",
     "output_type": "stream",
     "text": [
      "/Users/jaesolshin/opt/anaconda3/lib/python3.8/site-packages/pytorch_tabnet/callbacks.py:172: UserWarning: Best weights from best epoch are automatically used!\n",
      "  warnings.warn(wrn_msg)\n"
     ]
    },
    {
     "data": {
      "text/plain": [
       "0.8468741471702276"
      ]
     },
     "execution_count": 11,
     "metadata": {},
     "output_type": "execute_result"
    }
   ],
   "source": [
    "clf = TabNetClassifier(\n",
    "    optimizer_fn=torch.optim.Adam,  # 최적화 함수는 필요에 따라 설정\n",
    "    optimizer_params=dict(lr=1e-3),  # 학습률은 주 훈련에 맞게 조정\n",
    "    scheduler_params={\"step_size\": 50, \"gamma\": 0.9},  # 학습 스케줄러 설정\n",
    "    scheduler_fn=torch.optim.lr_scheduler.StepLR,\n",
    "    verbose=1\n",
    ")\n",
    "\n",
    "# 탭넷 분류 모델 학습\n",
    "clf.fit(X_train.values, y_train.values, eval_set=[(X_test.values, y_test.values)], patience=3, max_epochs=5, eval_name=['test'], eval_metric=['auc'])\n",
    "y_pred_proba = clf.predict_proba(X_test.values)[:,1]\n",
    "roc_auc_score(y_test, y_pred_proba)"
   ]
  }
 ],
 "metadata": {
  "kernelspec": {
   "display_name": "Python 3",
   "language": "python",
   "name": "python3"
  },
  "language_info": {
   "codemirror_mode": {
    "name": "ipython",
    "version": 3
   },
   "file_extension": ".py",
   "mimetype": "text/x-python",
   "name": "python",
   "nbconvert_exporter": "python",
   "pygments_lexer": "ipython3",
   "version": "3.8.3"
  }
 },
 "nbformat": 4,
 "nbformat_minor": 2
}
