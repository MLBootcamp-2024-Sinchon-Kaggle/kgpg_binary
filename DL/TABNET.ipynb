{
 "cells": [
  {
   "cell_type": "markdown",
   "metadata": {},
   "source": [
    "base(Python 3.8.3) 커널 선택"
   ]
  },
  {
   "cell_type": "code",
   "execution_count": null,
   "metadata": {},
   "outputs": [],
   "source": [
    "#!pip install torch torchvision pytorch-tabnet"
   ]
  },
  {
   "cell_type": "code",
   "execution_count": 5,
   "metadata": {},
   "outputs": [],
   "source": [
    "import numpy as np\n",
    "import pandas as pd\n",
    "from sklearn.model_selection import train_test_split\n",
    "from sklearn.datasets import load_iris\n",
    "from sklearn.impute import SimpleImputer\n",
    "import torch\n",
    "from pytorch_tabnet.tab_model import TabNetClassifier\n",
    "from pytorch_tabnet.pretraining import TabNetPretrainer\n"
   ]
  },
  {
   "cell_type": "code",
   "execution_count": 6,
   "metadata": {},
   "outputs": [
    {
     "name": "stderr",
     "output_type": "stream",
     "text": [
      "/Users/jaesolshin/opt/anaconda3/lib/python3.8/site-packages/pandas/core/series.py:679: RuntimeWarning: invalid value encountered in log1p\n",
      "  result = getattr(ufunc, method)(*inputs, **kwargs)\n"
     ]
    }
   ],
   "source": [
    "# 데이터 로드\n",
    "train = pd.read_csv('/Users/jaesolshin/내 드라이브/2024-2/Google ML Bootcamp2024/data/playground1/train.csv')\n",
    "train = train.sample(frac=0.01, random_state = 42)\n",
    "\n",
    "# 범주형 변수를 팩터로 변환 (카테고리형)\n",
    "train.iloc[:,[1,3,4,5,6,7,9]] = train.iloc[:,[1,3,4,5,6,7,9]].astype('category')\n",
    "\n",
    "# 최소-최대 정규화 (Standard 스케일링)\n",
    "from sklearn.preprocessing import StandardScaler\n",
    "scaler = StandardScaler()\n",
    "train.iloc[:,[2,8,10]] = scaler.fit_transform(train.iloc[:,[2,8,10]])\n",
    "\n",
    "# 이분변수 생성: \"Annual_Premium\" == 2630.0 인 경우\n",
    "train['Annual_Premium_Binary'] = (train['Annual_Premium'] == 2630.0).astype('category')\n",
    "\n",
    "# 로그 변환된 \"Annual_Premium\" 변수 생성\n",
    "train['Annual_Premium_Log'] = np.where(train['Annual_Premium'] > 0, np.log1p(train['Annual_Premium']), 0)\n",
    "\n",
    "# 예측에 필요 없는 'id'와 'Annual_Premium' 변수를 드롭\n",
    "train = train.drop(columns=['id', 'Annual_Premium'])\n",
    "\n",
    "# 원-핫 인코딩 (One-Hot Encoding)\n",
    "category_columns = ['Gender', 'Driving_License', 'Region_Code', 'Previously_Insured', 'Vehicle_Age', 'Vehicle_Damage', 'Policy_Sales_Channel', 'Annual_Premium_Binary']\n",
    "train = pd.get_dummies(train, columns=category_columns, drop_first=True, dtype=int)\n",
    "\n",
    "# XGBoost에서 발생하는 문제 해결\n",
    "train.columns = train.columns.str.replace('[', '').str.replace(']', '').str.replace('<', '')\n",
    "\n",
    "# 특징과 레이블 분리\n",
    "X = train.drop(columns=['Response'])\n",
    "y = train['Response']\n",
    "\n",
    "# 훈련 세트와 테스트 세트로 데이터 분할\n",
    "X_train, X_test, y_train, y_test = train_test_split(X, y, test_size=0.2, random_state=42)\n"
   ]
  },
  {
   "cell_type": "code",
   "execution_count": 7,
   "metadata": {},
   "outputs": [],
   "source": [
    "X_train = np.array(X_train)\n",
    "X_test = np.array(X_test)\n",
    "y_train = np.array(y_train)\n",
    "y_test = np.array(y_test)"
   ]
  },
  {
   "cell_type": "code",
   "execution_count": 9,
   "metadata": {},
   "outputs": [
    {
     "name": "stderr",
     "output_type": "stream",
     "text": [
      "/Users/jaesolshin/opt/anaconda3/lib/python3.8/site-packages/pytorch_tabnet/abstract_model.py:82: UserWarning: Device used : cpu\n",
      "  warnings.warn(f\"Device used : {self.device}\")\n",
      "/Users/jaesolshin/opt/anaconda3/lib/python3.8/site-packages/pytorch_tabnet/abstract_model.py:687: UserWarning: No early stopping will be performed, last training weights will be used.\n",
      "  warnings.warn(wrn_msg)\n"
     ]
    },
    {
     "name": "stdout",
     "output_type": "stream",
     "text": [
      "epoch 0  | loss: 41.89587|  0:00:29s\n",
      "epoch 1  | loss: 0.63375 |  0:00:56s\n",
      "epoch 2  | loss: 0.59554 |  0:01:18s\n",
      "epoch 3  | loss: 0.58189 |  0:01:46s\n",
      "epoch 4  | loss: 0.57577 |  0:02:13s\n",
      "epoch 5  | loss: 0.57751 |  0:02:36s\n",
      "epoch 6  | loss: 0.57401 |  0:02:59s\n",
      "epoch 7  | loss: 0.56716 |  0:03:24s\n",
      "epoch 8  | loss: 0.56276 |  0:03:51s\n",
      "epoch 9  | loss: 0.55913 |  0:04:13s\n"
     ]
    }
   ],
   "source": [
    "# 사전 훈련을 위한 파라미터 설정\n",
    "pretrain_params = {\n",
    "    \"optimizer_fn\": torch.optim.Adam,\n",
    "    \"optimizer_params\": dict(lr=2e-2),\n",
    "    \"mask_type\": \"entmax\",  # \"sparsemax\"\n",
    "    \"verbose\": 1\n",
    "}\n",
    "\n",
    "# 사전 훈련 모델 초기화\n",
    "pretrainer = TabNetPretrainer(**pretrain_params)\n",
    "\n",
    "# 사전 훈련 실행\n",
    "pretrainer.fit(X_train=X_train, max_epochs=2)"
   ]
  },
  {
   "cell_type": "code",
   "execution_count": 30,
   "metadata": {},
   "outputs": [
    {
     "name": "stderr",
     "output_type": "stream",
     "text": [
      "/Users/jaesolshin/opt/anaconda3/lib/python3.8/site-packages/pytorch_tabnet/abstract_model.py:82: UserWarning: Device used : cpu\n",
      "  warnings.warn(f\"Device used : {self.device}\")\n"
     ]
    }
   ],
   "source": [
    "# 탭넷 분류 모델 초기화\n",
    "#clf = TabNetClassifier()\n",
    "\n",
    "clf = TabNetClassifier(\n",
    "    optimizer_fn=torch.optim.Adam,  # 최적화 함수는 필요에 따라 설정\n",
    "    optimizer_params=dict(lr=1e-3),  # 학습률은 주 훈련에 맞게 조정\n",
    "    scheduler_params={\"step_size\": 50, \"gamma\": 0.9},  # 학습 스케줄러 설정\n",
    "    scheduler_fn=torch.optim.lr_scheduler.StepLR,\n",
    "    verbose=1\n",
    ")"
   ]
  },
  {
   "cell_type": "code",
   "execution_count": 33,
   "metadata": {},
   "outputs": [
    {
     "name": "stdout",
     "output_type": "stream",
     "text": [
      "epoch 0  | loss: 0.61286 | test_accuracy: 0.87731 |  0:01:11s\n",
      "epoch 1  | loss: 0.48734 | test_accuracy: 0.87727 |  0:02:15s\n",
      "epoch 2  | loss: 0.4286  | test_accuracy: 0.87731 |  0:03:41s\n",
      "epoch 3  | loss: 0.37945 | test_accuracy: 0.8774  |  0:04:59s\n",
      "epoch 4  | loss: 0.34294 | test_accuracy: 0.87731 |  0:06:12s\n",
      "epoch 5  | loss: 0.32534 | test_accuracy: 0.87723 |  0:07:48s\n",
      "epoch 6  | loss: 0.3137  | test_accuracy: 0.87558 |  0:09:05s\n",
      "epoch 7  | loss: 0.30458 | test_accuracy: 0.87618 |  0:10:25s\n",
      "epoch 8  | loss: 0.29685 | test_accuracy: 0.87649 |  0:12:10s\n",
      "\n",
      "Early stopping occurred at epoch 8 with best_epoch = 3 and best_test_accuracy = 0.8774\n"
     ]
    },
    {
     "name": "stderr",
     "output_type": "stream",
     "text": [
      "/Users/jaesolshin/opt/anaconda3/lib/python3.8/site-packages/pytorch_tabnet/callbacks.py:172: UserWarning: Best weights from best epoch are automatically used!\n",
      "  warnings.warn(wrn_msg)\n"
     ]
    }
   ],
   "source": [
    "# 탭넷 분류 모델 학습\n",
    "clf.fit(X_train, y_train, eval_set=[(X_test, y_test)], patience=3, max_epochs=5, eval_name=['test'], eval_metric=['accuracy'])\n",
    "roc_auc_score(y_test, y_pred_proba)"
   ]
  },
  {
   "cell_type": "code",
   "execution_count": 28,
   "metadata": {},
   "outputs": [
    {
     "data": {
      "text/plain": [
       "['model_weights.joblib']"
      ]
     },
     "execution_count": 28,
     "metadata": {},
     "output_type": "execute_result"
    }
   ],
   "source": [
    "import joblib\n",
    "\n",
    "#모델 저장\n",
    "filepath1 = \"pretrainer.joblib\"\n",
    "joblib.dump(pretrainer, filepath1)\n",
    "\n",
    "filepath2 = \"model_weights.joblib\"\n",
    "joblib.dump(clf, filepath2)"
   ]
  },
  {
   "cell_type": "code",
   "execution_count": 41,
   "metadata": {},
   "outputs": [],
   "source": [
    "#모델 로드\n",
    "filepath = \"model_weights.joblib\"\n",
    "clf_loaded = joblib.load(filepath)"
   ]
  },
  {
   "cell_type": "code",
   "execution_count": 44,
   "metadata": {},
   "outputs": [
    {
     "name": "stdout",
     "output_type": "stream",
     "text": [
      "\n",
      "Test accuracy: 0.8774011299435028\n",
      "\n",
      "Confusion Matrix:\n",
      " [[20187     0]\n",
      " [ 2821     2]]\n",
      "\n",
      "ROC AUC Score: 0.7785392990698149\n"
     ]
    }
   ],
   "source": [
    "#모델 로드\n",
    "filepath = \"model_weights.joblib\"\n",
    "clf_loaded = joblib.load(filepath)\n",
    "\n",
    "from sklearn.metrics import accuracy_score, roc_auc_score, confusion_matrix, roc_curve, auc\n",
    "\n",
    "# 모델 예측\n",
    "y_pred = clf_loaded.predict(X_test)\n",
    "\n",
    "# 모델 예측 확률\n",
    "y_pred_proba = clf_loaded.predict_proba(X_test)[:, 1]\n",
    "\n",
    "# 모델 평가\n",
    "accuracy = accuracy_score(y_test, y_pred)\n",
    "print(\"\\nTest accuracy:\", accuracy)\n",
    "\n",
    "# 혼동행렬 계산\n",
    "conf_matrix = confusion_matrix(y_test, y_pred)\n",
    "print(\"\\nConfusion Matrix:\\n\", conf_matrix)\n",
    "\n",
    "# ROC AUC 계산\n",
    "roc_auc = roc_auc_score(y_test, y_pred_proba)\n",
    "print(\"\\nROC AUC Score:\", roc_auc)"
   ]
  }
 ],
 "metadata": {
  "kernelspec": {
   "display_name": "Python 3",
   "language": "python",
   "name": "python3"
  },
  "language_info": {
   "codemirror_mode": {
    "name": "ipython",
    "version": 3
   },
   "file_extension": ".py",
   "mimetype": "text/x-python",
   "name": "python",
   "nbconvert_exporter": "python",
   "pygments_lexer": "ipython3",
   "version": "3.8.3"
  }
 },
 "nbformat": 4,
 "nbformat_minor": 2
}
