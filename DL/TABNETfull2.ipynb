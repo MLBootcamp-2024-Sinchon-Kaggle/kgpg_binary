{
 "cells": [
  {
   "cell_type": "code",
   "execution_count": 19,
   "metadata": {},
   "outputs": [],
   "source": [
    "import numpy as np\n",
    "import pandas as pd\n",
    "\n",
    "from sklearn.model_selection import train_test_split\n",
    "from sklearn.preprocessing import TargetEncoder\n",
    "from sklearn.metrics import roc_auc_score\n",
    "\n",
    "import torch\n",
    "from pytorch_tabnet.pretraining import TabNetPretrainer\n",
    "from pytorch_tabnet.tab_model import TabNetClassifier"
   ]
  },
  {
   "cell_type": "code",
   "execution_count": 20,
   "metadata": {},
   "outputs": [],
   "source": [
    "# Read the train data\n",
    "train_origin = pd.read_csv('/Users/jaesolshin/내 드라이브/2024-2/Google ML Bootcamp2024/data/playground1/train.csv')"
   ]
  },
  {
   "cell_type": "code",
   "execution_count": 35,
   "metadata": {},
   "outputs": [],
   "source": [
    "train = train_origin.set_index('id').astype(str)\n",
    "#train = train_origin.sample(frac=0.01, random_state = 42)\n",
    "#train = train.set_index('id').astype(str)\n",
    "\n",
    "X_train, X_valid = train_test_split(train, test_size=0.01, random_state=0, stratify=train['Response'])\n",
    "y_train = X_train.pop('Response')\n",
    "y_valid = X_valid.pop('Response')\n",
    "\n",
    "enc = TargetEncoder(random_state=0)\n",
    "X_train = pd.DataFrame(enc.fit_transform(X_train, y_train), index=X_train.index, columns=X_train.columns)\n",
    "X_valid = pd.DataFrame(enc.transform(X_valid), index=X_valid.index, columns=X_valid.columns)\n"
   ]
  },
  {
   "cell_type": "code",
   "execution_count": 36,
   "metadata": {},
   "outputs": [
    {
     "name": "stderr",
     "output_type": "stream",
     "text": [
      "/Users/jaesolshin/opt/anaconda3/lib/python3.8/site-packages/pytorch_tabnet/abstract_model.py:82: UserWarning: Device used : cpu\n",
      "  warnings.warn(f\"Device used : {self.device}\")\n",
      "/Users/jaesolshin/opt/anaconda3/lib/python3.8/site-packages/pytorch_tabnet/abstract_model.py:687: UserWarning: No early stopping will be performed, last training weights will be used.\n",
      "  warnings.warn(wrn_msg)\n"
     ]
    },
    {
     "name": "stdout",
     "output_type": "stream",
     "text": [
      "epoch 0  | loss: 197188.03535|  0:00:35s\n",
      "epoch 1  | loss: 1512.47923|  0:01:02s\n",
      "epoch 2  | loss: 1734.45615|  0:01:26s\n",
      "epoch 3  | loss: 628.81769|  0:01:46s\n",
      "epoch 4  | loss: 637.37872|  0:02:16s\n",
      "epoch 5  | loss: 510.30608|  0:02:39s\n",
      "epoch 6  | loss: 240.90775|  0:03:00s\n",
      "epoch 7  | loss: 290.35662|  0:03:28s\n",
      "epoch 8  | loss: 197.94813|  0:03:54s\n",
      "epoch 9  | loss: 257.16839|  0:04:24s\n"
     ]
    }
   ],
   "source": [
    "# 사전 훈련을 위한 파라미터 설정\n",
    "pretrain_params = {\n",
    "    \"optimizer_fn\": torch.optim.Adam,\n",
    "    \"optimizer_params\": dict(lr=2e-2),\n",
    "    \"mask_type\": \"entmax\",  # \"sparsemax\"\n",
    "    \"verbose\": 1\n",
    "}\n",
    "\n",
    "# 사전 훈련 모델 초기화\n",
    "pretrainer = TabNetPretrainer(**pretrain_params)\n",
    "\n",
    "# 사전 훈련 실행\n",
    "pretrainer.fit(X_train.values, max_epochs=7)"
   ]
  },
  {
   "cell_type": "code",
   "execution_count": 38,
   "metadata": {},
   "outputs": [
    {
     "name": "stderr",
     "output_type": "stream",
     "text": [
      "/Users/jaesolshin/opt/anaconda3/lib/python3.8/site-packages/pytorch_tabnet/abstract_model.py:82: UserWarning: Device used : cpu\n",
      "  warnings.warn(f\"Device used : {self.device}\")\n"
     ]
    },
    {
     "name": "stdout",
     "output_type": "stream",
     "text": [
      "epoch 0  | loss: 0.39213 | test_auc: 0.77351 |  0:00:24s\n",
      "epoch 1  | loss: 0.29332 | test_auc: 0.79266 |  0:00:48s\n",
      "epoch 2  | loss: 0.28262 | test_auc: 0.82356 |  0:01:12s\n",
      "epoch 3  | loss: 0.2774  | test_auc: 0.82987 |  0:01:37s\n",
      "epoch 4  | loss: 0.2744  | test_auc: 0.83312 |  0:01:57s\n",
      "epoch 5  | loss: 0.27284 | test_auc: 0.83485 |  0:02:16s\n",
      "epoch 6  | loss: 0.27088 | test_auc: 0.83688 |  0:02:56s\n",
      "epoch 7  | loss: 0.26986 | test_auc: 0.83785 |  0:03:48s\n",
      "epoch 8  | loss: 0.26911 | test_auc: 0.83722 |  0:04:30s\n",
      "epoch 9  | loss: 0.26808 | test_auc: 0.83778 |  0:04:48s\n",
      "epoch 10 | loss: 0.26749 | test_auc: 0.8399  |  0:05:09s\n",
      "epoch 11 | loss: 0.26675 | test_auc: 0.84093 |  0:05:27s\n",
      "epoch 12 | loss: 0.26653 | test_auc: 0.84112 |  0:05:48s\n",
      "epoch 13 | loss: 0.26618 | test_auc: 0.84256 |  0:06:04s\n",
      "epoch 14 | loss: 0.26569 | test_auc: 0.84207 |  0:06:24s\n",
      "epoch 15 | loss: 0.26565 | test_auc: 0.84115 |  0:06:43s\n",
      "epoch 16 | loss: 0.26507 | test_auc: 0.84155 |  0:07:02s\n",
      "epoch 17 | loss: 0.26486 | test_auc: 0.84482 |  0:07:22s\n",
      "epoch 18 | loss: 0.26499 | test_auc: 0.84352 |  0:07:45s\n",
      "epoch 19 | loss: 0.26438 | test_auc: 0.84554 |  0:08:05s\n",
      "epoch 20 | loss: 0.26413 | test_auc: 0.84572 |  0:08:29s\n",
      "epoch 21 | loss: 0.26379 | test_auc: 0.84516 |  0:08:51s\n",
      "epoch 22 | loss: 0.26414 | test_auc: 0.84523 |  0:09:12s\n",
      "epoch 23 | loss: 0.26398 | test_auc: 0.84775 |  0:09:35s\n",
      "epoch 24 | loss: 0.26359 | test_auc: 0.848   |  0:10:05s\n",
      "epoch 25 | loss: 0.26301 | test_auc: 0.84816 |  0:10:32s\n",
      "epoch 26 | loss: 0.26308 | test_auc: 0.84899 |  0:11:02s\n",
      "epoch 27 | loss: 0.26327 | test_auc: 0.84754 |  0:11:30s\n",
      "epoch 28 | loss: 0.26316 | test_auc: 0.84701 |  0:12:11s\n",
      "epoch 29 | loss: 0.26298 | test_auc: 0.84833 |  0:12:41s\n",
      "Stop training because you reached max_epochs = 30 with best_epoch = 26 and best_test_auc = 0.84899\n"
     ]
    },
    {
     "name": "stderr",
     "output_type": "stream",
     "text": [
      "/Users/jaesolshin/opt/anaconda3/lib/python3.8/site-packages/pytorch_tabnet/callbacks.py:172: UserWarning: Best weights from best epoch are automatically used!\n",
      "  warnings.warn(wrn_msg)\n"
     ]
    },
    {
     "data": {
      "text/plain": [
       "CompletedProcess(args=['say', '-v', 'Yuna', '모델학습이, 드디어 끝났도다'], returncode=0)"
      ]
     },
     "execution_count": 38,
     "metadata": {},
     "output_type": "execute_result"
    }
   ],
   "source": [
    "TabNet_model = TabNetClassifier(\n",
    "    optimizer_fn=torch.optim.Adam,  # 최적화 함수는 필요에 따라 설정\n",
    "    optimizer_params=dict(lr=1.5e-3),  # 학습률은 주 훈련에 맞게 조정\n",
    "    scheduler_params={\"step_size\": 10, \"gamma\": 0.8},  # 학습 스케줄러 설정\n",
    "    scheduler_fn=torch.optim.lr_scheduler.StepLR,\n",
    "    verbose=1\n",
    ")\n",
    "\n",
    "TabNet_model.fit(\n",
    "        X_train.values, y_train.values,\n",
    "        eval_set=[(X_valid.values, y_valid.values)],\n",
    "        eval_name=['test'],\n",
    "        eval_metric=['auc'],\n",
    "        max_epochs=10,  # 한 번에 한 epoch만 훈련\n",
    "        patience=3\n",
    ")\n",
    "\n",
    "#import subprocess\n",
    "#subprocess.run(['say', '-v', 'Yuna', '모델학습이, 드디어 끝났도다'])"
   ]
  },
  {
   "cell_type": "code",
   "execution_count": 30,
   "metadata": {},
   "outputs": [
    {
     "name": "stdout",
     "output_type": "stream",
     "text": [
      "Predictions saved to 'train_pred_tabnet.csv'\n"
     ]
    }
   ],
   "source": [
    "# x_train_pred 예측 생성(StackNN 학습용)\n",
    "y_train_pred = TabNet_model.predict_proba(X_train.values)[:,1]\n",
    "train_pred = pd.DataFrame({'id': X_train.index, 'Response': y_train_pred })\n",
    "\n",
    "# 예측을 CSV 파일로 저장\n",
    "train_pred .to_csv('train_pred_tabnet.csv', index=False)\n",
    "print(\"Predictions saved to 'train_pred_tabnet.csv'\")"
   ]
  },
  {
   "cell_type": "code",
   "execution_count": null,
   "metadata": {},
   "outputs": [],
   "source": [
    "#test 데이터 로드\n",
    "test_origin = pd.read_csv('/Users/jaesolshin/내 드라이브/2024-2/Google ML Bootcamp2024/data/playground1/test.csv')\n",
    "\n",
    "#인덱스 제외\n",
    "X_test = test_origin.set_index('id').astype(str)\n",
    "\n",
    "# 변수 타겟 인코딩\n",
    "X_test = pd.DataFrame(enc.transform(X_test), index=X_test.index, columns=X_test.columns)"
   ]
  },
  {
   "cell_type": "code",
   "execution_count": null,
   "metadata": {},
   "outputs": [],
   "source": [
    "# 예측 생성\n",
    "y_test_pred = TabNet_model.predict_proba(X_test.values)[:,1]\n",
    "\n",
    "# 'id'와 'Response' 열이 있는 DataFrame 생성\n",
    "submission = pd.DataFrame({'id': X_test.index, 'Response': y_test_pred})\n",
    "\n",
    "# 예측을 CSV 파일로 저장\n",
    "submission.to_csv('tabnet_predictions.csv', index=False)\n",
    "print(\"Predictions saved to 'tabnet_predictions.csv'\")"
   ]
  }
 ],
 "metadata": {
  "kernelspec": {
   "display_name": "Python 3",
   "language": "python",
   "name": "python3"
  },
  "language_info": {
   "codemirror_mode": {
    "name": "ipython",
    "version": 3
   },
   "file_extension": ".py",
   "mimetype": "text/x-python",
   "name": "python",
   "nbconvert_exporter": "python",
   "pygments_lexer": "ipython3",
   "version": "3.8.3"
  }
 },
 "nbformat": 4,
 "nbformat_minor": 2
}
