{
 "cells": [
  {
   "cell_type": "code",
   "execution_count": 1,
   "metadata": {},
   "outputs": [],
   "source": [
    "import numpy as np\n",
    "import pandas as pd\n",
    "from sklearn.model_selection import train_test_split\n",
    "from sklearn.preprocessing import TargetEncoder\n",
    "from sklearn.metrics import roc_auc_score\n",
    "import torch\n",
    "from pytorch_tabnet.tab_model import TabNetClassifier\n",
    "from pytorch_tabnet.pretraining import TabNetPretrainer"
   ]
  },
  {
   "cell_type": "code",
   "execution_count": 2,
   "metadata": {},
   "outputs": [],
   "source": [
    "# Read and split the data\n",
    "train_origin = pd.read_csv('/Users/jaesolshin/내 드라이브/2024-2/Google ML Bootcamp2024/data/playground1/train.csv')"
   ]
  },
  {
   "cell_type": "code",
   "execution_count": 3,
   "metadata": {},
   "outputs": [
    {
     "name": "stderr",
     "output_type": "stream",
     "text": [
      "/Users/jaesolshin/opt/anaconda3/lib/python3.8/site-packages/pytorch_tabnet/abstract_model.py:82: UserWarning: Device used : cpu\n",
      "  warnings.warn(f\"Device used : {self.device}\")\n",
      "/Users/jaesolshin/opt/anaconda3/lib/python3.8/site-packages/pytorch_tabnet/abstract_model.py:687: UserWarning: No early stopping will be performed, last training weights will be used.\n",
      "  warnings.warn(wrn_msg)\n"
     ]
    },
    {
     "name": "stdout",
     "output_type": "stream",
     "text": [
      "epoch 0  | loss: 0.26437 |  0:29:59s\n",
      "epoch 1  | loss: 0.25279 |  0:54:09s\n",
      "epoch 2  | loss: 0.25223 |  1:15:46s\n",
      "epoch 3  | loss: 0.25193 |  1:40:04s\n",
      "epoch 4  | loss: 0.25177 |  2:04:34s\n"
     ]
    },
    {
     "data": {
      "text/plain": [
       "0.8813685442401841"
      ]
     },
     "execution_count": 3,
     "metadata": {},
     "output_type": "execute_result"
    }
   ],
   "source": [
    "#train = train_origin.sample(frac=0.01, random_state = 42).set_index('id').astype(str)\n",
    "train = train_origin.set_index('id').astype(str)\n",
    "\n",
    "X_train, X_test = train_test_split(train, test_size=0.2, random_state=0, stratify=train['Response'])\n",
    "y_train = X_train.pop('Response')\n",
    "y_test = X_test.pop('Response')\n",
    "\n",
    "enc = TargetEncoder(random_state=0)\n",
    "X_train = pd.DataFrame(enc.fit_transform(X_train, y_train), \n",
    "                       index=X_train.index, columns=X_train.columns)\n",
    "X_test = pd.DataFrame(enc.transform(X_test), index=X_test.index, \n",
    "                      columns=X_test.columns)\n",
    "\n",
    "model = TabNetClassifier()\n",
    "model.fit(X_train.values, y_train.values,\n",
    "          batch_size=65536, max_epochs=5,\n",
    "          compute_importance=False)\n",
    "roc_auc_score(y_test, model.predict_proba(X_test.values)[:,1])\n"
   ]
  }
 ],
 "metadata": {
  "kernelspec": {
   "display_name": "Python 3",
   "language": "python",
   "name": "python3"
  },
  "language_info": {
   "codemirror_mode": {
    "name": "ipython",
    "version": 3
   },
   "file_extension": ".py",
   "mimetype": "text/x-python",
   "name": "python",
   "nbconvert_exporter": "python",
   "pygments_lexer": "ipython3",
   "version": "3.12.0"
  }
 },
 "nbformat": 4,
 "nbformat_minor": 2
}
