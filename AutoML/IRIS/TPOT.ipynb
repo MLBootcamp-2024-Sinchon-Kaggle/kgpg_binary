{
 "cells": [
  {
   "cell_type": "markdown",
   "metadata": {},
   "source": [
    "..."
   ]
  },
  {
   "cell_type": "code",
   "execution_count": 1,
   "metadata": {},
   "outputs": [
    {
     "name": "stdout",
     "output_type": "stream",
     "text": [
      "Best pipeline: KNeighborsClassifier(input_matrix, n_neighbors=18, p=1, weights=uniform)\n",
      "Test score: 1.0\n"
     ]
    }
   ],
   "source": [
    "import numpy as np\n",
    "from tpot import TPOTClassifier\n",
    "from sklearn.datasets import load_iris\n",
    "from sklearn.model_selection import train_test_split\n",
    "from sklearn.impute import SimpleImputer\n",
    "\n",
    "# 데이터 로드 및 전처리\n",
    "iris = load_iris()\n",
    "X = SimpleImputer(strategy='mean').fit_transform(iris.data)\n",
    "y = iris.target\n",
    "\n",
    "X_train, X_test, y_train, y_test = train_test_split(X, y, test_size=0.2, random_state=42)\n",
    "\n",
    "# TPOT 모델 생성 및 학습 (설정 수정)\n",
    "tpot = TPOTClassifier(\n",
    "    verbosity=1, \n",
    "    generations=3, \n",
    "    population_size=10, \n",
    "    max_time_mins=5,\n",
    "    random_state=42,\n",
    "    config_dict='TPOT light'\n",
    ")\n",
    "\n",
    "try:\n",
    "    tpot.fit(X_train, y_train)\n",
    "    print(f\"Test score: {tpot.score(X_test, y_test)}\")\n",
    "    tpot.export('best_pipeline.py')\n",
    "except Exception as e:\n",
    "    print(f\"An error occurred: {e}\")"
   ]
  }
 ],
 "metadata": {
  "kernelspec": {
   "display_name": "Python 3",
   "language": "python",
   "name": "python3"
  },
  "language_info": {
   "codemirror_mode": {
    "name": "ipython",
    "version": 3
   },
   "file_extension": ".py",
   "mimetype": "text/x-python",
   "name": "python",
   "nbconvert_exporter": "python",
   "pygments_lexer": "ipython3",
   "version": "3.12.0"
  }
 },
 "nbformat": 4,
 "nbformat_minor": 2
}
