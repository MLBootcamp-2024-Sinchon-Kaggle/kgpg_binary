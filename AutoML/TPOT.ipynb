{
 "cells": [
  {
   "cell_type": "markdown",
   "metadata": {},
   "source": [
    "..."
   ]
  },
  {
   "cell_type": "code",
   "execution_count": null,
   "metadata": {},
   "outputs": [],
   "source": [
    "import numpy as np\n",
    "import pandas as pd\n",
    "import numpy as np\n",
    "from tpot import TPOTClassifier\n",
    "from sklearn.preprocessing import MinMaxScaler\n",
    "from sklearn.model_selection import train_test_split\n",
    "from sklearn.impute import SimpleImputer\n",
    "\n",
    "# Read the data\n",
    "train_origin = pd.read_csv('/Users/jaesolshin/내 드라이브/2024-2/Google ML Bootcamp2024/data/playground1/train.csv')\n",
    "train = train_origin.sample(frac=0.01, random_state = 42)\n",
    "\n",
    "# 예측에 필요 없는 'id'와 'Annual_Premium' 변수를 드롭\n",
    "train = train.drop(columns=['id'])\n",
    "\n",
    "# 범주형 변수 인코딩\n",
    "def encoding(train):\n",
    "    gender_mapping = {'Male': 0, 'Female': 1}\n",
    "    vehicle_age_mapping = {'< 1 Year': 0, '1-2 Year': 1, '> 2 Years': 2}\n",
    "    vehicle_damage_mapping = {'No': 0, 'Yes': 1}\n",
    "\n",
    "    train['Gender'] = train['Gender'].map(gender_mapping)\n",
    "    train['Vehicle_Age'] = train['Vehicle_Age'].map(vehicle_age_mapping)\n",
    "    train['Vehicle_Damage'] = train['Vehicle_Damage'].map(vehicle_damage_mapping)\n",
    "\n",
    "    return train\n",
    "\n",
    "train = encoding(train)\n",
    "\n",
    "#수치형 변수: Annual, Region_Code, Annual_Premium, Policy_Sales_Channel, Vintage -> normalize\n",
    "scaler = MinMaxScaler()\n",
    "num_columns = ['Age', 'Region_Code', 'Annual_Premium', 'Policy_Sales_Channel', 'Vintage']\n",
    "train[num_columns] = scaler.fit_transform(train[num_columns])\n",
    "\n",
    "# XGBoost에서 발생하는 문제 해결\n",
    "train.columns = train.columns.str.replace('[', '').str.replace(']', '').str.replace('<', '')\n",
    "\n",
    "\n",
    "# 예측변수 분리 및 train, valid set 분리\n",
    "X = train.drop(['Response'], axis=1)\n",
    "y = train['Response']\n",
    "\n",
    "X_train, X_valid, y_train, y_valid = train_test_split(X, y, test_size=0.2, random_state=42)"
   ]
  },
  {
   "cell_type": "code",
   "execution_count": 15,
   "metadata": {},
   "outputs": [
    {
     "name": "stdout",
     "output_type": "stream",
     "text": [
      "\n",
      "6.16 minutes have elapsed. TPOT will close down.\n",
      "TPOT closed during evaluation in one generation.\n",
      "WARNING: TPOT may not provide a good pipeline if TPOT is stopped/interrupted in a early generation.\n",
      "\n",
      "\n",
      "TPOT closed prematurely. Will use the current best pipeline.\n",
      "Best pipeline: MultinomialNB(input_matrix, alpha=10.0, fit_prior=True)\n",
      "Test score: 0.8773142112125163\n"
     ]
    }
   ],
   "source": [
    "# TPOT 모델 생성 및 학습 (설정 수정)\n",
    "tpot = TPOTClassifier(\n",
    "    verbosity=1, \n",
    "    generations=3, \n",
    "    population_size=10, \n",
    "    max_time_mins=5,\n",
    "    random_state=42,\n",
    "    config_dict='TPOT light'\n",
    ")\n",
    "\n",
    "try:\n",
    "    tpot.fit(X_train, y_train)\n",
    "    print(f\"Test score: {tpot.score(X_valid, y_valid)}\")\n",
    "    tpot.export('best_pipeline.py')\n",
    "except Exception as e:\n",
    "    print(f\"An error occurred: {e}\")"
   ]
  }
 ],
 "metadata": {
  "kernelspec": {
   "display_name": "Python 3",
   "language": "python",
   "name": "python3"
  },
  "language_info": {
   "codemirror_mode": {
    "name": "ipython",
    "version": 3
   },
   "file_extension": ".py",
   "mimetype": "text/x-python",
   "name": "python",
   "nbconvert_exporter": "python",
   "pygments_lexer": "ipython3",
   "version": "3.12.0"
  }
 },
 "nbformat": 4,
 "nbformat_minor": 2
}
